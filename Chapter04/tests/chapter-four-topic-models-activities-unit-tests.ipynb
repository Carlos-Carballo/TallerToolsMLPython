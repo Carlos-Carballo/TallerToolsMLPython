{
 "cells": [
  {
   "cell_type": "markdown",
   "metadata": {},
   "source": [
    "### Chapter 4 Activity Unit Tests"
   ]
  },
  {
   "cell_type": "markdown",
   "metadata": {},
   "source": [
    "##### Activity 4.01 Unit Test"
   ]
  },
  {
   "cell_type": "code",
   "execution_count": null,
   "metadata": {},
   "outputs": [],
   "source": [
    "def unittest_activity_4_01(predicted):\n",
    "    # testing presence of df\n",
    "    try:\n",
    "        df\n",
    "    except NameError:\n",
    "        print(\"No dataframe present.\")\n",
    "    \n",
    "    # testing expected length of clean sentences\n",
    "    actualCnt = 4093\n",
    "    predictedCnt = len(predicted)\n",
    "    assert actualCnt == predictedCnt, \"List lengths not equal.\"\n",
    "\n",
    "unittest_activity_4_01(predicted=clean_sentences)"
   ]
  },
  {
   "cell_type": "markdown",
   "metadata": {},
   "source": [
    "##### Activity 4.02 Unit Test"
   ]
  },
  {
   "cell_type": "code",
   "execution_count": null,
   "metadata": {},
   "outputs": [],
   "source": [
    "def unittest_activity_4_02(num_topics):\n",
    "    # testing optimal number of topics\n",
    "    assert num_topics == 2, \"Number of optimal topics wrong.\"\n",
    "    \n",
    "    # testing presence of lda model\n",
    "    try:\n",
    "        lda\n",
    "    except:\n",
    "        print(\"No lda model defined.\")\n",
    "        \n",
    "    # testing presence of W_df\n",
    "    try:\n",
    "        W_df\n",
    "    except:\n",
    "        print(\"No W_df defined.\")\n",
    "        \n",
    "    # testing presence of H_df\n",
    "    try:\n",
    "        H_df\n",
    "    except:\n",
    "        print(\"No H_df defined.\")\n",
    "\n",
    "unittest_activity_4_02(num_topics=optimal_num_topics)"
   ]
  },
  {
   "cell_type": "markdown",
   "metadata": {},
   "source": [
    "##### Activity 4.03 Unit Test"
   ]
  },
  {
   "cell_type": "code",
   "execution_count": null,
   "metadata": {},
   "outputs": [],
   "source": [
    "def unittest_activity_4_03():\n",
    "    # testing presence of lda model\n",
    "    try:\n",
    "        nmf\n",
    "    except:\n",
    "        print(\"No lda model defined.\")\n",
    "        \n",
    "    # testing presence of W_df\n",
    "    try:\n",
    "        W_df\n",
    "    except:\n",
    "        print(\"No W_df defined.\")\n",
    "        \n",
    "    # testing presence of H_df\n",
    "    try:\n",
    "        H_df\n",
    "    except:\n",
    "        print(\"No H_df defined.\")\n",
    "\n",
    "unittest_activity_4_03()"
   ]
  }
 ],
 "metadata": {
  "kernelspec": {
   "display_name": "Python 3",
   "language": "python",
   "name": "python3"
  },
  "language_info": {
   "codemirror_mode": {
    "name": "ipython",
    "version": 3
   },
   "file_extension": ".py",
   "mimetype": "text/x-python",
   "name": "python",
   "nbconvert_exporter": "python",
   "pygments_lexer": "ipython3",
   "version": "3.7.4"
  }
 },
 "nbformat": 4,
 "nbformat_minor": 2
}
