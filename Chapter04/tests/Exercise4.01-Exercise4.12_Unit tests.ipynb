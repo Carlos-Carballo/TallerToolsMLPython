{
 "cells": [
  {
   "cell_type": "markdown",
   "metadata": {},
   "source": [
    "### Chapter 4 Exercise Unit Tests"
   ]
  },
  {
   "cell_type": "code",
   "execution_count": null,
   "metadata": {},
   "outputs": [],
   "source": [
    "import sys"
   ]
  },
  {
   "cell_type": "markdown",
   "metadata": {},
   "source": [
    "##### Exercise 4.01 Unit Test"
   ]
  },
  {
   "cell_type": "code",
   "execution_count": null,
   "metadata": {},
   "outputs": [],
   "source": [
    "def unittest_exercise_4_01(libs):\n",
    "    for l in libs:\n",
    "        if not l in sys.modules:\n",
    "            raise ValueError(\"The {} module is not installed.\".format(l))\n",
    "\n",
    "list_libraries=[\"warnings\", \"langdetect\", \"matplotlib.pyplot\", \"nltk\", \"numpy\", \n",
    "                \"pandas\", \"pyLDAvis\", \"pyLDAvis.sklearn\", \"regex\", \"sklearn\"]\n",
    "unittest_exercise_4_01(libs=list_libraries)"
   ]
  },
  {
   "cell_type": "markdown",
   "metadata": {},
   "source": [
    "##### Exercise 4.02 Unit Test"
   ]
  },
  {
   "cell_type": "code",
   "execution_count": null,
   "metadata": {},
   "outputs": [],
   "source": [
    "def unittest_exercise_4_02():\n",
    "    try:\n",
    "        df\n",
    "    except NameError:\n",
    "        print(\"No dataframe present.\")\n",
    "\n",
    "unittest_exercise_4_02()"
   ]
  },
  {
   "cell_type": "markdown",
   "metadata": {},
   "source": [
    "##### Exercise 4.03 Unit Test"
   ]
  },
  {
   "cell_type": "code",
   "execution_count": null,
   "metadata": {},
   "outputs": [],
   "source": [
    "def unittest_exercise_4_03(predicted):\n",
    "    actual = ['attendee', 'expect', 'latest', 'version', 'microsoft', \n",
    "              'dynamics', 'dynamics', 'prweb', 'february', 'story']\n",
    "    assert actual == predicted, \"Inputted list does not match expected list.\"\n",
    "\n",
    "unittest_exercise_4_03(predicted=example)"
   ]
  },
  {
   "cell_type": "markdown",
   "metadata": {},
   "source": [
    "##### Exercise 4.04 Unit Test"
   ]
  },
  {
   "cell_type": "code",
   "execution_count": null,
   "metadata": {},
   "outputs": [],
   "source": [
    "def unittest_exercise_4_04(predicted):\n",
    "    actualCnt = 92948\n",
    "    predictedCnt = len(predicted)\n",
    "    assert actualCnt == predictedCnt, \"List lengths not equal.\"\n",
    "\n",
    "unittest_exercise_4_04(predicted=clean_sentences)"
   ]
  },
  {
   "cell_type": "markdown",
   "metadata": {},
   "source": [
    "##### Exercise 4.05 Unit Test"
   ]
  },
  {
   "cell_type": "code",
   "execution_count": null,
   "metadata": {},
   "outputs": [],
   "source": [
    "def unittest_exercise_4_05(num_feats, vectorized):\n",
    "    actualCnt = num_feats\n",
    "    predictedCnt = len(vectorized)\n",
    "    assert actualCnt == predictedCnt, \"Size of count vectorizer not correct.\"\n",
    "\n",
    "unittest_exercise_4_05(num_feats=number_features, vectorized=feature_names_vec1)"
   ]
  },
  {
   "cell_type": "markdown",
   "metadata": {},
   "source": [
    "##### Exercise 4.06 Unit Test"
   ]
  },
  {
   "cell_type": "code",
   "execution_count": null,
   "metadata": {},
   "outputs": [],
   "source": [
    "def unittest_exercise_4_06(predicted):\n",
    "    actual = 3\n",
    "    assert actual == predicted, \"Incorrect number of topics.\"\n",
    "\n",
    "unittest_exercise_4_06(predicted=optimal_num_topics)"
   ]
  },
  {
   "cell_type": "markdown",
   "metadata": {},
   "source": [
    "##### Exercise 4.07 Unit Test"
   ]
  },
  {
   "cell_type": "code",
   "execution_count": null,
   "metadata": {},
   "outputs": [],
   "source": [
    "def unittest_exercise_4_07(output):\n",
    "    # dimensions of output\n",
    "    output_shape = output.shape\n",
    "    assert (92948, 3) == output_shape, \"Dimensions of output incorrect.\"\n",
    "    \n",
    "    # testing presence of W_df\n",
    "    try:\n",
    "        W_df\n",
    "    except NameError:\n",
    "        print(\"No W_df present.\")\n",
    "    \n",
    "    # testing presence of H_df\n",
    "    try:\n",
    "        H_df\n",
    "    except NameError:\n",
    "        print(\"No H_df present.\")\n",
    "\n",
    "unittest_exercise_4_07(output=lda_transform)"
   ]
  },
  {
   "cell_type": "markdown",
   "metadata": {},
   "source": [
    "##### Exercise 4.08 Unit Test"
   ]
  },
  {
   "cell_type": "code",
   "execution_count": null,
   "metadata": {},
   "outputs": [],
   "source": [
    "def unittest_exercise_4_08():\n",
    "    # test for presence of lda_plot\n",
    "    try:\n",
    "        lda_plot\n",
    "    except:\n",
    "        print(\"LDA plot did not form correctly.\")\n",
    "\n",
    "unittest_exercise_4_08()"
   ]
  },
  {
   "cell_type": "markdown",
   "metadata": {},
   "source": [
    "##### Exercise 4.09 Unit Test"
   ]
  },
  {
   "cell_type": "code",
   "execution_count": null,
   "metadata": {},
   "outputs": [],
   "source": [
    "def unittest_exercise_4_09():\n",
    "    # testing presence of W_df4\n",
    "    try:\n",
    "        W_df4\n",
    "    except NameError:\n",
    "        print(\"No W_df4 present.\")\n",
    "    \n",
    "    # testing presence of H_df4\n",
    "    try:\n",
    "        H_df4\n",
    "    except NameError:\n",
    "        print(\"No H_df4 present.\")\n",
    "        \n",
    "    # test for presence of lda4_plot\n",
    "    try:\n",
    "        lda4_plot\n",
    "    except:\n",
    "        print(\"LDA4 plot did not form correctly.\")\n",
    "\n",
    "unittest_exercise_4_09()"
   ]
  },
  {
   "cell_type": "markdown",
   "metadata": {},
   "source": [
    "##### Exercise 4.10 Unit Test"
   ]
  },
  {
   "cell_type": "code",
   "execution_count": null,
   "metadata": {},
   "outputs": [],
   "source": [
    "def unittest_exercise_4_10(num_feats, vectorized):\n",
    "    actualCnt = num_feats\n",
    "    predictedCnt = len(vectorized)\n",
    "    assert actualCnt == predictedCnt, \"Size of tfidf vectorizer not correct.\"\n",
    "\n",
    "unittest_exercise_4_10(num_feats=number_features, vectorized=feature_names_vec2)"
   ]
  },
  {
   "cell_type": "markdown",
   "metadata": {},
   "source": [
    "##### Exercise 4.11 Unit Test"
   ]
  },
  {
   "cell_type": "code",
   "execution_count": null,
   "metadata": {},
   "outputs": [],
   "source": [
    "def unittest_exercise_4_11(output):\n",
    "    # testing presence of nmf model\n",
    "    try:\n",
    "        nmf\n",
    "    except:\n",
    "        print(\"Non-negative matrix factorization non-existent.\")\n",
    "    \n",
    "    # testing presence of W_df\n",
    "    try:\n",
    "        W_df\n",
    "    except NameError:\n",
    "        print(\"No W_df present.\")\n",
    "    \n",
    "    # testing presence of H_df\n",
    "    try:\n",
    "        H_df\n",
    "    except NameError:\n",
    "        print(\"No H_df present.\")\n",
    "\n",
    "unittest_exercise_4_11(output=lda_transform)"
   ]
  },
  {
   "cell_type": "markdown",
   "metadata": {},
   "source": [
    "##### Exercise 4.12 Unit Test"
   ]
  },
  {
   "cell_type": "code",
   "execution_count": null,
   "metadata": {},
   "outputs": [],
   "source": [
    "def unittest_exercise_4_12(output):\n",
    "    # dimensions of output\n",
    "    output_shape = output.shape\n",
    "    assert (92948, 4) == output_shape, \"Dimensions of output incorrect.\"\n",
    "\n",
    "unittest_exercise_4_12(output=nmf_transform)"
   ]
  }
 ],
 "metadata": {
  "kernelspec": {
   "display_name": "Python 3",
   "language": "python",
   "name": "python3"
  },
  "language_info": {
   "codemirror_mode": {
    "name": "ipython",
    "version": 3
   },
   "file_extension": ".py",
   "mimetype": "text/x-python",
   "name": "python",
   "nbconvert_exporter": "python",
   "pygments_lexer": "ipython3",
   "version": "3.7.4"
  }
 },
 "nbformat": 4,
 "nbformat_minor": 2
}
