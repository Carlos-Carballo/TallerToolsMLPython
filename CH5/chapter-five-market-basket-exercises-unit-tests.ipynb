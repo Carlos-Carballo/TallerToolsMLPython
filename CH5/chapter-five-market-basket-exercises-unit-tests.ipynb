{
 "cells": [
  {
   "cell_type": "markdown",
   "metadata": {},
   "source": [
    "### Chapter 5 Exercise Unit Tests"
   ]
  },
  {
   "cell_type": "code",
   "execution_count": null,
   "metadata": {},
   "outputs": [],
   "source": [
    "from collections import OrderedDict"
   ]
  },
  {
   "cell_type": "markdown",
   "metadata": {},
   "source": [
    "##### Exercise 5.01 Unit Test"
   ]
  },
  {
   "cell_type": "code",
   "execution_count": null,
   "metadata": {},
   "outputs": [],
   "source": [
    "def unittest_exercise_5_01(data):\n",
    "    assert len(data) == 10, \"List length wrong\"\n",
    "    assert sum([len(l) for l in data]) == 81, \"Sublist length wrong\"\n",
    "\n",
    "unittest_exercise_5_01(data=example)"
   ]
  },
  {
   "cell_type": "markdown",
   "metadata": {},
   "source": [
    "##### Exercise 5.02 Unit Test"
   ]
  },
  {
   "cell_type": "code",
   "execution_count": null,
   "metadata": {},
   "outputs": [],
   "source": [
    "def unittest_exercise_5_02(pred_dict):\n",
    "    pred_dict_order = OrderedDict(pred_dict.items())\n",
    "    \n",
    "    actual_dict = {\n",
    "        \"Support\":0.4, \"Confidence\":0.5714, \n",
    "        \"Lift\":1.1429, \"Leverage\":0.05, \n",
    "        \"Conviction\":1.1667\n",
    "    }\n",
    "    actual_dict_order = OrderedDict(actual_dict.items())\n",
    "    \n",
    "    assert pred_dict_order == actual_dict_order, \"Wrong metric values\"\n",
    "\n",
    "pred_dict = {\n",
    "    \"Support\":round(support,4), \"Confidence\":round(confidence,4), \n",
    "    \"Lift\":round(lift,4), \"Leverage\":round(leverage,4), \n",
    "    \"Conviction\":round(conviction,4)\n",
    "}\n",
    "unittest_exercise_5_02(pred_dict=pred_dict)"
   ]
  },
  {
   "cell_type": "markdown",
   "metadata": {},
   "source": [
    "##### Exercise 5.03 Unit Test"
   ]
  },
  {
   "cell_type": "code",
   "execution_count": null,
   "metadata": {},
   "outputs": [],
   "source": [
    "def unittest_exercise_5_03(df):\n",
    "    df_shape = df.shape\n",
    "    invoice_nunique = df.InvoiceNo.nunique()\n",
    "    customer_nunique = df.CustomerID.nunique()\n",
    "    assert df_shape == (541909, 8), \"Dimension wrong\"\n",
    "    assert invoice_nunique == 25900, \"N-unique invoice no wrong\"\n",
    "    assert customer_nunique == 4372, \"N-unique customer wrong\"\n",
    "\n",
    "unittest_exercise_5_03(df=online)"
   ]
  },
  {
   "cell_type": "markdown",
   "metadata": {},
   "source": [
    "##### Exercise 5.04 Unit Test"
   ]
  },
  {
   "cell_type": "code",
   "execution_count": null,
   "metadata": {},
   "outputs": [],
   "source": [
    "def unittest_exercise_5_04(data):\n",
    "    assert len(data) == 5000, \"List length wrong\"\n",
    "    assert sum([len(l) for l in data]) == 133313, \"Sublist length wrong\"\n",
    "\n",
    "unittest_exercise_5_04(data=invoice_item_list)"
   ]
  },
  {
   "cell_type": "markdown",
   "metadata": {},
   "source": [
    "##### Exercise 5.05 Unit Test"
   ]
  },
  {
   "cell_type": "code",
   "execution_count": null,
   "metadata": {},
   "outputs": [],
   "source": [
    "def unittest_exercise_5_05(df):\n",
    "    df_shape = df.shape\n",
    "    assert df_shape == (5000, 3136), \"Dimension mismatch\"\n",
    "    \n",
    "    unique_vals = list(set(df.nunique().values.tolist()))[0]\n",
    "    assert unique_vals == 2, \"Too many unique values\"\n",
    "\n",
    "unittest_exercise_5_05(df=online_encoder_df)"
   ]
  },
  {
   "cell_type": "markdown",
   "metadata": {},
   "source": [
    "##### Exercise 5.06 Unit Test"
   ]
  },
  {
   "cell_type": "code",
   "execution_count": null,
   "metadata": {},
   "outputs": [],
   "source": [
    "def unittest_exercise_5_06(df):\n",
    "    df_shape = df.shape\n",
    "    assert df_shape == (2976, 3), \"Dimension mismatch\"\n",
    "    \n",
    "    df_filt_shape = df[(df['length'] == 2) \n",
    "                       & (df['support'] >= 0.02) \n",
    "                       & (df['support'] < 0.021)].shape\n",
    "    assert df_filt_shape == (18, 3), \"Filtered dimension mismatch\"\n",
    "\n",
    "unittest_exercise_5_06(df=mod_colnames_minsupport)"
   ]
  },
  {
   "cell_type": "markdown",
   "metadata": {},
   "source": [
    "##### Exercise 5.07 Unit Test"
   ]
  },
  {
   "cell_type": "code",
   "execution_count": null,
   "metadata": {},
   "outputs": [],
   "source": [
    "def unittest_exercise_5_07(df1, df2):\n",
    "    dfs = {\"df1\":[df1, 1064, (2.15, 74.51)], \n",
    "           \"df2\":[df2, 170, (2.35, 57.18)]}\n",
    "    \n",
    "    for k,v in dfs.items():\n",
    "        \n",
    "        df_shape = v[0].shape[0]\n",
    "        assert df_shape == v[1], \"Dimension mismatch\"\n",
    "    \n",
    "        vals = v[0][numpy.isfinite(v[0]['conviction'])].conviction.values\n",
    "        vmin = round(numpy.min(vals), 2)\n",
    "        vmax = round(numpy.max(vals), 2)\n",
    "        assert (vmin, vmax) == v[2], \"Conviction incorrect\"\n",
    "\n",
    "unittest_exercise_5_07(df1=rules, df2=rules2)"
   ]
  }
 ],
 "metadata": {
  "kernelspec": {
   "display_name": "Python 3",
   "language": "python",
   "name": "python3"
  },
  "language_info": {
   "codemirror_mode": {
    "name": "ipython",
    "version": 3
   },
   "file_extension": ".py",
   "mimetype": "text/x-python",
   "name": "python",
   "nbconvert_exporter": "python",
   "pygments_lexer": "ipython3",
   "version": "3.7.4"
  }
 },
 "nbformat": 4,
 "nbformat_minor": 2
}
