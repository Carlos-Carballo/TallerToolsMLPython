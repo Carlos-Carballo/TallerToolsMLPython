{
 "cells": [
  {
   "cell_type": "markdown",
   "metadata": {},
   "source": [
    "### Chapter 5 Activity Unit Tests"
   ]
  },
  {
   "cell_type": "markdown",
   "metadata": {},
   "source": [
    "##### Activity 5.01 Unit Test"
   ]
  },
  {
   "cell_type": "code",
   "execution_count": null,
   "metadata": {},
   "outputs": [],
   "source": [
    "def unittest_activity_5_01(df):\n",
    "    df_shape = df.shape\n",
    "    assert df_shape == (20136, 4077), \"Dimension mismatch\"\n",
    "    \n",
    "    unique_vals = list(set(df.nunique().values.tolist()))[0]\n",
    "    assert unique_vals == 2, \"Too many unique values\"\n",
    "\n",
    "unittest_activity_5_01(df=online_encoder_df)"
   ]
  },
  {
   "cell_type": "markdown",
   "metadata": {},
   "source": [
    "##### Activity 5.02 Unit Test"
   ]
  },
  {
   "cell_type": "code",
   "execution_count": null,
   "metadata": {},
   "outputs": [],
   "source": [
    "def unittest_activity_5_02(df):\n",
    "    df_shape = df.shape\n",
    "    assert df_shape == (1854, 3), \"Dimension mismatch\"\n",
    "    \n",
    "    df_filt_shape = df[(df['length'] == 2) \n",
    "                       & (df['support'] >= 0.02) \n",
    "                       & (df['support'] < 0.021)].shape\n",
    "    assert df_filt_shape == (17, 3), \"Filtered dimension mismatch\"\n",
    "\n",
    "unittest_activity_5_02(df=mod_colnames_minsupport)"
   ]
  },
  {
   "cell_type": "markdown",
   "metadata": {},
   "source": [
    "##### Activity 5.03 Unit Test"
   ]
  },
  {
   "cell_type": "code",
   "execution_count": null,
   "metadata": {},
   "outputs": [],
   "source": [
    "def unittest_activity_5_03(df):\n",
    "    df_shape = df.shape\n",
    "    assert df_shape == (498, 9), \"Dimension mismatch\"\n",
    "    \n",
    "    vals = df[numpy.isfinite(df['conviction'])].conviction.values\n",
    "    vmin = round(numpy.min(vals), 2)\n",
    "    vmax = round(numpy.max(vals), 2)\n",
    "    assert (vmin, vmax) == (2.25, 23.37), \"Conviction incorrect\"\n",
    "\n",
    "unittest_activity_5_03(df=rules)"
   ]
  }
 ],
 "metadata": {
  "kernelspec": {
   "display_name": "Python 3",
   "language": "python",
   "name": "python3"
  },
  "language_info": {
   "codemirror_mode": {
    "name": "ipython",
    "version": 3
   },
   "file_extension": ".py",
   "mimetype": "text/x-python",
   "name": "python",
   "nbconvert_exporter": "python",
   "pygments_lexer": "ipython3",
   "version": "3.7.4"
  }
 },
 "nbformat": 4,
 "nbformat_minor": 2
}
