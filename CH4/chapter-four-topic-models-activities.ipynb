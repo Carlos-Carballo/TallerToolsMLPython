{
 "cells": [
  {
   "cell_type": "markdown",
   "metadata": {},
   "source": [
    "# CH. 4 - TOPIC MODELS\n",
    "## Activities"
   ]
  },
  {
   "cell_type": "markdown",
   "metadata": {},
   "source": [
    "#### Activity 1"
   ]
  },
  {
   "cell_type": "code",
   "execution_count": 1,
   "metadata": {},
   "outputs": [],
   "source": [
    "# not necessary\n",
    "# added to suppress warnings coming from pyLDAvis\n",
    "\n",
    "import warnings\n",
    "warnings.filterwarnings('ignore')"
   ]
  },
  {
   "cell_type": "code",
   "execution_count": 2,
   "metadata": {},
   "outputs": [],
   "source": [
    "import langdetect  # language detection\n",
    "import matplotlib.pyplot  # plotting\n",
    "import nltk  # natural language processing\n",
    "import numpy  # arrays and matrices\n",
    "import pandas  # dataframes\n",
    "import pyLDAvis  # plotting\n",
    "import pyLDAvis.sklearn  # plotting\n",
    "import regex  # regular expressions\n",
    "import sklearn  # machine learning"
   ]
  },
  {
   "cell_type": "code",
   "execution_count": 5,
   "metadata": {},
   "outputs": [],
   "source": [
    "# define path\n",
    "\n",
    "path = '~/Documents/packt-data/topic-model-health-tweets/latimeshealth.txt'"
   ]
  },
  {
   "cell_type": "code",
   "execution_count": 6,
   "metadata": {},
   "outputs": [],
   "source": [
    "# load data\n",
    "\n",
    "df = pandas.read_csv(path, sep=\"|\", header=None)\n",
    "df.columns = [\"id\", \"datetime\", \"tweettext\"]"
   ]
  },
  {
   "cell_type": "code",
   "execution_count": 7,
   "metadata": {},
   "outputs": [],
   "source": [
    "# define quick look function for data frame\n",
    "\n",
    "def dataframe_quick_look(df, nrows):\n",
    "    print(\"SHAPE:\\n{shape}\\n\".format(shape=df.shape))\n",
    "    print(\"COLUMN NAMES:\\n{names}\\n\".format(names=df.columns))\n",
    "    print(\"HEAD:\\n{head}\\n\".format(head=df.head(nrows)))"
   ]
  },
  {
   "cell_type": "code",
   "execution_count": 8,
   "metadata": {},
   "outputs": [
    {
     "name": "stdout",
     "output_type": "stream",
     "text": [
      "SHAPE:\n",
      "(4171, 3)\n",
      "\n",
      "COLUMN NAMES:\n",
      "Index(['id', 'datetime', 'tweettext'], dtype='object')\n",
      "\n",
      "HEAD:\n",
      "                   id                        datetime  \\\n",
      "0  576760256031682561  Sat Mar 14 15:02:15 +0000 2015   \n",
      "1  576715414811471872  Sat Mar 14 12:04:04 +0000 2015   \n",
      "\n",
      "                                           tweettext  \n",
      "0  Five new running shoes that aim to go the extr...  \n",
      "1  Gym Rat: Disq class at Crunch is intense worko...  \n",
      "\n"
     ]
    }
   ],
   "source": [
    "dataframe_quick_look(df, nrows=2)"
   ]
  },
  {
   "cell_type": "code",
   "execution_count": 9,
   "metadata": {},
   "outputs": [
    {
     "name": "stdout",
     "output_type": "stream",
     "text": [
      "HEADLINES:\n",
      "['Five new running shoes that aim to go the extra mile http://lat.ms/1ELp3wU', 'Gym Rat: Disq class at Crunch is intense workout on pulley system http://lat.ms/1EKOFdr', 'Noshing through thousands of ideas at Natural Products Expo West http://lat.ms/1EHqywg', 'Natural Products Expo also explores beauty, supplements and more http://lat.ms/1EHqyfE', 'Free Fitness Weekends in South Bay beach cities aim to spark activity http://lat.ms/1EH3SMC']\n",
      "\n",
      "LENGTH:\n",
      "4171\n",
      "\n"
     ]
    }
   ],
   "source": [
    "# view final data that will be carried forward\n",
    "\n",
    "raw = df['tweettext'].tolist()\n",
    "print(\"HEADLINES:\\n{lines}\\n\".format(lines=raw[:5]))\n",
    "print(\"LENGTH:\\n{length}\\n\".format(length=len(raw)))"
   ]
  },
  {
   "cell_type": "code",
   "execution_count": 10,
   "metadata": {},
   "outputs": [],
   "source": [
    "# define function for checking language of tweets\n",
    "# filter to english only\n",
    "\n",
    "def do_language_identifying(txt):\n",
    "    try:\n",
    "       the_language = langdetect.detect(txt)\n",
    "    except:\n",
    "       the_language = 'none'\n",
    "    return the_language"
   ]
  },
  {
   "cell_type": "code",
   "execution_count": 11,
   "metadata": {},
   "outputs": [],
   "source": [
    "# define function to perform lemmatization\n",
    "\n",
    "def do_lemmatizing(wrd):\n",
    "    out = nltk.corpus.wordnet.morphy(wrd)\n",
    "    return (wrd if out is None else out)"
   ]
  },
  {
   "cell_type": "code",
   "execution_count": 12,
   "metadata": {},
   "outputs": [],
   "source": [
    "# define function to cleaning tweet data\n",
    "\n",
    "def do_tweet_cleaning(txt):\n",
    "    # identify language of tweet\n",
    "    # return null if language not english\n",
    "    lg = do_language_identifying(txt)\n",
    "    if lg != 'en':\n",
    "        return None\n",
    "    \n",
    "    # split the string on whitespace\n",
    "    out = txt.split(' ')\n",
    "    \n",
    "    # identify screen names\n",
    "    # replace with SCREENNAME\n",
    "    out = ['SCREENNAME' if i.startswith('@') else i for i in out]\n",
    "    \n",
    "    # identify urls\n",
    "    # replace with URL\n",
    "    out = [\n",
    "        'URL' if bool(regex.search('http[s]?://', i)) \n",
    "        else i for i in out\n",
    "    ]\n",
    "    \n",
    "    # remove all punctuation\n",
    "    out = [regex.sub('[^\\\\w\\\\s]|\\n', '', i) for i in out]\n",
    "    \n",
    "    # make all non-keywords lowercase\n",
    "    keys = ['SCREENNAME', 'URL']\n",
    "    out = [i.lower() if i not in keys else i for i in out]\n",
    "    \n",
    "    # remove keywords\n",
    "    out = [i for i in out if i not in keys]\n",
    "    \n",
    "    # remove stopwords\n",
    "    list_stop_words = nltk.corpus.stopwords.words('english')\n",
    "    list_stop_words = [regex.sub('[^\\\\w\\\\s]', '', i) for i in list_stop_words]\n",
    "    \n",
    "    out = [i for i in out if i not in list_stop_words]\n",
    "    \n",
    "    # lemmatizing\n",
    "    out = [do_lemmatizing(i) for i in out]\n",
    "    \n",
    "    # keep words 4 or more characters long\n",
    "    out = [i for i in out if len(i) >= 5]\n",
    "    \n",
    "    return out"
   ]
  },
  {
   "cell_type": "code",
   "execution_count": 13,
   "metadata": {},
   "outputs": [],
   "source": [
    "# apply cleaning function to every tweet\n",
    "\n",
    "clean = list(map(do_tweet_cleaning, raw))"
   ]
  },
  {
   "cell_type": "code",
   "execution_count": 14,
   "metadata": {},
   "outputs": [
    {
     "name": "stdout",
     "output_type": "stream",
     "text": [
      "HEADLINES:\n",
      "[['running', 'shoes', 'extra'], ['class', 'crunch', 'intense', 'workout', 'pulley', 'system'], ['thousand', 'natural', 'product'], ['natural', 'product', 'explore', 'beauty', 'supplement'], ['fitness', 'weekend', 'south', 'beach', 'spark', 'activity']]\n",
      "\n",
      "LENGTH:\n",
      "4093\n",
      "\n"
     ]
    }
   ],
   "source": [
    "# remove none types\n",
    "\n",
    "clean = list(filter(None.__ne__, clean))\n",
    "print(\"HEADLINES:\\n{lines}\\n\".format(lines=clean[:5]))\n",
    "print(\"LENGTH:\\n{length}\\n\".format(length=len(clean)))"
   ]
  },
  {
   "cell_type": "code",
   "execution_count": 15,
   "metadata": {},
   "outputs": [],
   "source": [
    "# turn tokens back into strings\n",
    "# concatenate using whitespaces\n",
    "\n",
    "clean_sentences = [\" \".join(i) for i in clean]"
   ]
  },
  {
   "cell_type": "code",
   "execution_count": 16,
   "metadata": {},
   "outputs": [
    {
     "name": "stdout",
     "output_type": "stream",
     "text": [
      "['running shoes extra', 'class crunch intense workout pulley system', 'thousand natural product', 'natural product explore beauty supplement', 'fitness weekend south beach spark activity', 'kayla harrison sacrifice', 'sonic treatment alzheimers disease', 'ultrasound brain restore memory alzheimers needle onlyso farin mouse', 'apple researchkit really medical research', 'warning chantix drink taking might remember']\n"
     ]
    }
   ],
   "source": [
    "print(clean_sentences[0:10])"
   ]
  },
  {
   "cell_type": "markdown",
   "metadata": {},
   "source": [
    "#### Activity 2"
   ]
  },
  {
   "cell_type": "code",
   "execution_count": 17,
   "metadata": {},
   "outputs": [],
   "source": [
    "# define global variables\n",
    "\n",
    "number_words = 10\n",
    "number_docs = 10\n",
    "number_features = 1000"
   ]
  },
  {
   "cell_type": "code",
   "execution_count": 18,
   "metadata": {},
   "outputs": [
    {
     "name": "stdout",
     "output_type": "stream",
     "text": [
      "  (0, 321)\t1\n"
     ]
    }
   ],
   "source": [
    "# bag of words conversion\n",
    "# count vectorizer (raw counts)\n",
    "\n",
    "vectorizer1 = sklearn.feature_extraction.text.CountVectorizer(\n",
    "    analyzer=\"word\",\n",
    "    max_df=0.95, \n",
    "    min_df=10, \n",
    "    max_features=number_features\n",
    ")\n",
    "clean_vec1 = vectorizer1.fit_transform(clean_sentences)\n",
    "print(clean_vec1[0])\n",
    "\n",
    "feature_names_vec1 = vectorizer1.get_feature_names()"
   ]
  },
  {
   "cell_type": "code",
   "execution_count": 19,
   "metadata": {},
   "outputs": [],
   "source": [
    "# define function to calculate perplexity based on number of topics\n",
    "\n",
    "def perplexity_by_ntopic(data, ntopics):\n",
    "    output_dict = {\n",
    "        \"Number Of Topics\": [], \n",
    "        \"Perplexity Score\": []\n",
    "    }\n",
    "    \n",
    "    for t in ntopics:\n",
    "        lda = sklearn.decomposition.LatentDirichletAllocation(\n",
    "            n_components=t,\n",
    "            learning_method=\"online\",\n",
    "            random_state=0\n",
    "        )\n",
    "        lda.fit(data)\n",
    "        \n",
    "        output_dict[\"Number Of Topics\"].append(t)\n",
    "        output_dict[\"Perplexity Score\"].append(lda.perplexity(data))\n",
    "        \n",
    "    output_df = pandas.DataFrame(output_dict)\n",
    "    \n",
    "    index_min_perplexity = output_df[\"Perplexity Score\"].idxmin()\n",
    "    output_num_topics = output_df.loc[\n",
    "        index_min_perplexity,  # index\n",
    "        \"Number Of Topics\"  # column\n",
    "    ]\n",
    "        \n",
    "    return (output_df, output_num_topics)"
   ]
  },
  {
   "cell_type": "code",
   "execution_count": 20,
   "metadata": {},
   "outputs": [],
   "source": [
    "# execute function on vector of numbers of topics\n",
    "# takes several minutes\n",
    "\n",
    "df_perplexity, optimal_num_topics = perplexity_by_ntopic(\n",
    "    clean_vec1, \n",
    "    ntopics=[i for i in range(1, 21) if i % 2 == 0]\n",
    ")"
   ]
  },
  {
   "cell_type": "code",
   "execution_count": 21,
   "metadata": {},
   "outputs": [
    {
     "name": "stdout",
     "output_type": "stream",
     "text": [
      "   Number Of Topics  Perplexity Score\n",
      "0                 2        352.529190\n",
      "1                 4        406.377785\n",
      "2                 6        435.641900\n",
      "3                 8        456.371887\n",
      "4                10        481.002936\n",
      "5                12        486.622771\n",
      "6                14        510.467910\n",
      "7                16        507.923273\n",
      "8                18        540.964044\n",
      "9                20        534.081098\n"
     ]
    }
   ],
   "source": [
    "print(df_perplexity)"
   ]
  },
  {
   "cell_type": "code",
   "execution_count": 22,
   "metadata": {},
   "outputs": [
    {
     "data": {
      "text/plain": [
       "LatentDirichletAllocation(batch_size=128, doc_topic_prior=None,\n",
       "                          evaluate_every=-1, learning_decay=0.7,\n",
       "                          learning_method='online', learning_offset=10.0,\n",
       "                          max_doc_update_iter=100, max_iter=10,\n",
       "                          mean_change_tol=0.001, n_components=2, n_jobs=None,\n",
       "                          perp_tol=0.1, random_state=0, topic_word_prior=None,\n",
       "                          total_samples=1000000.0, verbose=0)"
      ]
     },
     "execution_count": 22,
     "metadata": {},
     "output_type": "execute_result"
    }
   ],
   "source": [
    "# define and fit lda model\n",
    "\n",
    "lda = sklearn.decomposition.LatentDirichletAllocation(\n",
    "    n_components=optimal_num_topics,\n",
    "    learning_method=\"online\",\n",
    "    random_state=0\n",
    ")\n",
    "lda.fit(clean_vec1)"
   ]
  },
  {
   "cell_type": "code",
   "execution_count": 23,
   "metadata": {},
   "outputs": [],
   "source": [
    "# define function to format raw output into nice tables\n",
    "\n",
    "def get_topics(mod, vec, names, docs, ndocs, nwords):\n",
    "    # word to topic matrix\n",
    "    W = mod.components_\n",
    "    W_norm = W / W.sum(axis=1)[:, numpy.newaxis]\n",
    "    # topic to document matrix\n",
    "    H = mod.transform(vec)\n",
    "    \n",
    "    W_dict = {}\n",
    "    H_dict = {}\n",
    "    \n",
    "    for tpc_idx, tpc_val in enumerate(W_norm):\n",
    "        topic = \"Topic{}\".format(tpc_idx)\n",
    "        \n",
    "        # formatting w\n",
    "        W_indices = tpc_val.argsort()[::-1][:nwords]\n",
    "        W_names_values = [\n",
    "            (round(tpc_val[j], 4), names[j]) \n",
    "            for j in W_indices\n",
    "        ]\n",
    "        W_dict[topic] = W_names_values\n",
    "        \n",
    "        # formatting h\n",
    "        H_indices = H[:, tpc_idx].argsort()[::-1][:ndocs]\n",
    "        H_names_values = [\n",
    "            (round(H[:, tpc_idx][j], 4), docs[j]) \n",
    "            for j in H_indices\n",
    "        ]\n",
    "        H_dict[topic] = H_names_values\n",
    "        \n",
    "    W_df = pandas.DataFrame(\n",
    "        W_dict, \n",
    "        index=[\"Word\" + str(i) for i in range(nwords)]\n",
    "    )\n",
    "    H_df = pandas.DataFrame(\n",
    "        H_dict,\n",
    "        index=[\"Doc\" + str(i) for i in range(ndocs)]\n",
    "    )\n",
    "        \n",
    "    return (W_df, H_df)"
   ]
  },
  {
   "cell_type": "code",
   "execution_count": 24,
   "metadata": {},
   "outputs": [],
   "source": [
    "# get nice tables\n",
    "\n",
    "W_df, H_df = get_topics(\n",
    "    mod=lda,\n",
    "    vec=clean_vec1,\n",
    "    names=feature_names_vec1,\n",
    "    docs=raw,\n",
    "    ndocs=number_docs, \n",
    "    nwords=number_words\n",
    ")"
   ]
  },
  {
   "cell_type": "code",
   "execution_count": 25,
   "metadata": {},
   "outputs": [
    {
     "name": "stdout",
     "output_type": "stream",
     "text": [
      "                     Topic0                Topic1\n",
      "Word0        (0.052, study)      (0.0385, latfit)\n",
      "Word1       (0.0215, could)       (0.0327, study)\n",
      "Word2       (0.0203, brain)      (0.0317, health)\n",
      "Word3      (0.0168, report)       (0.029, cancer)\n",
      "Word4   (0.0157, scientist)      (0.0226, people)\n",
      "Word5      (0.0153, weight)  (0.0167, researcher)\n",
      "Word6  (0.0151, california)       (0.0167, woman)\n",
      "Word7     (0.0132, medical)     (0.0165, patient)\n",
      "Word8    (0.0124, research)       (0.0165, death)\n",
      "Word9    (0.011, treatment)      (0.0162, doctor)\n"
     ]
    }
   ],
   "source": [
    "# word-topic table\n",
    "\n",
    "print(W_df)"
   ]
  },
  {
   "cell_type": "code",
   "execution_count": 26,
   "metadata": {},
   "outputs": [
    {
     "name": "stdout",
     "output_type": "stream",
     "text": [
      "                                                 Topic0  \\\n",
      "Doc0  (0.9373, RT @skgire: For my non-science friend...   \n",
      "Doc1  (0.9355, Hospital counselors used free medicat...   \n",
      "Doc2  (0.9351, Flu shot benefit for adults isn't big...   \n",
      "Doc3  (0.9349, @Dr_Rocamboli Yes, that's what Steve ...   \n",
      "Doc4  (0.9348, Expert panel from @RANDCorporation, @...   \n",
      "Doc5  (0.9297, '5-a-day' might not be enough to ward...   \n",
      "Doc6  (0.9294, Do you feel happier these days? World...   \n",
      "Doc7  (0.9283, The @US_FDA is looking out for your p...   \n",
      "Doc8  (0.9283, U.S. to accelerate clinical trials fo...   \n",
      "Doc9  (0.9261, RT @mmacvean: Story from @theatlantic...   \n",
      "\n",
      "                                                 Topic1  \n",
      "Doc0  (0.94, Researchers use a safe version of HIV t...  \n",
      "Doc1  (0.9386, Doctors often delay vaccines for youn...  \n",
      "Doc2  (0.9372, From the Dept. of Happy Accidental Di...  \n",
      "Doc3  (0.9372, Does your dog know how you're feeling...  \n",
      "Doc4  (0.9371, RT @annagorman: Ok flats it is! “@was...  \n",
      "Doc5  (0.9367, Fun fact: For many decades, experts t...  \n",
      "Doc6  (0.9361, Plan to hit the beach this summer? Le...  \n",
      "Doc7  (0.9355, RT @latimes: Live now: Video chat wit...  \n",
      "Doc8  (0.9347, Supplements to boost \"low T\" increase...  \n",
      "Doc9  (0.9327, Global air pollution contributes to t...  \n"
     ]
    }
   ],
   "source": [
    "# document-topic table\n",
    "\n",
    "print(H_df)"
   ]
  },
  {
   "cell_type": "code",
   "execution_count": 27,
   "metadata": {},
   "outputs": [
    {
     "data": {
      "text/html": [
       "\n",
       "<link rel=\"stylesheet\" type=\"text/css\" href=\"https://cdn.rawgit.com/bmabey/pyLDAvis/files/ldavis.v1.0.0.css\">\n",
       "\n",
       "\n",
       "<div id=\"ldavis_el2074449964429602427481710\"></div>\n",
       "<script type=\"text/javascript\">\n",
       "\n",
       "var ldavis_el2074449964429602427481710_data = {\"mdsDat\": {\"x\": [0.2397840924513425, -0.2397840924513425], \"y\": [0.0, 0.0], \"topics\": [1, 2], \"cluster\": [1, 1], \"Freq\": [52.3155150288372, 47.684484971162796]}, \"tinfo\": {\"Category\": [\"Default\", \"Default\", \"Default\", \"Default\", \"Default\", \"Default\", \"Default\", \"Default\", \"Default\", \"Default\", \"Topic1\", \"Topic1\", \"Topic1\", \"Topic1\", \"Topic1\", \"Topic1\", \"Topic1\", \"Topic1\", \"Topic1\", \"Topic1\", \"Topic1\", \"Topic1\", \"Topic1\", \"Topic1\", \"Topic1\", \"Topic1\", \"Topic2\", \"Topic2\", \"Topic2\", \"Topic2\", \"Topic2\", \"Topic2\", \"Topic2\", \"Topic2\", \"Topic2\", \"Topic2\", \"Topic2\", \"Topic2\"], \"Freq\": [240.0, 194.0, 178.0, 120.0, 139.0, 114.0, 94.0, 102.0, 88.0, 101.0, 177.77936316621592, 194.11256909448676, 96.89819565907577, 102.389072258978, 101.07209421651825, 138.69028161436125, 99.12273312909298, 85.09584600815181, 56.452333849178785, 56.41666607793646, 236.1340498626782, 78.70019155143274, 102.67357171003236, 97.93941453974325, 200.34255283184038, 101.30999812543773, 113.5432017730393, 119.97709264365922, 87.49697969796333, 69.02808421532397, 73.83332693113378, 84.22885419201533, 58.93703065164009, 85.52260082238114, 93.74835864900267, 47.208899285263875, 61.19948768860381, 290.4142289220844], \"Term\": [\"latfit\", \"health\", \"cancer\", \"could\", \"people\", \"brain\", \"report\", \"woman\", \"scientist\", \"death\", \"cancer\", \"health\", \"heart\", \"woman\", \"death\", \"people\", \"doctor\", \"healthcare\", \"breast\", \"exercise\", \"latfit\", \"american\", \"researcher\", \"obesity\", \"study\", \"patient\", \"brain\", \"could\", \"scientist\", \"research\", \"medical\", \"california\", \"change\", \"weight\", \"report\", \"eating\", \"treatment\", \"study\"], \"Total\": [240.0, 194.0, 178.0, 120.0, 139.0, 114.0, 94.0, 102.0, 88.0, 101.0, 178.40226167683647, 194.82803812299957, 97.46060368165924, 102.99094958509565, 101.75692811781613, 139.63345422643766, 99.83902731967189, 85.7454012387038, 57.011496543459835, 57.01045708368628, 240.9540436877711, 79.91577182998748, 105.09597181924728, 100.29935752287241, 490.75678175392477, 126.20608752185579, 114.14367040714133, 120.70355868986532, 88.08283235033238, 69.68293480163396, 74.56892313736371, 85.06861281692395, 59.52718002576647, 86.38113304202766, 94.76449461783251, 47.752709222765155, 62.74649071099459, 490.75678175392477], \"loglift\": [10.0, 9.0, 8.0, 7.0, 6.0, 5.0, 4.0, 3.0, 2.0, 1.0, 0.6444, 0.6442, 0.6421, 0.642, 0.6411, 0.6411, 0.6407, 0.6403, 0.638, 0.6374, 0.6277, 0.6325, 0.6246, 0.6241, -0.248, 0.4281, 0.7353, 0.7345, 0.7339, 0.7311, 0.7307, 0.7306, 0.7306, 0.7306, 0.7298, 0.7291, 0.7156, 0.2159], \"logprob\": [10.0, 9.0, 8.0, 7.0, 6.0, 5.0, 4.0, 3.0, 2.0, 1.0, -3.5404, -3.4525, -4.1473, -4.0921, -4.1051, -3.7887, -4.1246, -4.2771, -4.6875, -4.6882, -3.2565, -4.3553, -4.0894, -4.1366, -3.4209, -4.1027, -3.896, -3.8409, -4.1566, -4.3937, -4.3264, -4.1947, -4.5518, -4.1795, -4.0876, -4.7736, -4.5141, -2.9569]}, \"token.table\": {\"Topic\": [1, 2, 1, 2, 1, 2, 1, 2, 1, 2, 1, 2, 1, 2, 1, 2, 1, 2, 1, 2, 1, 2, 1, 2, 1, 2, 1, 2, 1, 2, 1, 2, 1, 2, 1, 2, 1, 2, 1, 2, 1, 2, 1, 2, 1, 2, 1, 2, 1, 2, 1, 2, 1, 2], \"Freq\": [0.9885407872686798, 0.012513174522388351, 0.008760888767927999, 0.9987413195437919, 0.9822580250513373, 0.017540321875916736, 0.011755216958246384, 0.9874382244926962, 0.9977451985582719, 0.0056053101042599545, 0.016799048763390906, 0.9911438770400635, 0.008284759876627924, 0.9941711851953509, 0.9925614095097314, 0.009827340688215162, 0.9915961989795291, 0.010016123222015444, 0.020941220221349657, 0.984237350403434, 0.9822759343570422, 0.01754064168494718, 0.9957499026783978, 0.005132731457105143, 0.9913068079694594, 0.011662433034934817, 0.9952739500448434, 0.010260556186029314, 0.9794398815145408, 0.020750844947341966, 0.013410412245834582, 0.992370506191759, 0.9770750523267503, 0.019940307190341844, 0.8002783541048231, 0.1980887015110948, 0.9954634494294582, 0.007161607549852217, 0.010552475418486777, 0.991932689337757, 0.014350715894023331, 0.9901993966876098, 0.9800565922464459, 0.019030225092163996, 0.011352950096140119, 0.9877066583641904, 0.4075338486107442, 0.5909240804855791, 0.03187429252755892, 0.972165922090547, 0.011576602028517761, 0.9955877744525274, 0.9903782847999, 0.00970959102745], \"Term\": [\"american\", \"american\", \"brain\", \"brain\", \"breast\", \"breast\", \"california\", \"california\", \"cancer\", \"cancer\", \"change\", \"change\", \"could\", \"could\", \"death\", \"death\", \"doctor\", \"doctor\", \"eating\", \"eating\", \"exercise\", \"exercise\", \"health\", \"health\", \"healthcare\", \"healthcare\", \"heart\", \"heart\", \"latfit\", \"latfit\", \"medical\", \"medical\", \"obesity\", \"obesity\", \"patient\", \"patient\", \"people\", \"people\", \"report\", \"report\", \"research\", \"research\", \"researcher\", \"researcher\", \"scientist\", \"scientist\", \"study\", \"study\", \"treatment\", \"treatment\", \"weight\", \"weight\", \"woman\", \"woman\"]}, \"R\": 10, \"lambda.step\": 0.01, \"plot.opts\": {\"xlab\": \"PC1\", \"ylab\": \"PC2\"}, \"topic.order\": [2, 1]};\n",
       "\n",
       "function LDAvis_load_lib(url, callback){\n",
       "  var s = document.createElement('script');\n",
       "  s.src = url;\n",
       "  s.async = true;\n",
       "  s.onreadystatechange = s.onload = callback;\n",
       "  s.onerror = function(){console.warn(\"failed to load library \" + url);};\n",
       "  document.getElementsByTagName(\"head\")[0].appendChild(s);\n",
       "}\n",
       "\n",
       "if(typeof(LDAvis) !== \"undefined\"){\n",
       "   // already loaded: just create the visualization\n",
       "   !function(LDAvis){\n",
       "       new LDAvis(\"#\" + \"ldavis_el2074449964429602427481710\", ldavis_el2074449964429602427481710_data);\n",
       "   }(LDAvis);\n",
       "}else if(typeof define === \"function\" && define.amd){\n",
       "   // require.js is available: use it to load d3/LDAvis\n",
       "   require.config({paths: {d3: \"https://cdnjs.cloudflare.com/ajax/libs/d3/3.5.5/d3.min\"}});\n",
       "   require([\"d3\"], function(d3){\n",
       "      window.d3 = d3;\n",
       "      LDAvis_load_lib(\"https://cdn.rawgit.com/bmabey/pyLDAvis/files/ldavis.v1.0.0.js\", function(){\n",
       "        new LDAvis(\"#\" + \"ldavis_el2074449964429602427481710\", ldavis_el2074449964429602427481710_data);\n",
       "      });\n",
       "    });\n",
       "}else{\n",
       "    // require.js not available: dynamically load d3 & LDAvis\n",
       "    LDAvis_load_lib(\"https://cdnjs.cloudflare.com/ajax/libs/d3/3.5.5/d3.min.js\", function(){\n",
       "         LDAvis_load_lib(\"https://cdn.rawgit.com/bmabey/pyLDAvis/files/ldavis.v1.0.0.js\", function(){\n",
       "                 new LDAvis(\"#\" + \"ldavis_el2074449964429602427481710\", ldavis_el2074449964429602427481710_data);\n",
       "            })\n",
       "         });\n",
       "}\n",
       "</script>"
      ],
      "text/plain": [
       "<IPython.core.display.HTML object>"
      ]
     },
     "execution_count": 27,
     "metadata": {},
     "output_type": "execute_result"
    }
   ],
   "source": [
    "# iteractive plot\n",
    "# pca biplot and histogram\n",
    "\n",
    "lda_plot = pyLDAvis.sklearn.prepare(lda, clean_vec1, vectorizer1, R=10)\n",
    "pyLDAvis.display(lda_plot)"
   ]
  },
  {
   "cell_type": "markdown",
   "metadata": {},
   "source": [
    "#### Activity 3"
   ]
  },
  {
   "cell_type": "code",
   "execution_count": 28,
   "metadata": {},
   "outputs": [
    {
     "name": "stdout",
     "output_type": "stream",
     "text": [
      "\n"
     ]
    }
   ],
   "source": [
    "# bag of words conversion\n",
    "# tf-idf method\n",
    "\n",
    "vectorizer2 = sklearn.feature_extraction.text.TfidfVectorizer(\n",
    "    analyzer=\"word\",\n",
    "    max_df=0.5, \n",
    "    min_df=20, \n",
    "    max_features=number_features,\n",
    "    smooth_idf=False\n",
    ")\n",
    "clean_vec2 = vectorizer2.fit_transform(clean_sentences)\n",
    "print(clean_vec2[0])\n",
    "\n",
    "feature_names_vec2 = vectorizer2.get_feature_names()"
   ]
  },
  {
   "cell_type": "code",
   "execution_count": 29,
   "metadata": {},
   "outputs": [
    {
     "data": {
      "text/plain": [
       "NMF(alpha=0.1, beta_loss='frobenius', init='nndsvda', l1_ratio=0.5,\n",
       "    max_iter=200, n_components=2, random_state=0, shuffle=False, solver='mu',\n",
       "    tol=0.0001, verbose=0)"
      ]
     },
     "execution_count": 29,
     "metadata": {},
     "output_type": "execute_result"
    }
   ],
   "source": [
    "# define and fit nmf model\n",
    "\n",
    "nmf = sklearn.decomposition.NMF(\n",
    "    n_components=optimal_num_topics,\n",
    "    init=\"nndsvda\",\n",
    "    solver=\"mu\",\n",
    "    beta_loss=\"frobenius\",\n",
    "    random_state=0, \n",
    "    alpha=0.1, \n",
    "    l1_ratio=0.5\n",
    ")\n",
    "nmf.fit(clean_vec2)"
   ]
  },
  {
   "cell_type": "code",
   "execution_count": 30,
   "metadata": {},
   "outputs": [],
   "source": [
    "# get nicely formatted result tables\n",
    "\n",
    "W_df, H_df = get_topics(\n",
    "    mod=nmf,\n",
    "    vec=clean_vec2,\n",
    "    names=feature_names_vec2,\n",
    "    docs=raw,\n",
    "    ndocs=number_docs, \n",
    "    nwords=number_words\n",
    ")"
   ]
  },
  {
   "cell_type": "code",
   "execution_count": 31,
   "metadata": {},
   "outputs": [
    {
     "name": "stdout",
     "output_type": "stream",
     "text": [
      "                  Topic0                Topic1\n",
      "Word0    (0.3765, study)      (0.5972, latfit)\n",
      "Word1   (0.0257, cancer)       (0.0486, steps)\n",
      "Word2   (0.0207, people)       (0.0449, today)\n",
      "Word3  (0.0184, obesity)    (0.0372, exercise)\n",
      "Word4   (0.0184, health)  (0.0274, healthtips)\n",
      "Word5    (0.0181, brain)     (0.0257, workout)\n",
      "Word6  (0.0173, suggest)     (0.0204, getting)\n",
      "Word7   (0.0168, weight)     (0.0192, fitness)\n",
      "Word8    (0.0153, woman)       (0.0143, great)\n",
      "Word9    (0.0131, death)     (0.0132, morning)\n"
     ]
    }
   ],
   "source": [
    "# word-topic table\n",
    "\n",
    "print(W_df)"
   ]
  },
  {
   "cell_type": "code",
   "execution_count": 32,
   "metadata": {},
   "outputs": [
    {
     "name": "stdout",
     "output_type": "stream",
     "text": [
      "                                                 Topic0  \\\n",
      "Doc0  (0.2032, Today's small step for health: Add a ...   \n",
      "Doc1  (0.2032, Race, education linked to differences...   \n",
      "Doc2  (0.2032, Drug czar says addiction is a health ...   \n",
      "Doc3  (0.2032, FDA approves first drug treatment for...   \n",
      "Doc4  (0.2032, It's not too late to get your flu sho...   \n",
      "Doc5  (0.2032, RT @montemorin: Just say 'NO' to Noog...   \n",
      "Doc6  (0.2032, FDA's removal of restrictions on sale...   \n",
      "Doc7  (0.2032, Legalizing gay marriage is good for p...   \n",
      "Doc8  (0.2032, Reverse vaccine for Type 1 diabetes p...   \n",
      "Doc9  (0.2032, Warning: Shaking hands with your doct...   \n",
      "\n",
      "                                                 Topic1  \n",
      "Doc0  (0.2277, Fruit flies take one for the (footbal...  \n",
      "Doc1  (0.2277, How many steps do you take each day? ...  \n",
      "Doc2  (0.2277, Rate of repeat births among teen moth...  \n",
      "Doc3  (0.2277, Undisclosed soy prompts recall by Lis...  \n",
      "Doc4  (0.2277, Supplements we take mostly not ordere...  \n",
      "Doc5  (0.2277, Possible E. coli contamination spurs ...  \n",
      "Doc6  (0.2277, Summer camp with a twist: Physical th...  \n",
      "Doc7  (0.2277, Geneticist on DNA privacy: Make it so...  \n",
      "Doc8  (0.2277, Nicotine replacement: safe, even if y...  \n",
      "Doc9  (0.2277, Food as medicine? What to make of the...  \n"
     ]
    }
   ],
   "source": [
    "# document-topic table\n",
    "\n",
    "print(H_df)"
   ]
  },
  {
   "cell_type": "code",
   "execution_count": null,
   "metadata": {},
   "outputs": [],
   "source": []
  }
 ],
 "metadata": {
  "kernelspec": {
   "display_name": "Python 3",
   "language": "python",
   "name": "python3"
  },
  "language_info": {
   "codemirror_mode": {
    "name": "ipython",
    "version": 3
   },
   "file_extension": ".py",
   "mimetype": "text/x-python",
   "name": "python",
   "nbconvert_exporter": "python",
   "pygments_lexer": "ipython3",
   "version": "3.7.4"
  }
 },
 "nbformat": 4,
 "nbformat_minor": 2
}
