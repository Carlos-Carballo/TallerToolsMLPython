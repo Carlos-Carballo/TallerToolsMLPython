{
 "cells": [
  {
   "cell_type": "markdown",
   "metadata": {},
   "source": [
    "# CH. 7 - TOPIC MODELS\n",
    "## Exercises"
   ]
  },
  {
   "cell_type": "markdown",
   "metadata": {},
   "source": [
    "#### Exercise 7.01: Load Libraries"
   ]
  },
  {
   "cell_type": "code",
   "execution_count": 1,
   "metadata": {},
   "outputs": [],
   "source": [
    "# not necessary\n",
    "\n",
    "# put this in to block deprecation warnings\n",
    "# from pyLDAvis\n",
    "\n",
    "import warnings\n",
    "warnings.filterwarnings('ignore')"
   ]
  },
  {
   "cell_type": "code",
   "execution_count": 2,
   "metadata": {},
   "outputs": [],
   "source": [
    "import langdetect  # language detection\n",
    "import matplotlib.pyplot  # plotting\n",
    "import nltk  # natural language processing\n",
    "import numpy  # arrays and matrices\n",
    "import pandas  # dataframes\n",
    "import pyLDAvis  # plotting\n",
    "import pyLDAvis.sklearn  # plotting\n",
    "import regex  # regular expressions\n",
    "import sklearn  # machine learning"
   ]
  },
  {
   "cell_type": "code",
   "execution_count": 3,
   "metadata": {},
   "outputs": [
    {
     "name": "stderr",
     "output_type": "stream",
     "text": [
      "[nltk_data] Downloading package wordnet to\n",
      "[nltk_data]     C:\\Users\\user\\AppData\\Roaming\\nltk_data...\n",
      "[nltk_data]   Package wordnet is already up-to-date!\n",
      "[nltk_data] Downloading package stopwords to\n",
      "[nltk_data]     C:\\Users\\user\\AppData\\Roaming\\nltk_data...\n",
      "[nltk_data]   Package stopwords is already up-to-date!\n"
     ]
    },
    {
     "data": {
      "text/plain": [
       "True"
      ]
     },
     "execution_count": 3,
     "metadata": {},
     "output_type": "execute_result"
    }
   ],
   "source": [
    "# installing specific word dictionarys\n",
    "# used for stopword removal and lemmatization\n",
    "\n",
    "nltk.download('wordnet')\n",
    "nltk.download('stopwords')"
   ]
  },
  {
   "cell_type": "code",
   "execution_count": 4,
   "metadata": {},
   "outputs": [],
   "source": [
    "%matplotlib inline"
   ]
  },
  {
   "cell_type": "markdown",
   "metadata": {},
   "source": [
    "#### Exercise 7.02: Load and Examine Data"
   ]
  },
  {
   "cell_type": "code",
   "execution_count": 5,
   "metadata": {},
   "outputs": [],
   "source": [
    "# define path and load data\n",
    "\n",
    "path = \"News_Final.csv\"\n",
    "df = pandas.read_csv(path, header=0)"
   ]
  },
  {
   "cell_type": "code",
   "execution_count": 6,
   "metadata": {},
   "outputs": [],
   "source": [
    "# define quick look function for data frame\n",
    "\n",
    "def dataframe_quick_look(df, nrows):\n",
    "    print(\"SHAPE:\\n{shape}\\n\".format(shape=df.shape))\n",
    "    print(\"COLUMN NAMES:\\n{names}\\n\".format(names=df.columns))\n",
    "    print(\"HEAD:\\n{head}\\n\".format(head=df.head(nrows)))"
   ]
  },
  {
   "cell_type": "code",
   "execution_count": 7,
   "metadata": {},
   "outputs": [
    {
     "name": "stdout",
     "output_type": "stream",
     "text": [
      "SHAPE:\n",
      "(93239, 11)\n",
      "\n",
      "COLUMN NAMES:\n",
      "Index(['IDLink', 'Title', 'Headline', 'Source', 'Topic', 'PublishDate',\n",
      "       'SentimentTitle', 'SentimentHeadline', 'Facebook', 'GooglePlus',\n",
      "       'LinkedIn'],\n",
      "      dtype='object')\n",
      "\n",
      "HEAD:\n",
      "    IDLink                                             Title  \\\n",
      "0  99248.0  Obama Lays Wreath at Arlington National Cemetery   \n",
      "1  10423.0       A Look at the Health of the Chinese Economy   \n",
      "\n",
      "                                            Headline     Source    Topic  \\\n",
      "0  Obama Lays Wreath at Arlington National Cemete...  USA TODAY    obama   \n",
      "1  Tim Haywood, investment director business-unit...  Bloomberg  economy   \n",
      "\n",
      "           PublishDate  SentimentTitle  SentimentHeadline  Facebook  \\\n",
      "0  2002-04-02 00:00:00        0.000000          -0.053300        -1   \n",
      "1  2008-09-20 00:00:00        0.208333          -0.156386        -1   \n",
      "\n",
      "   GooglePlus  LinkedIn  \n",
      "0          -1        -1  \n",
      "1          -1        -1  \n",
      "\n"
     ]
    }
   ],
   "source": [
    "dataframe_quick_look(df, nrows=2)"
   ]
  },
  {
   "cell_type": "code",
   "execution_count": 8,
   "metadata": {},
   "outputs": [
    {
     "name": "stdout",
     "output_type": "stream",
     "text": [
      "TOPICS:\n",
      "economy      33928\n",
      "obama        28610\n",
      "microsoft    21858\n",
      "palestine     8843\n",
      "Name: Topic, dtype: int64\n",
      "\n"
     ]
    }
   ],
   "source": [
    "# data set came with prespecified topics\n",
    "# print the topics out with counts\n",
    "\n",
    "print(\"TOPICS:\\n{topics}\\n\".format(topics=df[\"Topic\"].value_counts()))"
   ]
  },
  {
   "cell_type": "code",
   "execution_count": 9,
   "metadata": {},
   "outputs": [
    {
     "name": "stdout",
     "output_type": "stream",
     "text": [
      "HEADLINES:\n",
      "['Obama Lays Wreath at Arlington National Cemetery. President Barack Obama has laid a wreath at the Tomb of the Unknowns to honor', 'Tim Haywood, investment director business-unit head for fixed income at Gam, discusses the China beige book and the state of the economy.', \"Nouriel Roubini, NYU professor and chairman at Roubini Global Economics, explains why the global economy isn't facing the same conditions\", \"Finland's economy expanded marginally in the three months ended December, after contracting in the previous quarter, preliminary figures from Statistics Finland showed Monday. \", 'Tourism and public spending continued to boost the economy in January, in light of contraction in private consumption and exports, according to the Bank of Thailand data. ']\n",
      "\n",
      "LENGTH:\n",
      "93239\n",
      "\n"
     ]
    }
   ],
   "source": [
    "# lets look at the final data we are going to move forward with\n",
    "\n",
    "raw = df[\"Headline\"].tolist()\n",
    "print(\"HEADLINES:\\n{lines}\\n\".format(lines=raw[:5]))\n",
    "print(\"LENGTH:\\n{length}\\n\".format(length=len(raw)))"
   ]
  },
  {
   "cell_type": "markdown",
   "metadata": {},
   "source": [
    "#### Exercise 7.03: Step-by-step Data Cleaning"
   ]
  },
  {
   "cell_type": "code",
   "execution_count": 10,
   "metadata": {},
   "outputs": [
    {
     "name": "stdout",
     "output_type": "stream",
     "text": [
      "Over 100 attendees expected to see latest version of Microsoft Dynamics SL and Dynamics GP (PRWeb February 29, 2016) Read the full story at http://www.prweb.com/releases/2016/03/prweb13238571.htm \n"
     ]
    }
   ],
   "source": [
    "# select one headline to use as an example\n",
    "\n",
    "example = raw[5]\n",
    "print(example)"
   ]
  },
  {
   "cell_type": "code",
   "execution_count": 11,
   "metadata": {},
   "outputs": [],
   "source": [
    "# check language of headline\n",
    "# filter to english only\n",
    "\n",
    "def do_language_identifying(txt):\n",
    "    try: the_language = langdetect.detect(txt)\n",
    "    except: the_language = 'none'\n",
    "    return the_language"
   ]
  },
  {
   "cell_type": "code",
   "execution_count": 12,
   "metadata": {},
   "outputs": [
    {
     "name": "stdout",
     "output_type": "stream",
     "text": [
      "DETECTED LANGUAGE:\n",
      "en\n",
      "\n"
     ]
    }
   ],
   "source": [
    "print(\"DETECTED LANGUAGE:\\n{lang}\\n\".format(lang=do_language_identifying(example)))"
   ]
  },
  {
   "cell_type": "code",
   "execution_count": 13,
   "metadata": {},
   "outputs": [
    {
     "name": "stdout",
     "output_type": "stream",
     "text": [
      "['Over', '100', 'attendees', 'expected', 'to', 'see', 'latest', 'version', 'of', 'Microsoft', 'Dynamics', 'SL', 'and', 'Dynamics', 'GP', '(PRWeb', 'February', '29,', '2016)', 'Read', 'the', 'full', 'story', 'at', 'http://www.prweb.com/releases/2016/03/prweb13238571.htm', '']\n"
     ]
    }
   ],
   "source": [
    "# tokenize the data\n",
    "\n",
    "example = example.split(\" \")\n",
    "print(example)"
   ]
  },
  {
   "cell_type": "code",
   "execution_count": 14,
   "metadata": {},
   "outputs": [
    {
     "name": "stdout",
     "output_type": "stream",
     "text": [
      "['Over', '100', 'attendees', 'expected', 'to', 'see', 'latest', 'version', 'of', 'Microsoft', 'Dynamics', 'SL', 'and', 'Dynamics', 'GP', '(PRWeb', 'February', '29,', '2016)', 'Read', 'the', 'full', 'story', 'at', 'URL', '']\n"
     ]
    }
   ],
   "source": [
    "# find and replace website addresses\n",
    "\n",
    "example = [\n",
    "    'URL' if bool(regex.search(\"http[s]?://\", i)) \n",
    "    else i for i in example\n",
    "]\n",
    "print(example)"
   ]
  },
  {
   "cell_type": "code",
   "execution_count": 15,
   "metadata": {},
   "outputs": [
    {
     "name": "stdout",
     "output_type": "stream",
     "text": [
      "['Over', '100', 'attendees', 'expected', 'to', 'see', 'latest', 'version', 'of', 'Microsoft', 'Dynamics', 'SL', 'and', 'Dynamics', 'GP', 'PRWeb', 'February', '29', '2016', 'Read', 'the', 'full', 'story', 'at', 'URL', '']\n"
     ]
    }
   ],
   "source": [
    "# remove punctuation\n",
    "\n",
    "example = [regex.sub(\"[^\\\\w\\\\s]|\\n\", \"\", i) for i in example]\n",
    "print(example)"
   ]
  },
  {
   "cell_type": "code",
   "execution_count": 16,
   "metadata": {},
   "outputs": [
    {
     "name": "stdout",
     "output_type": "stream",
     "text": [
      "['Over', '', 'attendees', 'expected', 'to', 'see', 'latest', 'version', 'of', 'Microsoft', 'Dynamics', 'SL', 'and', 'Dynamics', 'GP', 'PRWeb', 'February', '', '', 'Read', 'the', 'full', 'story', 'at', 'URL', '']\n"
     ]
    }
   ],
   "source": [
    "# remove numbers\n",
    "\n",
    "example = [regex.sub(\"^[0-9]*$\", \"\", i) for i in example]\n",
    "print(example)"
   ]
  },
  {
   "cell_type": "code",
   "execution_count": 17,
   "metadata": {},
   "outputs": [
    {
     "name": "stdout",
     "output_type": "stream",
     "text": [
      "['over', '', 'attendees', 'expected', 'to', 'see', 'latest', 'version', 'of', 'microsoft', 'dynamics', 'sl', 'and', 'dynamics', 'gp', 'prweb', 'february', '', '', 'read', 'the', 'full', 'story', 'at', 'URL', '']\n"
     ]
    }
   ],
   "source": [
    "# make everything lowercase\n",
    "\n",
    "example = [i.lower() if i not in [\"URL\"] else i for i in example]\n",
    "print(example)"
   ]
  },
  {
   "cell_type": "code",
   "execution_count": 18,
   "metadata": {},
   "outputs": [
    {
     "name": "stdout",
     "output_type": "stream",
     "text": [
      "['over', 'attendees', 'expected', 'to', 'see', 'latest', 'version', 'of', 'microsoft', 'dynamics', 'sl', 'and', 'dynamics', 'gp', 'prweb', 'february', 'read', 'the', 'full', 'story', 'at']\n"
     ]
    }
   ],
   "source": [
    "# remove the url placeholder\n",
    "\n",
    "example = [i for i in example if i not in [\"URL\",\"\"]]\n",
    "print(example)"
   ]
  },
  {
   "cell_type": "code",
   "execution_count": 19,
   "metadata": {},
   "outputs": [
    {
     "name": "stdout",
     "output_type": "stream",
     "text": [
      "['i', 'me', 'my', 'myself', 'we', 'our', 'ours', 'ourselves', 'you', 'youre', 'youve', 'youll', 'youd', 'your', 'yours', 'yourself', 'yourselves', 'he', 'him', 'his', 'himself', 'she', 'shes', 'her', 'hers', 'herself', 'it', 'its', 'its', 'itself', 'they', 'them', 'their', 'theirs', 'themselves', 'what', 'which', 'who', 'whom', 'this', 'that', 'thatll', 'these', 'those', 'am', 'is', 'are', 'was', 'were', 'be', 'been', 'being', 'have', 'has', 'had', 'having', 'do', 'does', 'did', 'doing', 'a', 'an', 'the', 'and', 'but', 'if', 'or', 'because', 'as', 'until', 'while', 'of', 'at', 'by', 'for', 'with', 'about', 'against', 'between', 'into', 'through', 'during', 'before', 'after', 'above', 'below', 'to', 'from', 'up', 'down', 'in', 'out', 'on', 'off', 'over', 'under', 'again', 'further', 'then', 'once', 'here', 'there', 'when', 'where', 'why', 'how', 'all', 'any', 'both', 'each', 'few', 'more', 'most', 'other', 'some', 'such', 'no', 'nor', 'not', 'only', 'own', 'same', 'so', 'than', 'too', 'very', 's', 't', 'can', 'will', 'just', 'don', 'dont', 'should', 'shouldve', 'now', 'd', 'll', 'm', 'o', 're', 've', 'y', 'ain', 'aren', 'arent', 'couldn', 'couldnt', 'didn', 'didnt', 'doesn', 'doesnt', 'hadn', 'hadnt', 'hasn', 'hasnt', 'haven', 'havent', 'isn', 'isnt', 'ma', 'mightn', 'mightnt', 'mustn', 'mustnt', 'needn', 'neednt', 'shan', 'shant', 'shouldn', 'shouldnt', 'wasn', 'wasnt', 'weren', 'werent', 'won', 'wont', 'wouldn', 'wouldnt']\n"
     ]
    }
   ],
   "source": [
    "# remove stopwords\n",
    "# uses stopwords dictionary previously loaded\n",
    "\n",
    "list_stop_words = nltk.corpus.stopwords.words(\"English\")\n",
    "list_stop_words = [regex.sub(\"[^\\\\w\\\\s]\", \"\", i) for i in list_stop_words]\n",
    "print(list_stop_words)"
   ]
  },
  {
   "cell_type": "code",
   "execution_count": 20,
   "metadata": {},
   "outputs": [
    {
     "name": "stdout",
     "output_type": "stream",
     "text": [
      "['attendees', 'expected', 'see', 'latest', 'version', 'microsoft', 'dynamics', 'sl', 'dynamics', 'gp', 'prweb', 'february', 'read', 'full', 'story']\n"
     ]
    }
   ],
   "source": [
    "example = [i for i in example if i not in list_stop_words]\n",
    "print(example)"
   ]
  },
  {
   "cell_type": "code",
   "execution_count": 21,
   "metadata": {},
   "outputs": [],
   "source": [
    "# perform lemmatization\n",
    "# uses wordnet dictionary previously loaded\n",
    "\n",
    "def do_lemmatizing(wrd):\n",
    "    out = nltk.corpus.wordnet.morphy(wrd)\n",
    "    return (wrd if out is None else out)"
   ]
  },
  {
   "cell_type": "code",
   "execution_count": 22,
   "metadata": {},
   "outputs": [
    {
     "name": "stdout",
     "output_type": "stream",
     "text": [
      "['attendee', 'expect', 'see', 'latest', 'version', 'microsoft', 'dynamics', 'sl', 'dynamics', 'gp', 'prweb', 'february', 'read', 'full', 'story']\n"
     ]
    }
   ],
   "source": [
    "example = [do_lemmatizing(i) for i in example]\n",
    "print(example)"
   ]
  },
  {
   "cell_type": "code",
   "execution_count": 23,
   "metadata": {},
   "outputs": [
    {
     "name": "stdout",
     "output_type": "stream",
     "text": [
      "['attendee', 'expect', 'latest', 'version', 'microsoft', 'dynamics', 'dynamics', 'prweb', 'february', 'story']\n"
     ]
    }
   ],
   "source": [
    "# remove words less than 5 characters long\n",
    "\n",
    "example = [i for i in example if len(i) >= 5]\n",
    "print(example)"
   ]
  },
  {
   "cell_type": "markdown",
   "metadata": {},
   "source": [
    "#### Exercise 7.04: Complete Data Cleaning"
   ]
  },
  {
   "cell_type": "code",
   "execution_count": 24,
   "metadata": {},
   "outputs": [],
   "source": [
    "# define consolidated data cleaning function\n",
    "\n",
    "def do_headline_cleaning(txt):\n",
    "    # identify language of tweet\n",
    "    # return null if language not english\n",
    "    lg = do_language_identifying(txt)\n",
    "    if lg != 'en':\n",
    "        return None\n",
    "    \n",
    "    # split the string on whitespace\n",
    "    out = txt.split(\" \")\n",
    "    \n",
    "    # identify urls\n",
    "    # replace with URL\n",
    "    out = ['URL' if bool(regex.search(\"http[s]?://\", i)) else i for i in out]\n",
    "    \n",
    "    # remove all punctuation\n",
    "    out = [regex.sub(\"[^\\\\w\\\\s]|\\n\", \"\", i) for i in out]\n",
    "    \n",
    "    # remove all numerics\n",
    "    out = [regex.sub(\"^[0-9]*$\", \"\", i) for i in out]\n",
    "    \n",
    "    # make all non-keywords lowercase\n",
    "    out = [i.lower() if i not in [\"URL\"] else i for i in out]\n",
    "    \n",
    "    # remove URL\n",
    "    out = [i for i in out if i not in [\"URL\",\"\"]]\n",
    "    \n",
    "    # remove stopwords\n",
    "    list_stop_words = nltk.corpus.stopwords.words(\"english\")\n",
    "    list_stop_words = [regex.sub(\"[^\\\\w\\\\s]\", \"\", i) for i in list_stop_words]\n",
    "    \n",
    "    out = [i for i in out if i not in list_stop_words]\n",
    "    \n",
    "    # lemmatizing\n",
    "    out = [do_lemmatizing(i) for i in out]\n",
    "    \n",
    "    # keep words 5 or more characters long\n",
    "    out = [i for i in out if len(i) >= 5]\n",
    "    \n",
    "    return out\n",
    "\n",
    "from time import time"
   ]
  },
  {
   "cell_type": "code",
   "execution_count": 25,
   "metadata": {},
   "outputs": [
    {
     "name": "stdout",
     "output_type": "stream",
     "text": [
      "765.0906779766083\n"
     ]
    }
   ],
   "source": [
    "# execute function\n",
    "# takes several minutes\n",
    "tick = time()\n",
    "clean = list(map(do_headline_cleaning, raw))\n",
    "print(time()-tick)"
   ]
  },
  {
   "cell_type": "code",
   "execution_count": 26,
   "metadata": {},
   "outputs": [
    {
     "name": "stdout",
     "output_type": "stream",
     "text": [
      "HEADLINES:\n",
      "[['obama', 'wreath', 'arlington', 'national', 'cemetery', 'president', 'barack', 'obama', 'wreath', 'unknown', 'honor'], ['haywood', 'investment', 'director', 'businessunit', 'income', 'discus', 'china', 'beige', 'state', 'economy'], ['nouriel', 'roubini', 'professor', 'chairman', 'roubini', 'global', 'economics', 'explain', 'global', 'economy', 'facing', 'conditions'], ['finland', 'economy', 'expand', 'marginally', 'three', 'month', 'december', 'contracting', 'previous', 'quarter', 'preliminary', 'figure', 'statistics', 'finland', 'monday'], ['tourism', 'public', 'spending', 'continue', 'boost', 'economy', 'january', 'light', 'contraction', 'private', 'consumption', 'export', 'accord', 'thailand']]\n",
      "\n",
      "LENGTH:\n",
      "92948\n",
      "\n"
     ]
    }
   ],
   "source": [
    "# remove none types\n",
    "\n",
    "clean = list(filter(None.__ne__, clean))\n",
    "print(\"HEADLINES:\\n{lines}\\n\".format(lines=clean[:5]))\n",
    "print(\"LENGTH:\\n{length}\\n\".format(length=len(clean)))"
   ]
  },
  {
   "cell_type": "code",
   "execution_count": 27,
   "metadata": {},
   "outputs": [],
   "source": [
    "# turn tokens back into string\n",
    "# concatenate with white spaces\n",
    "\n",
    "clean_sentences = [\" \".join(i) for i in clean]"
   ]
  },
  {
   "cell_type": "code",
   "execution_count": 28,
   "metadata": {},
   "outputs": [
    {
     "name": "stdout",
     "output_type": "stream",
     "text": [
      "['obama wreath arlington national cemetery president barack obama wreath unknown honor', 'haywood investment director businessunit income discus china beige state economy', 'nouriel roubini professor chairman roubini global economics explain global economy facing conditions', 'finland economy expand marginally three month december contracting previous quarter preliminary figure statistics finland monday', 'tourism public spending continue boost economy january light contraction private consumption export accord thailand', 'attendee expect latest version microsoft dynamics dynamics prweb february story', 'ramallah february palestine liberation organization sectretarygeneral erekat thursday express concern kenyan president uhuru kenyattas visit jerusalem jordan valley', 'first michelle obama speak state white house washington wednesday interactive student workshop musical legacy charles student school community organization across country participate quotin performance white housequot series', 'hancock county early monday morning family years', 'delhi feb29 technology giant microsoft target rival apple series focusing windows gross windows machine']\n"
     ]
    }
   ],
   "source": [
    "print(clean_sentences[0:10])"
   ]
  },
  {
   "cell_type": "markdown",
   "metadata": {},
   "source": [
    "#### Exercise 7.05: Count Vectorizer"
   ]
  },
  {
   "cell_type": "code",
   "execution_count": 29,
   "metadata": {},
   "outputs": [],
   "source": [
    "# define some global variables\n",
    "\n",
    "number_words = 10\n",
    "number_docs = 10\n",
    "number_features = 1000"
   ]
  },
  {
   "cell_type": "code",
   "execution_count": 30,
   "metadata": {},
   "outputs": [
    {
     "name": "stdout",
     "output_type": "stream",
     "text": [
      "  (0, 407)\t1\n",
      "  (0, 88)\t1\n",
      "  (0, 643)\t1\n",
      "  (0, 557)\t1\n",
      "  (0, 572)\t2\n"
     ]
    }
   ],
   "source": [
    "# execute bag of words model\n",
    "# use raw term counts for lda \n",
    "# as it is a probabilistic graphical model\n",
    "\n",
    "vectorizer1 = sklearn.feature_extraction.text.CountVectorizer(\n",
    "    analyzer=\"word\",\n",
    "    max_df=0.5, \n",
    "    min_df=20, \n",
    "    max_features=number_features\n",
    ")\n",
    "clean_vec1 = vectorizer1.fit_transform(clean_sentences)\n",
    "print(clean_vec1[0])\n",
    "\n",
    "feature_names_vec1 = vectorizer1.get_feature_names()"
   ]
  },
  {
   "cell_type": "markdown",
   "metadata": {},
   "source": [
    "#### Exercise 7.06: Select Number of Topics"
   ]
  },
  {
   "cell_type": "code",
   "execution_count": 31,
   "metadata": {},
   "outputs": [],
   "source": [
    "# define function to calculate perplexity for LDA model trained on ntopics\n",
    "\n",
    "def perplexity_by_ntopic(data, ntopics):\n",
    "    output_dict = {\n",
    "        \"Number Of Topics\": [], \n",
    "        \"Perplexity Score\": []\n",
    "    }\n",
    "    \n",
    "    for t in ntopics:\n",
    "        lda = sklearn.decomposition.LatentDirichletAllocation(\n",
    "            n_components=t,\n",
    "            learning_method=\"online\",\n",
    "            random_state=0\n",
    "        )\n",
    "        lda.fit(data)\n",
    "        \n",
    "        output_dict[\"Number Of Topics\"].append(t)\n",
    "        output_dict[\"Perplexity Score\"].append(lda.perplexity(data))\n",
    "        \n",
    "    output_df = pandas.DataFrame(output_dict)\n",
    "    \n",
    "    index_min_perplexity = output_df[\"Perplexity Score\"].idxmin()\n",
    "    output_num_topics = output_df.loc[\n",
    "        index_min_perplexity,  # index\n",
    "        \"Number Of Topics\"  # column\n",
    "    ]\n",
    "        \n",
    "    return (output_df, output_num_topics)"
   ]
  },
  {
   "cell_type": "code",
   "execution_count": 32,
   "metadata": {},
   "outputs": [],
   "source": [
    "# find perplexity scores for several different numbers of topics\n",
    "# takes several minutes\n",
    "\n",
    "df_perplexity, optimal_num_topics = perplexity_by_ntopic(\n",
    "    clean_vec1, \n",
    "    ntopics=[1, 2, 3, 4, 6, 8, 10]\n",
    ")"
   ]
  },
  {
   "cell_type": "code",
   "execution_count": 33,
   "metadata": {},
   "outputs": [
    {
     "name": "stdout",
     "output_type": "stream",
     "text": [
      "   Number Of Topics  Perplexity Score\n",
      "0                 1        510.020086\n",
      "1                 2        457.820551\n",
      "2                 3        409.051446\n",
      "3                 4        437.183973\n",
      "4                 6        497.264689\n",
      "5                 8        557.169678\n",
      "6                10        567.598787\n"
     ]
    }
   ],
   "source": [
    "print(df_perplexity)"
   ]
  },
  {
   "cell_type": "code",
   "execution_count": 34,
   "metadata": {},
   "outputs": [
    {
     "data": {
      "text/plain": [
       "<matplotlib.axes._subplots.AxesSubplot at 0x2135ba2b4a8>"
      ]
     },
     "execution_count": 34,
     "metadata": {},
     "output_type": "execute_result"
    },
    {
     "data": {
      "image/png": "[encoded data removed]",
      "text/plain": [
       "<Figure size 432x288 with 1 Axes>"
      ]
     },
     "metadata": {
      "needs_background": "light"
     },
     "output_type": "display_data"
    }
   ],
   "source": [
    "df_perplexity.plot.line(\"Number Of Topics\", \"Perplexity Score\")"
   ]
  },
  {
   "cell_type": "markdown",
   "metadata": {},
   "source": [
    "#### Exercise 7.07: Latent Dirichlet Allocation"
   ]
  },
  {
   "cell_type": "code",
   "execution_count": 35,
   "metadata": {},
   "outputs": [
    {
     "data": {
      "text/plain": [
       "LatentDirichletAllocation(batch_size=128, doc_topic_prior=None,\n",
       "                          evaluate_every=-1, learning_decay=0.7,\n",
       "                          learning_method='online', learning_offset=10.0,\n",
       "                          max_doc_update_iter=100, max_iter=10,\n",
       "                          mean_change_tol=0.001, n_components=3, n_jobs=None,\n",
       "                          perp_tol=0.1, random_state=0, topic_word_prior=None,\n",
       "                          total_samples=1000000.0, verbose=0)"
      ]
     },
     "execution_count": 35,
     "metadata": {},
     "output_type": "execute_result"
    }
   ],
   "source": [
    "# define and fit LDA model\n",
    "\n",
    "lda = sklearn.decomposition.LatentDirichletAllocation(\n",
    "    n_components=optimal_num_topics,\n",
    "    learning_method=\"online\",\n",
    "    random_state=0\n",
    ")\n",
    "lda.fit(clean_vec1)"
   ]
  },
  {
   "cell_type": "code",
   "execution_count": 36,
   "metadata": {},
   "outputs": [
    {
     "name": "stdout",
     "output_type": "stream",
     "text": [
      "(92948, 3)\n",
      "[[0.90420363 0.04761955 0.04817682]\n",
      " [0.04564682 0.0430928  0.91126038]\n",
      " [0.04444849 0.04484072 0.91071079]\n",
      " ...\n",
      " [0.53326188 0.03985842 0.4268797 ]\n",
      " [0.86105777 0.06910466 0.06983757]\n",
      " [0.30109183 0.45611859 0.24278958]]\n"
     ]
    }
   ],
   "source": [
    "# output matrix\n",
    "# h: docs to topics\n",
    "\n",
    "lda_transform = lda.transform(clean_vec1)\n",
    "print(lda_transform.shape)\n",
    "print(lda_transform)"
   ]
  },
  {
   "cell_type": "code",
   "execution_count": 37,
   "metadata": {},
   "outputs": [
    {
     "name": "stdout",
     "output_type": "stream",
     "text": [
      "(3, 1000)\n",
      "[[2.74822570e+02 3.76142048e-01 3.71156242e-01 ... 3.46784214e-01\n",
      "  1.71460504e+02 4.62034509e+02]\n",
      " [3.35530467e-01 2.72135918e+02 1.57781955e+01 ... 3.35634120e-01\n",
      "  2.03351734e+02 3.97472907e-01]\n",
      " [3.38131809e-01 4.48156208e-01 1.99759752e+02 ... 2.31716254e+02\n",
      "  1.28650071e+02 3.81988643e-01]]\n"
     ]
    }
   ],
   "source": [
    "# output matrix\n",
    "# w: words to topics\n",
    "\n",
    "lda_components = lda.components_\n",
    "print(lda_components.shape)\n",
    "print(lda_components)"
   ]
  },
  {
   "cell_type": "code",
   "execution_count": 38,
   "metadata": {},
   "outputs": [],
   "source": [
    "# define function to reformat output matrices into easily readable tables\n",
    "\n",
    "def get_topics(mod, vec, names, docs, ndocs, nwords):\n",
    "    # word to topic matrix\n",
    "    W = mod.components_\n",
    "    W_norm = W / W.sum(axis=1)[:, numpy.newaxis]\n",
    "    # topic to document matrix\n",
    "    H = mod.transform(vec)\n",
    "    \n",
    "    W_dict = {}\n",
    "    H_dict = {}\n",
    "    \n",
    "    for tpc_idx, tpc_val in enumerate(W_norm):\n",
    "        topic = \"Topic{}\".format(tpc_idx)\n",
    "        \n",
    "        # formatting w\n",
    "        W_indices = tpc_val.argsort()[::-1][:nwords]\n",
    "        W_names_values = [\n",
    "            (round(tpc_val[j], 4), names[j]) \n",
    "            for j in W_indices\n",
    "        ]\n",
    "        W_dict[topic] = W_names_values\n",
    "        \n",
    "        # formatting h\n",
    "        H_indices = H[:, tpc_idx].argsort()[::-1][:ndocs]\n",
    "        H_names_values = [\n",
    "            (round(H[:, tpc_idx][j], 4), docs[j]) \n",
    "            for j in H_indices\n",
    "        ]\n",
    "        H_dict[topic] = H_names_values\n",
    "        \n",
    "    W_df = pandas.DataFrame(\n",
    "        W_dict, \n",
    "        index=[\"Word\" + str(i) for i in range(nwords)]\n",
    "    )\n",
    "    H_df = pandas.DataFrame(\n",
    "        H_dict,\n",
    "        index=[\"Doc\" + str(i) for i in range(ndocs)]\n",
    "    )\n",
    "        \n",
    "    return (W_df, H_df)"
   ]
  },
  {
   "cell_type": "code",
   "execution_count": 39,
   "metadata": {},
   "outputs": [],
   "source": [
    "# run function\n",
    "\n",
    "W_df, H_df = get_topics(\n",
    "    mod=lda,\n",
    "    vec=clean_vec1,\n",
    "    names=feature_names_vec1,\n",
    "    docs=raw,\n",
    "    ndocs=number_docs, \n",
    "    nwords=number_words\n",
    ")"
   ]
  },
  {
   "cell_type": "code",
   "execution_count": 40,
   "metadata": {},
   "outputs": [
    {
     "name": "stdout",
     "output_type": "stream",
     "text": [
      "                      Topic0                Topic1               Topic2\n",
      "Word0        (0.0899, obama)   (0.1033, microsoft)    (0.0973, economy)\n",
      "Word1    (0.0779, president)     (0.0237, windows)   (0.0335, economic)\n",
      "Word2       (0.0448, barack)     (0.0231, company)     (0.0169, growth)\n",
      "Word3    (0.0162, palestine)  (0.0187, microsofts)     (0.0144, global)\n",
      "Word4        (0.014, obamas)    (0.0157, announce)  (0.012, government)\n",
      "Word5         (0.014, state)       (0.0141, today)      (0.0112, china)\n",
      "Word6   (0.0134, washington)     (0.0106, release)   (0.0112, minister)\n",
      "Word7  (0.0127, palestinian)      (0.0089, update)       (0.011, world)\n",
      "Word8        (0.0115, house)    (0.0087, business)    (0.0105, percent)\n",
      "Word9        (0.0106, white)     (0.0075, surface)    (0.0097, country)\n"
     ]
    }
   ],
   "source": [
    "# word-topic table\n",
    "\n",
    "print(W_df)"
   ]
  },
  {
   "cell_type": "code",
   "execution_count": 41,
   "metadata": {},
   "outputs": [
    {
     "name": "stdout",
     "output_type": "stream",
     "text": [
      "                                                 Topic0  \\\n",
      "Doc0  (0.9775, Political pressure: President Joko \"\"...   \n",
      "Doc1  (0.9775, In a remarkable strategic shift, Micr...   \n",
      "Doc2  (0.9773, Malia Obama is 17 and probably wants ...   \n",
      "Doc3  (0.9772, Finance Minister Bill English said th...   \n",
      "Doc4  (0.9771, On Wednesday, First Lady Michelle Oba...   \n",
      "Doc5  (0.9765, This Indian economic development woul...   \n",
      "Doc6  (0.9757, French Foreign Minister Laurent Fabiu...   \n",
      "Doc7  (0.9757, UNITED NATIONS \"\"\" France said Friday...   \n",
      "Doc8  (0.9756, [BEIJING] China's economy will not ha...   \n",
      "Doc9  (0.9755, By Jason Subler and Kevin Yao BEIJING...   \n",
      "\n",
      "                                                 Topic1  \\\n",
      "Doc0  (0.9776, That appears to be the thinking behin...   \n",
      "Doc1  (0.9764, OPERATORS and stakeholders in the nat...   \n",
      "Doc2  (0.9757, France's fragile economy has cooled i...   \n",
      "Doc3  (0.9754, US President Barack Obama on Wednesda...   \n",
      "Doc4  (0.9754, Software maker Microsoft Corp is sell...   \n",
      "Doc5  (0.9754, TSURUGA, Japan \"\"\" Visiting Hiroshima...   \n",
      "Doc6  (0.9752, President Barack Obama signed a bill ...   \n",
      "Doc7  (0.9751, President Barack Obama has told Vladi...   \n",
      "Doc8  (0.975, The Estonian economy was also positive...   \n",
      "Doc9  (0.975, Economist with the University of Ghana...   \n",
      "\n",
      "                                                 Topic2  \n",
      "Doc0  (0.9781, Microsoft CEO Satya Nadella discussed...  \n",
      "Doc1  (0.9781, Microsoft's latest Windows Phone, the...  \n",
      "Doc2  (0.978, High among them: how should America en...  \n",
      "Doc3  (0.978, Ifo economist Klaus Wohlrabe told Reut...  \n",
      "Doc4  (0.9779, Microsoft said Monday that it is buyi...  \n",
      "Doc5  (0.9779, Wall Street opened lower for the thir...  \n",
      "Doc6  (0.9779, Microsoft has been on the acquisition...  \n",
      "Doc7  (0.9778, Mobile security specialist Lookout ha...  \n",
      "Doc8  (0.9777, President Barack Obama embraces Hilla...  \n",
      "Doc9  (0.9772, Uncertainty about China's economic pr...  \n"
     ]
    }
   ],
   "source": [
    "# document-topic table\n",
    "\n",
    "print(H_df)"
   ]
  },
  {
   "cell_type": "markdown",
   "metadata": {},
   "source": [
    "#### Exercise 7.08: Visualizing LDA"
   ]
  },
  {
   "cell_type": "code",
   "execution_count": 42,
   "metadata": {},
   "outputs": [
    {
     "data": {
      "text/html": [
       "\n",
       "<link rel=\"stylesheet\" type=\"text/css\" href=\"https://cdn.rawgit.com/bmabey/pyLDAvis/files/ldavis.v1.0.0.css\">\n",
       "\n",
       "\n",
       "<div id=\"ldavis_el1220022821647481048184697602\"></div>\n",
       "<script type=\"text/javascript\">\n",
       "\n",
       "var ldavis_el1220022821647481048184697602_data = {\"mdsDat\": {\"x\": [0.270581516696469, -0.029928526859989053, -0.24065298983648004], \"y\": [0.11497458473310578, -0.27893759585197225, 0.1639630111188665], \"topics\": [1, 2, 3], \"cluster\": [1, 1, 1], \"Freq\": [38.08679350638855, 35.08075160706359, 26.83245488654785]}, \"tinfo\": {\"Term\": [\"microsoft\", \"economy\", \"obama\", \"president\", \"barack\", \"economic\", \"windows\", \"company\", \"microsofts\", \"growth\", \"obama\", \"president\", \"barack\", \"palestine\", \"obamas\", \"palestinian\", \"washington\", \"house\", \"white\", \"administration\", \"state\", \"economy\", \"economic\", \"growth\", \"global\", \"china\", \"percent\", \"quarter\", \"european\", \"britain\", \"financial\", \"expect\", \"government\", \"minister\", \"market\", \"world\", \"country\", \"microsoft\", \"windows\", \"company\", \"microsofts\", \"today\", \"update\", \"surface\", \"software\", \"cloud\", \"technology\", \"announce\", \"release\", \"business\"], \"Freq\": [21411.0, 26369.0, 26441.0, 22923.0, 13171.0, 9067.0, 4905.0, 4792.0, 3874.0, 4591.0, 26441.060984260672, 22922.800359648638, 13170.979850787671, 4778.194577280981, 4121.467488446382, 3736.7683626818325, 3931.714720249202, 3396.9017415463795, 3131.5667264408726, 3057.5649751603955, 4116.979971807198, 26369.08929253669, 9066.42065591202, 4590.479168435865, 3891.1334454698194, 3029.0091724039157, 2838.529365745255, 2461.4635304752683, 1952.7186104236985, 1509.6937344733744, 1495.5559526198133, 2150.9323728046475, 3263.5545145812384, 3027.8191451175044, 2530.800989325594, 2975.2025763955253, 2626.7369832801096, 21411.276480377903, 4904.838932537933, 4791.377151146207, 3873.3326562992065, 2929.829454461952, 1836.1337443567318, 1557.9931520948057, 1511.076342115421, 1492.0038115934237, 1476.5327534650055, 3250.0539317688617, 2205.284219501819, 1800.2826654506007], \"Total\": [21411.0, 26369.0, 26441.0, 22923.0, 13171.0, 9067.0, 4905.0, 4792.0, 3874.0, 4591.0, 26441.752938421254, 22923.49741812077, 13171.667775653395, 4778.904552701225, 4122.161375513205, 3737.4661736047715, 3932.473846232854, 3397.5950891679327, 3132.260443252469, 3058.269798237777, 5370.774655604598, 26369.78516251364, 9067.120434513115, 4591.162535817058, 3891.86414554387, 3029.706519962717, 2839.2174823784153, 2462.147014919517, 1953.4456551160915, 1510.4162127775123, 1496.2908155957953, 2152.8075758156156, 3312.228674512736, 3115.1523245945164, 2996.6768332595652, 4246.3653110804935, 3476.4201669513322, 21411.94670046643, 4905.503367337246, 4792.08008233524, 3874.0012631515524, 2930.735485743221, 1836.8132357088466, 1558.6602182039571, 1511.7469467784167, 1492.678800997187, 1477.2199839525595, 3782.925491306958, 2669.656782251734, 3275.0840558038285], \"Category\": [\"Default\", \"Default\", \"Default\", \"Default\", \"Default\", \"Default\", \"Default\", \"Default\", \"Default\", \"Default\", \"Topic1\", \"Topic1\", \"Topic1\", \"Topic1\", \"Topic1\", \"Topic1\", \"Topic1\", \"Topic1\", \"Topic1\", \"Topic1\", \"Topic1\", \"Topic2\", \"Topic2\", \"Topic2\", \"Topic2\", \"Topic2\", \"Topic2\", \"Topic2\", \"Topic2\", \"Topic2\", \"Topic2\", \"Topic2\", \"Topic2\", \"Topic2\", \"Topic2\", \"Topic2\", \"Topic2\", \"Topic3\", \"Topic3\", \"Topic3\", \"Topic3\", \"Topic3\", \"Topic3\", \"Topic3\", \"Topic3\", \"Topic3\", \"Topic3\", \"Topic3\", \"Topic3\", \"Topic3\"], \"logprob\": [10.0, 9.0, 8.0, 7.0, 6.0, 5.0, 4.0, 3.0, 2.0, 1.0, -2.4091, -2.5519, -3.106, -4.1199, -4.2678, -4.3658, -4.3149, -4.4611, -4.5425, -4.5664, -4.2689, -2.3296, -3.3972, -4.0778, -4.2431, -4.4936, -4.5585, -4.701, -4.9326, -5.1899, -5.1993, -4.8359, -4.419, -4.4939, -4.6733, -4.5115, -4.636, -2.2698, -3.7435, -3.7669, -3.9796, -4.2588, -4.7261, -4.8903, -4.9209, -4.9336, -4.9441, -4.1551, -4.5429, -4.7458], \"loglift\": [10.0, 9.0, 8.0, 7.0, 6.0, 5.0, 4.0, 3.0, 2.0, 1.0, 0.9653, 0.9653, 0.9653, 0.9652, 0.9651, 0.9651, 0.9651, 0.9651, 0.9651, 0.9651, 0.6995, 1.0475, 1.0474, 1.0474, 1.0473, 1.0473, 1.0473, 1.0472, 1.0471, 1.047, 1.047, 1.0466, 1.0327, 1.0191, 0.8785, 0.6918, 0.7673, 1.3155, 1.3154, 1.3154, 1.3154, 1.3152, 1.3152, 1.3151, 1.3151, 1.3151, 1.3151, 1.1637, 1.1245, 0.7172]}, \"token.table\": {\"Topic\": [1, 1, 3, 1, 2, 2, 3, 2, 3, 3, 1, 2, 2, 2, 2, 2, 3, 2, 2, 1, 2, 2, 1, 2, 3, 3, 3, 1, 2, 1, 1, 1, 1, 2, 1, 2, 2, 3, 3, 1, 2, 3, 3, 1, 3, 3, 1, 1, 3, 1, 2, 3], \"Freq\": [0.999911780759849, 0.1408962458353507, 0.859123450215553, 0.9999493021183976, 0.9997244383541495, 0.4500647845626744, 0.5496042145270108, 0.9997668025077473, 0.999545246441007, 0.9997746109587731, 0.2442167399875993, 0.7556623980535021, 0.9998764288484743, 0.999970224918072, 0.9997718620352072, 0.9991603635011685, 0.00046450969944266323, 0.9998056423305122, 0.9997779610203353, 0.014491753051157108, 0.9854392074786833, 0.9997467883552393, 0.9998248498857825, 0.8446022513702166, 0.15550559033525127, 0.9999557863430321, 0.9997415428949195, 0.027928008307370442, 0.9720230937323874, 0.9999715246404802, 0.9997182605416411, 0.9998107196552579, 0.9998752701474427, 0.9999234005919712, 0.9999783009498203, 0.9995341403610074, 0.17380511348302874, 0.8259488690303414, 0.9995059048870524, 0.7665560862256177, 0.23329967841649232, 0.9995764194169798, 0.9998510824691318, 0.0003412112778053747, 0.999749043969748, 0.9995572572687104, 0.9998795042888059, 0.9999168513419662, 0.9998973872201173, 0.16814380009578633, 0.7005991670657763, 0.13117100371618065], \"Term\": [\"administration\", \"announce\", \"announce\", \"barack\", \"britain\", \"business\", \"business\", \"china\", \"cloud\", \"company\", \"country\", \"country\", \"economic\", \"economy\", \"european\", \"expect\", \"expect\", \"financial\", \"global\", \"government\", \"government\", \"growth\", \"house\", \"market\", \"market\", \"microsoft\", \"microsofts\", \"minister\", \"minister\", \"obama\", \"obamas\", \"palestine\", \"palestinian\", \"percent\", \"president\", \"quarter\", \"release\", \"release\", \"software\", \"state\", \"state\", \"surface\", \"technology\", \"today\", \"today\", \"update\", \"washington\", \"white\", \"windows\", \"world\", \"world\", \"world\"]}, \"R\": 10, \"lambda.step\": 0.01, \"plot.opts\": {\"xlab\": \"PC1\", \"ylab\": \"PC2\"}, \"topic.order\": [1, 3, 2]};\n",
       "\n",
       "function LDAvis_load_lib(url, callback){\n",
       "  var s = document.createElement('script');\n",
       "  s.src = url;\n",
       "  s.async = true;\n",
       "  s.onreadystatechange = s.onload = callback;\n",
       "  s.onerror = function(){console.warn(\"failed to load library \" + url);};\n",
       "  document.getElementsByTagName(\"head\")[0].appendChild(s);\n",
       "}\n",
       "\n",
       "if(typeof(LDAvis) !== \"undefined\"){\n",
       "   // already loaded: just create the visualization\n",
       "   !function(LDAvis){\n",
       "       new LDAvis(\"#\" + \"ldavis_el1220022821647481048184697602\", ldavis_el1220022821647481048184697602_data);\n",
       "   }(LDAvis);\n",
       "}else if(typeof define === \"function\" && define.amd){\n",
       "   // require.js is available: use it to load d3/LDAvis\n",
       "   require.config({paths: {d3: \"https://cdnjs.cloudflare.com/ajax/libs/d3/3.5.5/d3.min\"}});\n",
       "   require([\"d3\"], function(d3){\n",
       "      window.d3 = d3;\n",
       "      LDAvis_load_lib(\"https://cdn.rawgit.com/bmabey/pyLDAvis/files/ldavis.v1.0.0.js\", function(){\n",
       "        new LDAvis(\"#\" + \"ldavis_el1220022821647481048184697602\", ldavis_el1220022821647481048184697602_data);\n",
       "      });\n",
       "    });\n",
       "}else{\n",
       "    // require.js not available: dynamically load d3 & LDAvis\n",
       "    LDAvis_load_lib(\"https://cdnjs.cloudflare.com/ajax/libs/d3/3.5.5/d3.min.js\", function(){\n",
       "         LDAvis_load_lib(\"https://cdn.rawgit.com/bmabey/pyLDAvis/files/ldavis.v1.0.0.js\", function(){\n",
       "                 new LDAvis(\"#\" + \"ldavis_el1220022821647481048184697602\", ldavis_el1220022821647481048184697602_data);\n",
       "            })\n",
       "         });\n",
       "}\n",
       "</script>"
      ],
      "text/plain": [
       "<IPython.core.display.HTML object>"
      ]
     },
     "execution_count": 42,
     "metadata": {},
     "output_type": "execute_result"
    }
   ],
   "source": [
    "# iterative visualization\n",
    "# featuring pca biplot and histogram\n",
    "\n",
    "lda_plot = pyLDAvis.sklearn.prepare(lda, clean_vec1, vectorizer1, R=10)\n",
    "pyLDAvis.display(lda_plot)"
   ]
  },
  {
   "cell_type": "code",
   "execution_count": 43,
   "metadata": {},
   "outputs": [],
   "source": [
    "# define functiont to fit and plot t-SNE model\n",
    "\n",
    "def plot_tsne(data, threshold):\n",
    "    # filter data according to threshold\n",
    "    index_meet_threshold = numpy.amax(data, axis=1) >= threshold\n",
    "    lda_transform_filt = data[index_meet_threshold]\n",
    "    \n",
    "    # fit tsne model\n",
    "    # x-d -> 2-d, x = number of topics\n",
    "    tsne = sklearn.manifold.TSNE(\n",
    "        n_components=2, \n",
    "        verbose=0, \n",
    "        random_state=0, \n",
    "        angle=0.5, \n",
    "        init='pca'\n",
    "    )\n",
    "    tsne_fit = tsne.fit_transform(lda_transform_filt)\n",
    "    \n",
    "    # most probable topic for each headline\n",
    "    most_prob_topic = []\n",
    "    for i in range(tsne_fit.shape[0]):\n",
    "        most_prob_topic.append(lda_transform_filt[i].argmax())\n",
    "    \n",
    "    print(\"LENGTH:\\n{}\\n\".format(len(most_prob_topic)))\n",
    "\n",
    "    unique, counts = numpy.unique(\n",
    "        numpy.array(most_prob_topic), \n",
    "        return_counts=True\n",
    "    )\n",
    "\n",
    "    print(\"COUNTS:\\n{}\\n\".format(numpy.asarray((unique, counts)).T))\n",
    "    \n",
    "    # make plot\n",
    "    color_list = ['b', 'g', 'r', 'c', 'm', 'y', 'k']\n",
    "\n",
    "    for i in list(set(most_prob_topic)):\n",
    "        indices = [idx for idx, val in enumerate(most_prob_topic) if val == i]\n",
    "        matplotlib.pyplot.scatter(\n",
    "            x=tsne_fit[indices, 0], \n",
    "            y=tsne_fit[indices, 1], \n",
    "            s=0.5, \n",
    "            c=color_list[i], \n",
    "            label='Topic' + str(i),\n",
    "            alpha=0.25\n",
    "        )\n",
    "\n",
    "    matplotlib.pyplot.xlabel('x-tsne')\n",
    "    matplotlib.pyplot.ylabel('y-tsne')\n",
    "    matplotlib.pyplot.legend(markerscale=10)"
   ]
  },
  {
   "cell_type": "code",
   "execution_count": 44,
   "metadata": {},
   "outputs": [
    {
     "name": "stdout",
     "output_type": "stream",
     "text": [
      "LENGTH:\n",
      "57886\n",
      "\n",
      "COUNTS:\n",
      "[[    0 22950]\n",
      " [    1 15390]\n",
      " [    2 19546]]\n",
      "\n"
     ]
    },
    {
     "data": {
      "image/png": "[encoded data removed]",
      "text/plain": [
       "<Figure size 432x288 with 1 Axes>"
      ]
     },
     "metadata": {
      "needs_background": "light"
     },
     "output_type": "display_data"
    }
   ],
   "source": [
    "plot_tsne(data=lda_transform, threshold=0.75)"
   ]
  },
  {
   "cell_type": "markdown",
   "metadata": {},
   "source": [
    "#### Exercise 7.09: Trying 4 Topics"
   ]
  },
  {
   "cell_type": "code",
   "execution_count": 45,
   "metadata": {},
   "outputs": [
    {
     "data": {
      "text/plain": [
       "LatentDirichletAllocation(batch_size=128, doc_topic_prior=None,\n",
       "                          evaluate_every=-1, learning_decay=0.7,\n",
       "                          learning_method='online', learning_offset=10.0,\n",
       "                          max_doc_update_iter=100, max_iter=10,\n",
       "                          mean_change_tol=0.001, n_components=4, n_jobs=None,\n",
       "                          perp_tol=0.1, random_state=0, topic_word_prior=None,\n",
       "                          total_samples=1000000.0, verbose=0)"
      ]
     },
     "execution_count": 45,
     "metadata": {},
     "output_type": "execute_result"
    }
   ],
   "source": [
    "# rerun LDA model using number of topics equal to 4\n",
    "\n",
    "lda4 = sklearn.decomposition.LatentDirichletAllocation(\n",
    "    n_components=4,  # number of topics data suggests\n",
    "    learning_method=\"online\",\n",
    "    random_state=0\n",
    ")\n",
    "lda4.fit(clean_vec1)"
   ]
  },
  {
   "cell_type": "code",
   "execution_count": 46,
   "metadata": {},
   "outputs": [],
   "source": [
    "# run function to output raw matrices in nice table format\n",
    "\n",
    "W_df4, H_df4 = get_topics(\n",
    "    mod=lda4,\n",
    "    vec=clean_vec1,\n",
    "    names=feature_names_vec1,\n",
    "    docs=raw,\n",
    "    ndocs=number_docs, \n",
    "    nwords=number_words\n",
    ")"
   ]
  },
  {
   "cell_type": "code",
   "execution_count": 47,
   "metadata": {},
   "outputs": [
    {
     "name": "stdout",
     "output_type": "stream",
     "text": [
      "                   Topic0               Topic1                Topic2  \\\n",
      "Word0   (0.0707, economy)  (0.1163, microsoft)     (0.0932, economy)   \n",
      "Word1    (0.0212, growth)    (0.0266, windows)     (0.037, economic)   \n",
      "Word2   (0.0195, percent)     (0.026, company)       (0.0246, world)   \n",
      "Word3  (0.0184, economic)  (0.021, microsofts)      (0.0226, global)   \n",
      "Word4   (0.0169, quarter)     (0.0176, report)    (0.0181, minister)   \n",
      "Word5     (0.0162, first)   (0.0168, announce)       (0.0176, china)   \n",
      "Word6     (0.0149, month)    (0.0117, release)  (0.0172, government)   \n",
      "Word7    (0.0148, expect)      (0.0114, today)      (0.0151, market)   \n",
      "Word8  (0.0134, european)     (0.0111, policy)       (0.0124, could)   \n",
      "Word9   (0.0122, support)       (0.01, update)     (0.0117, country)   \n",
      "\n",
      "                      Topic3  \n",
      "Word0         (0.098, obama)  \n",
      "Word1     (0.085, president)  \n",
      "Word2       (0.0488, barack)  \n",
      "Word3    (0.0177, palestine)  \n",
      "Word4        (0.0154, state)  \n",
      "Word5       (0.0153, obamas)  \n",
      "Word6   (0.0146, washington)  \n",
      "Word7  (0.0139, palestinian)  \n",
      "Word8        (0.0126, house)  \n",
      "Word9        (0.0116, white)  \n"
     ]
    }
   ],
   "source": [
    "# word-topic table\n",
    "\n",
    "print(W_df4)"
   ]
  },
  {
   "cell_type": "code",
   "execution_count": 48,
   "metadata": {},
   "outputs": [
    {
     "name": "stdout",
     "output_type": "stream",
     "text": [
      "                                                 Topic0  \\\n",
      "Doc0  (0.9755, Mobile security specialist Lookout ha...   \n",
      "Doc1  (0.9748, Uncertainty about China's economic pr...   \n",
      "Doc2  (0.9745, Last year I wrote about my Surface Pr...   \n",
      "Doc3  (0.9745, Recently the Arab nations converged i...   \n",
      "Doc4  (0.9739, SHANGHAI/BEIJING -- As China aims to ...   \n",
      "Doc5  (0.9721, Samsung and Microsoft seem to be suff...   \n",
      "Doc6  (0.9721, Earlier this week, Donald Trump took ...   \n",
      "Doc7  (0.9719, Microsoft Corp.'s diversity efforts m...   \n",
      "Doc8  (0.9697, Sandoval Rejects Supreme Court Consid...   \n",
      "Doc9  (0.9696, A perusal of the Organisation for Eco...   \n",
      "\n",
      "                                                 Topic1  \\\n",
      "Doc0  (0.9724, President of the European Central Ban...   \n",
      "Doc1  (0.9721, Economist with the University of Ghan...   \n",
      "Doc2  (0.9721, The Estonian economy was also positiv...   \n",
      "Doc3  (0.9721, 2 economy could be sucked into a Japa...   \n",
      "Doc4  (0.9714, Earlier this week, ID@Xbox director C...   \n",
      "Doc5  (0.9709, New Delhi: Business and economy, coun...   \n",
      "Doc6  (0.9706, US President Barack Obama has signed ...   \n",
      "Doc7  (0.9706, Microsoft Research projects are purel...   \n",
      "Doc8  (0.9705, Donald Trump said Tuesday that it was...   \n",
      "Doc9  (0.9698, New Delhi, Dec 9 (IANS) Microsoft Ven...   \n",
      "\n",
      "                                                 Topic2  \\\n",
      "Doc0  (0.9524, Although the economy is facing the st...   \n",
      "Doc1  (0.9522, Li said it was \"\"\"impossible\"\"\" for h...   \n",
      "Doc2  (0.9457, Seth Terkper last week said the econo...   \n",
      "Doc3  (0.9457, Released by Texas Department of Trans...   \n",
      "Doc4  (0.9457, While the higher education sector has...   \n",
      "Doc5  (0.9456, It's really interesting to see Micros...   \n",
      "Doc6  (0.9445, He voted for President Obama but has ...   \n",
      "Doc7  (0.942, Congress asked the Obama administratio...   \n",
      "Doc8  (0.942, President Obama will finally sit down ...   \n",
      "Doc9  (0.942, Microsoft's search-engine technology i...   \n",
      "\n",
      "                                                 Topic3  \n",
      "Doc0  (0.9755, In a remarkable strategic shift, Micr...  \n",
      "Doc1  (0.9755, Political pressure: President Joko \"\"...  \n",
      "Doc2  (0.973, UNITED NATIONS \"\"\" France said Friday ...  \n",
      "Doc3  (0.973, French Foreign Minister Laurent Fabius...  \n",
      "Doc4  (0.9728, Belgian newspaper De Morgen is being ...  \n",
      "Doc5  (0.972, Facebook's Mark Zuckerberg has caved i...  \n",
      "Doc6  (0.9708, Seven years after the global financia...  \n",
      "Doc7  (0.9708, Microsoft announced that their Employ...  \n",
      "Doc8  (0.9704, In Occupied Palestine, however, the e...  \n",
      "Doc9  (0.9694, In his speech, President Obama noted ...  \n"
     ]
    }
   ],
   "source": [
    "# document-topic table\n",
    "\n",
    "print(H_df4)"
   ]
  },
  {
   "cell_type": "code",
   "execution_count": 49,
   "metadata": {},
   "outputs": [
    {
     "data": {
      "text/html": [
       "\n",
       "<link rel=\"stylesheet\" type=\"text/css\" href=\"https://cdn.rawgit.com/bmabey/pyLDAvis/files/ldavis.v1.0.0.css\">\n",
       "\n",
       "\n",
       "<div id=\"ldavis_el1220022822039280402205759198\"></div>\n",
       "<script type=\"text/javascript\">\n",
       "\n",
       "var ldavis_el1220022822039280402205759198_data = {\"mdsDat\": {\"x\": [-0.19393835878632817, -0.2506033502065415, 0.1946753978349269, 0.24986631115794286], \"y\": [-0.2958836585389855, 0.25899102962377496, 0.03075499978798344, 0.0061376291272268995], \"topics\": [1, 2, 3, 4], \"cluster\": [1, 1, 1, 1], \"Freq\": [34.31283430392212, 23.347823997927, 22.698749610904493, 19.64059208724638]}, \"tinfo\": {\"Term\": [\"microsoft\", \"obama\", \"president\", \"economy\", \"barack\", \"economic\", \"windows\", \"company\", \"world\", \"global\", \"obama\", \"president\", \"barack\", \"palestine\", \"obamas\", \"washington\", \"palestinian\", \"house\", \"white\", \"administration\", \"state\", \"microsoft\", \"windows\", \"company\", \"microsofts\", \"report\", \"update\", \"surface\", \"software\", \"cloud\", \"technology\", \"policy\", \"announce\", \"release\", \"today\", \"world\", \"global\", \"minister\", \"china\", \"financial\", \"prime\", \"recent\", \"major\", \"india\", \"trade\", \"government\", \"market\", \"economy\", \"economic\", \"could\", \"country\", \"percent\", \"quarter\", \"european\", \"expect\", \"three\", \"support\", \"britain\", \"expand\", \"consumer\", \"april\", \"public\", \"growth\", \"economy\", \"month\", \"first\", \"economic\"], \"Freq\": [20972.0, 25980.0, 22523.0, 27057.0, 12941.0, 9283.0, 4804.0, 4693.0, 4311.0, 3957.0, 25979.34616000489, 22522.51452827508, 12940.94846521708, 4694.704665829279, 4049.4355496864914, 3863.0362594855505, 3671.454682315244, 3337.521019604924, 3076.8192298904005, 3004.113580727333, 4088.9623678210364, 20972.058161270004, 4804.158587346094, 4693.044061846185, 3793.809281256866, 3180.140902322314, 1798.400513822187, 1525.9563508583665, 1480.0034837182602, 1461.3250556421692, 1446.1757743311057, 1999.5901699108751, 3032.9291587076173, 2105.2044291206744, 2063.7138460484816, 4310.704603318623, 3956.5085090243006, 3167.9293488628305, 3079.85994404403, 1520.6565322358185, 1519.5888777672221, 1444.0796763956537, 1354.9090702950225, 1266.5903313031158, 1276.870187091389, 3008.3139394435198, 2642.6836891859457, 16339.392393378921, 6489.0738601375715, 2170.258699863425, 2056.3117591756386, 2953.5517501774443, 2561.1955584996167, 2031.8409449605606, 2239.120025223091, 1665.477216643328, 1846.8829251647674, 1570.8527152857355, 1242.7357369651352, 1218.7757275250394, 1252.5684643252894, 1255.896541020533, 3217.301159053094, 10717.735380878017, 2259.00678691257, 2464.4019504912403, 2793.7040977849024], \"Total\": [20972.0, 25980.0, 22523.0, 27057.0, 12941.0, 9283.0, 4804.0, 4693.0, 4311.0, 3957.0, 25980.1218301276, 22523.292308337495, 12941.721924969017, 4695.489744975148, 4050.212812761731, 3863.8375081383156, 3672.2341008298918, 3338.2968166891383, 3077.5945984377927, 3004.895934048188, 5317.826501787785, 20972.821105475225, 4804.917742969333, 4693.822129791855, 3794.571483792508, 3181.020697807098, 1799.1656690748682, 1526.7170420472146, 1480.7660622656763, 1462.089167249685, 1446.9477860173376, 2005.7238460608482, 3701.227038229259, 2645.00623196815, 2855.5813584872644, 4311.527332602382, 3957.2863730723225, 3168.7056632307144, 3080.6332803152104, 1521.4344017258218, 1520.3700306731998, 1444.8856886361182, 1355.7331641842163, 1267.3734597509717, 1277.6644097423107, 3376.9544832693164, 3030.283908633393, 27057.629930687268, 9283.281769139008, 2491.796298389675, 3532.845332341706, 2954.311784635467, 2561.9509781665047, 2032.6207103049107, 2240.0306849104268, 1666.2553154417844, 1847.7772826293683, 1571.6266539126468, 1243.515929510626, 1219.5526582672671, 1253.3700105978978, 1256.7178106648948, 4741.730047626266, 27057.629930687268, 3362.5634835855367, 5524.071785998098, 9283.281769139008], \"Category\": [\"Default\", \"Default\", \"Default\", \"Default\", \"Default\", \"Default\", \"Default\", \"Default\", \"Default\", \"Default\", \"Topic1\", \"Topic1\", \"Topic1\", \"Topic1\", \"Topic1\", \"Topic1\", \"Topic1\", \"Topic1\", \"Topic1\", \"Topic1\", \"Topic1\", \"Topic2\", \"Topic2\", \"Topic2\", \"Topic2\", \"Topic2\", \"Topic2\", \"Topic2\", \"Topic2\", \"Topic2\", \"Topic2\", \"Topic2\", \"Topic2\", \"Topic2\", \"Topic2\", \"Topic3\", \"Topic3\", \"Topic3\", \"Topic3\", \"Topic3\", \"Topic3\", \"Topic3\", \"Topic3\", \"Topic3\", \"Topic3\", \"Topic3\", \"Topic3\", \"Topic3\", \"Topic3\", \"Topic3\", \"Topic3\", \"Topic4\", \"Topic4\", \"Topic4\", \"Topic4\", \"Topic4\", \"Topic4\", \"Topic4\", \"Topic4\", \"Topic4\", \"Topic4\", \"Topic4\", \"Topic4\", \"Topic4\", \"Topic4\", \"Topic4\", \"Topic4\"], \"logprob\": [10.0, 9.0, 8.0, 7.0, 6.0, 5.0, 4.0, 3.0, 2.0, 1.0, -2.3224, -2.4651, -3.0193, -4.0332, -4.1811, -4.2282, -4.2791, -4.3744, -4.4558, -4.4797, -4.1714, -2.1514, -3.6252, -3.6486, -3.8613, -4.0377, -4.6077, -4.772, -4.8026, -4.8153, -4.8257, -4.5017, -4.0851, -4.4502, -4.4701, -3.7053, -3.7911, -4.0134, -4.0416, -4.7473, -4.748, -4.799, -4.8627, -4.9301, -4.922, -4.0651, -4.1947, -2.3729, -3.2963, -4.3916, -4.4455, -3.9387, -4.0813, -4.3128, -4.2157, -4.5116, -4.4082, -4.5701, -4.8044, -4.8239, -4.7965, -4.7939, -3.8532, -2.6498, -4.2068, -4.1198, -3.9944], \"loglift\": [10.0, 9.0, 8.0, 7.0, 6.0, 5.0, 4.0, 3.0, 2.0, 1.0, 1.0696, 1.0696, 1.0696, 1.0695, 1.0695, 1.0694, 1.0694, 1.0694, 1.0694, 1.0694, 0.8069, 1.4546, 1.4545, 1.4545, 1.4545, 1.4544, 1.4542, 1.4542, 1.4542, 1.4541, 1.4541, 1.4516, 1.2555, 1.2264, 1.1299, 1.4827, 1.4827, 1.4826, 1.4826, 1.4823, 1.4823, 1.4823, 1.4823, 1.4822, 1.4822, 1.3673, 1.346, 0.9785, 1.1248, 1.3447, 0.9417, 1.6273, 1.6273, 1.6272, 1.6272, 1.6271, 1.6271, 1.6271, 1.6269, 1.6269, 1.6269, 1.6269, 1.2397, 0.7015, 1.2298, 0.8204, 0.4267]}, \"token.table\": {\"Topic\": [1, 1, 2, 4, 1, 4, 3, 2, 2, 4, 2, 3, 1, 3, 4, 3, 4, 3, 4, 4, 4, 4, 3, 1, 2, 4, 3, 3, 4, 3, 4, 1, 3, 3, 2, 3, 2, 2, 3, 1, 2, 3, 4, 1, 1, 1, 1, 4, 2, 3, 1, 3, 4, 4, 3, 2, 4, 2, 2, 1, 3, 4, 2, 2, 4, 1, 2, 3, 3, 2, 1, 1, 2, 3], \"Freq\": [0.9997018419047276, 0.18048068737755266, 0.8194579712816126, 0.9997047874173076, 0.9999442172399312, 0.9996012704982531, 0.9997944317750325, 0.9992550609948545, 0.999824848541525, 0.999546835256747, 0.12882272929269797, 0.8708577026951858, 0.18710131291308577, 0.5819671699686904, 0.23097529703037514, 0.6989984965846654, 0.3009711510953237, 0.6038592456861571, 0.39611747323974733, 0.9996946256122631, 0.9995851042207163, 0.9995398791108667, 0.999714478833048, 0.3937313062283128, 0.16020791081014107, 0.44604778783750015, 0.999927633978104, 0.8907434242607493, 0.10897392956381508, 0.321401679280102, 0.6784443584278793, 0.9999110873881393, 0.9997053277799859, 0.9994592120311098, 0.1277108058744669, 0.8721955036853126, 0.9999608490688451, 0.9998493943795896, 0.9997773023733625, 0.1421534499893824, 0.1772457242545437, 0.008624372488895584, 0.671808877669487, 0.999956819674098, 0.9997005557935351, 0.999895698851079, 0.9996639373209859, 0.9998944645459938, 0.9971462441990259, 0.0029914387325970775, 0.9999870219533853, 0.9997566180168416, 0.9994288211253128, 0.999628807040178, 0.999387018195914, 0.7958393347276421, 0.20378023820342, 0.999679128838174, 0.9994826581421618, 0.7689231678817147, 0.23092141114178175, 0.9995793418196688, 0.9995303373005825, 0.9993449756608382, 0.9992466247938411, 0.1582865074590085, 0.7227950252110477, 0.11871488059425638, 0.9994799810206464, 0.9993521057594059, 0.9997832444722244, 0.9998067976730611, 0.9998089992340294, 0.9998776923902595], \"Term\": [\"administration\", \"announce\", \"announce\", \"april\", \"barack\", \"britain\", \"china\", \"cloud\", \"company\", \"consumer\", \"could\", \"could\", \"country\", \"country\", \"country\", \"economic\", \"economic\", \"economy\", \"economy\", \"european\", \"expand\", \"expect\", \"financial\", \"first\", \"first\", \"first\", \"global\", \"government\", \"government\", \"growth\", \"growth\", \"house\", \"india\", \"major\", \"market\", \"market\", \"microsoft\", \"microsofts\", \"minister\", \"month\", \"month\", \"month\", \"month\", \"obama\", \"obamas\", \"palestine\", \"palestinian\", \"percent\", \"policy\", \"policy\", \"president\", \"prime\", \"public\", \"quarter\", \"recent\", \"release\", \"release\", \"report\", \"software\", \"state\", \"state\", \"support\", \"surface\", \"technology\", \"three\", \"today\", \"today\", \"today\", \"trade\", \"update\", \"washington\", \"white\", \"windows\", \"world\"]}, \"R\": 10, \"lambda.step\": 0.01, \"plot.opts\": {\"xlab\": \"PC1\", \"ylab\": \"PC2\"}, \"topic.order\": [4, 2, 3, 1]};\n",
       "\n",
       "function LDAvis_load_lib(url, callback){\n",
       "  var s = document.createElement('script');\n",
       "  s.src = url;\n",
       "  s.async = true;\n",
       "  s.onreadystatechange = s.onload = callback;\n",
       "  s.onerror = function(){console.warn(\"failed to load library \" + url);};\n",
       "  document.getElementsByTagName(\"head\")[0].appendChild(s);\n",
       "}\n",
       "\n",
       "if(typeof(LDAvis) !== \"undefined\"){\n",
       "   // already loaded: just create the visualization\n",
       "   !function(LDAvis){\n",
       "       new LDAvis(\"#\" + \"ldavis_el1220022822039280402205759198\", ldavis_el1220022822039280402205759198_data);\n",
       "   }(LDAvis);\n",
       "}else if(typeof define === \"function\" && define.amd){\n",
       "   // require.js is available: use it to load d3/LDAvis\n",
       "   require.config({paths: {d3: \"https://cdnjs.cloudflare.com/ajax/libs/d3/3.5.5/d3.min\"}});\n",
       "   require([\"d3\"], function(d3){\n",
       "      window.d3 = d3;\n",
       "      LDAvis_load_lib(\"https://cdn.rawgit.com/bmabey/pyLDAvis/files/ldavis.v1.0.0.js\", function(){\n",
       "        new LDAvis(\"#\" + \"ldavis_el1220022822039280402205759198\", ldavis_el1220022822039280402205759198_data);\n",
       "      });\n",
       "    });\n",
       "}else{\n",
       "    // require.js not available: dynamically load d3 & LDAvis\n",
       "    LDAvis_load_lib(\"https://cdnjs.cloudflare.com/ajax/libs/d3/3.5.5/d3.min.js\", function(){\n",
       "         LDAvis_load_lib(\"https://cdn.rawgit.com/bmabey/pyLDAvis/files/ldavis.v1.0.0.js\", function(){\n",
       "                 new LDAvis(\"#\" + \"ldavis_el1220022822039280402205759198\", ldavis_el1220022822039280402205759198_data);\n",
       "            })\n",
       "         });\n",
       "}\n",
       "</script>"
      ],
      "text/plain": [
       "<IPython.core.display.HTML object>"
      ]
     },
     "execution_count": 49,
     "metadata": {},
     "output_type": "execute_result"
    }
   ],
   "source": [
    "# iteractive visualization\n",
    "\n",
    "lda4_plot = pyLDAvis.sklearn.prepare(lda4, clean_vec1, vectorizer1, R=10)\n",
    "pyLDAvis.display(lda4_plot)"
   ]
  },
  {
   "cell_type": "markdown",
   "metadata": {},
   "source": [
    "#### Exercise 7.10: TF-IDF Vectorizer"
   ]
  },
  {
   "cell_type": "code",
   "execution_count": 50,
   "metadata": {},
   "outputs": [
    {
     "name": "stdout",
     "output_type": "stream",
     "text": [
      "  (0, 572)\t0.45076460427797926\n",
      "  (0, 557)\t0.4665979850812555\n",
      "  (0, 643)\t0.23483844757454633\n",
      "  (0, 88)\t0.2807222740764602\n",
      "  (0, 407)\t0.6671907525036204\n"
     ]
    }
   ],
   "source": [
    "# convert to bag of words model\n",
    "# use tf-idf method this time\n",
    "\n",
    "vectorizer2 = sklearn.feature_extraction.text.TfidfVectorizer(\n",
    "    analyzer=\"word\",\n",
    "    max_df=0.5, \n",
    "    min_df=20, \n",
    "    max_features=number_features,\n",
    "    smooth_idf=False\n",
    ")\n",
    "clean_vec2 = vectorizer2.fit_transform(clean_sentences)\n",
    "print(clean_vec2[0])"
   ]
  },
  {
   "cell_type": "code",
   "execution_count": 51,
   "metadata": {},
   "outputs": [
    {
     "data": {
      "text/plain": [
       "['abbas',\n",
       " 'ability',\n",
       " 'accelerate',\n",
       " 'accept',\n",
       " 'access',\n",
       " 'accord',\n",
       " 'account',\n",
       " 'accused',\n",
       " 'achieve',\n",
       " 'acknowledge',\n",
       " 'acquire',\n",
       " 'acquisition',\n",
       " 'across',\n",
       " 'action',\n",
       " 'activist',\n",
       " 'activity',\n",
       " 'actually',\n",
       " 'addition',\n",
       " 'address',\n",
       " 'administration',\n",
       " 'admit',\n",
       " 'advance',\n",
       " 'adviser',\n",
       " 'affairs',\n",
       " 'affect',\n",
       " 'africa',\n",
       " 'african',\n",
       " 'afternoon',\n",
       " 'agency',\n",
       " 'agenda',\n",
       " 'agree',\n",
       " 'agreement',\n",
       " 'ahead',\n",
       " 'alberta',\n",
       " 'allies',\n",
       " 'allow',\n",
       " 'almost',\n",
       " 'along',\n",
       " 'already',\n",
       " 'although',\n",
       " 'always',\n",
       " 'amazon',\n",
       " 'america',\n",
       " 'american',\n",
       " 'among',\n",
       " 'amount',\n",
       " 'analysis',\n",
       " 'analyst',\n",
       " 'android',\n",
       " 'anniversary',\n",
       " 'announce',\n",
       " 'announcement',\n",
       " 'annual',\n",
       " 'another',\n",
       " 'answer',\n",
       " 'antonin',\n",
       " 'appeal',\n",
       " 'appear',\n",
       " 'apple',\n",
       " 'application',\n",
       " 'approach',\n",
       " 'approve',\n",
       " 'april',\n",
       " 'arabia',\n",
       " 'argentina',\n",
       " 'argue',\n",
       " 'around',\n",
       " 'arrive',\n",
       " 'article',\n",
       " 'asian',\n",
       " 'assistant',\n",
       " 'associate',\n",
       " 'association',\n",
       " 'attack',\n",
       " 'attempt',\n",
       " 'attend',\n",
       " 'attention',\n",
       " 'augment',\n",
       " 'australia',\n",
       " 'australian',\n",
       " 'author',\n",
       " 'authorities',\n",
       " 'authority',\n",
       " 'available',\n",
       " 'average',\n",
       " 'award',\n",
       " 'azure',\n",
       " 'banks',\n",
       " 'barack',\n",
       " 'battle',\n",
       " 'become',\n",
       " 'begin',\n",
       " 'beginning',\n",
       " 'behind',\n",
       " 'beijing',\n",
       " 'belief',\n",
       " 'believe',\n",
       " 'benefit',\n",
       " 'bernardino',\n",
       " 'bernie',\n",
       " 'better',\n",
       " 'billion',\n",
       " 'black',\n",
       " 'blame',\n",
       " 'block',\n",
       " 'bloomberg',\n",
       " 'board',\n",
       " 'boost',\n",
       " 'border',\n",
       " 'brand',\n",
       " 'brazil',\n",
       " 'break',\n",
       " 'brexit',\n",
       " 'bring',\n",
       " 'bringing',\n",
       " 'britain',\n",
       " 'british',\n",
       " 'broad',\n",
       " 'browser',\n",
       " 'brussels',\n",
       " 'budget',\n",
       " 'build',\n",
       " 'building',\n",
       " 'bureau',\n",
       " 'business',\n",
       " 'california',\n",
       " 'calling',\n",
       " 'campaign',\n",
       " 'canada',\n",
       " 'canadian',\n",
       " 'candidate',\n",
       " 'capital',\n",
       " 'carry',\n",
       " 'cause',\n",
       " 'celebrate',\n",
       " 'center',\n",
       " 'central',\n",
       " 'centre',\n",
       " 'century',\n",
       " 'ceremony',\n",
       " 'chair',\n",
       " 'chairman',\n",
       " 'challenge',\n",
       " 'chance',\n",
       " 'change',\n",
       " 'charge',\n",
       " 'check',\n",
       " 'chicago',\n",
       " 'chief',\n",
       " 'child',\n",
       " 'china',\n",
       " 'chinese',\n",
       " 'choice',\n",
       " 'choose',\n",
       " 'chris',\n",
       " 'christmas',\n",
       " 'citizen',\n",
       " 'civil',\n",
       " 'claim',\n",
       " 'class',\n",
       " 'clear',\n",
       " 'climate',\n",
       " 'clinton',\n",
       " 'close',\n",
       " 'cloud',\n",
       " 'collapse',\n",
       " 'college',\n",
       " 'combat',\n",
       " 'coming',\n",
       " 'comment',\n",
       " 'commerce',\n",
       " 'commission',\n",
       " 'commitment',\n",
       " 'committee',\n",
       " 'commodity',\n",
       " 'community',\n",
       " 'company',\n",
       " 'compare',\n",
       " 'complete',\n",
       " 'computer',\n",
       " 'computing',\n",
       " 'concern',\n",
       " 'conditions',\n",
       " 'conference',\n",
       " 'confidence',\n",
       " 'confirm',\n",
       " 'conflict',\n",
       " 'congress',\n",
       " 'connect',\n",
       " 'conservative',\n",
       " 'consider',\n",
       " 'console',\n",
       " 'construction',\n",
       " 'consumer',\n",
       " 'consumption',\n",
       " 'content',\n",
       " 'continue',\n",
       " 'contract',\n",
       " 'contribute',\n",
       " 'control',\n",
       " 'cooperation',\n",
       " 'corporate',\n",
       " 'corporation',\n",
       " 'cortana',\n",
       " 'could',\n",
       " 'council',\n",
       " 'country',\n",
       " 'county',\n",
       " 'couple',\n",
       " 'course',\n",
       " 'court',\n",
       " 'cover',\n",
       " 'create',\n",
       " 'credit',\n",
       " 'crisis',\n",
       " 'critical',\n",
       " 'criticism',\n",
       " 'criticize',\n",
       " 'cuban',\n",
       " 'currency',\n",
       " 'current',\n",
       " 'currently',\n",
       " 'customer',\n",
       " 'daily',\n",
       " 'damage',\n",
       " 'daughter',\n",
       " 'david',\n",
       " 'death',\n",
       " 'debate',\n",
       " 'decade',\n",
       " 'december',\n",
       " 'decide',\n",
       " 'decision',\n",
       " 'declare',\n",
       " 'decline',\n",
       " 'defend',\n",
       " 'defense',\n",
       " 'delhi',\n",
       " 'deliver',\n",
       " 'demand',\n",
       " 'democrat',\n",
       " 'democratic',\n",
       " 'department',\n",
       " 'deputy',\n",
       " 'describe',\n",
       " 'design',\n",
       " 'despite',\n",
       " 'details',\n",
       " 'develop',\n",
       " 'developer',\n",
       " 'developing',\n",
       " 'development',\n",
       " 'device',\n",
       " 'devices',\n",
       " 'different',\n",
       " 'difficult',\n",
       " 'digital',\n",
       " 'dinner',\n",
       " 'direct',\n",
       " 'director',\n",
       " 'discus',\n",
       " 'discuss',\n",
       " 'discussion',\n",
       " 'display',\n",
       " 'district',\n",
       " 'document',\n",
       " 'dollar',\n",
       " 'domestic',\n",
       " 'donald',\n",
       " 'download',\n",
       " 'downturn',\n",
       " 'drive',\n",
       " 'driver',\n",
       " 'dynamics',\n",
       " 'earlier',\n",
       " 'early',\n",
       " 'earnings',\n",
       " 'economic',\n",
       " 'economist',\n",
       " 'economy',\n",
       " 'economyquot',\n",
       " 'edition',\n",
       " 'education',\n",
       " 'effect',\n",
       " 'effort',\n",
       " 'eight',\n",
       " 'elect',\n",
       " 'election',\n",
       " 'email',\n",
       " 'emerge',\n",
       " 'employee',\n",
       " 'employment',\n",
       " 'enable',\n",
       " 'encourage',\n",
       " 'endorse',\n",
       " 'energy',\n",
       " 'engine',\n",
       " 'england',\n",
       " 'enough',\n",
       " 'ensure',\n",
       " 'enter',\n",
       " 'enterprise',\n",
       " 'environment',\n",
       " 'especially',\n",
       " 'estimate',\n",
       " 'europe',\n",
       " 'european',\n",
       " 'eurozone',\n",
       " 'event',\n",
       " 'every',\n",
       " 'everything',\n",
       " 'evidence',\n",
       " 'exchange',\n",
       " 'executive',\n",
       " 'exist',\n",
       " 'expand',\n",
       " 'expansion',\n",
       " 'expect',\n",
       " 'expectation',\n",
       " 'experience',\n",
       " 'expert',\n",
       " 'explain',\n",
       " 'explorer',\n",
       " 'export',\n",
       " 'express',\n",
       " 'extend',\n",
       " 'external',\n",
       " 'facebook',\n",
       " 'facing',\n",
       " 'factor',\n",
       " 'family',\n",
       " 'feature',\n",
       " 'february',\n",
       " 'federal',\n",
       " 'fight',\n",
       " 'figure',\n",
       " 'final',\n",
       " 'finally',\n",
       " 'finance',\n",
       " 'financial',\n",
       " 'first',\n",
       " 'fiscal',\n",
       " 'florida',\n",
       " 'focus',\n",
       " 'follow',\n",
       " 'following',\n",
       " 'force',\n",
       " 'forecast',\n",
       " 'foreign',\n",
       " 'former',\n",
       " 'forum',\n",
       " 'forward',\n",
       " 'found',\n",
       " 'foundation',\n",
       " 'fourth',\n",
       " 'france',\n",
       " 'francisco',\n",
       " 'freedom',\n",
       " 'french',\n",
       " 'fresh',\n",
       " 'friday',\n",
       " 'friend',\n",
       " 'front',\n",
       " 'funding',\n",
       " 'future',\n",
       " 'gaming',\n",
       " 'garland',\n",
       " 'gather',\n",
       " 'general',\n",
       " 'generate',\n",
       " 'generation',\n",
       " 'george',\n",
       " 'german',\n",
       " 'germany',\n",
       " 'getting',\n",
       " 'giant',\n",
       " 'given',\n",
       " 'giving',\n",
       " 'global',\n",
       " 'going',\n",
       " 'google',\n",
       " 'government',\n",
       " 'governor',\n",
       " 'grant',\n",
       " 'great',\n",
       " 'greater',\n",
       " 'gross',\n",
       " 'ground',\n",
       " 'group',\n",
       " 'growing',\n",
       " 'growth',\n",
       " 'hands',\n",
       " 'happen',\n",
       " 'hardware',\n",
       " 'havana',\n",
       " 'headset',\n",
       " 'health',\n",
       " 'helping',\n",
       " 'higher',\n",
       " 'highlight',\n",
       " 'hillary',\n",
       " 'hiroshima',\n",
       " 'historic',\n",
       " 'history',\n",
       " 'holding',\n",
       " 'holiday',\n",
       " 'hololens',\n",
       " 'honor',\n",
       " 'hours',\n",
       " 'house',\n",
       " 'however',\n",
       " 'human',\n",
       " 'hundred',\n",
       " 'identify',\n",
       " 'image',\n",
       " 'immigration',\n",
       " 'impact',\n",
       " 'important',\n",
       " 'improve',\n",
       " 'improvement',\n",
       " 'include',\n",
       " 'income',\n",
       " 'increase',\n",
       " 'increasingly',\n",
       " 'independent',\n",
       " 'index',\n",
       " 'india',\n",
       " 'indian',\n",
       " 'indicate',\n",
       " 'indicator',\n",
       " 'indonesia',\n",
       " 'industrial',\n",
       " 'industry',\n",
       " 'inflation',\n",
       " 'information',\n",
       " 'infrastructure',\n",
       " 'initiative',\n",
       " 'innovation',\n",
       " 'inside',\n",
       " 'insider',\n",
       " 'instead',\n",
       " 'institute',\n",
       " 'intelligence',\n",
       " 'interest',\n",
       " 'international',\n",
       " 'internet',\n",
       " 'interview',\n",
       " 'introduce',\n",
       " 'investment',\n",
       " 'investor',\n",
       " 'involve',\n",
       " 'ireland',\n",
       " 'islamic',\n",
       " 'island',\n",
       " 'israel',\n",
       " 'israeli',\n",
       " 'issue',\n",
       " 'january',\n",
       " 'japan',\n",
       " 'japanese',\n",
       " 'jerusalem',\n",
       " 'jewish',\n",
       " 'joint',\n",
       " 'journalist',\n",
       " 'judge',\n",
       " 'justice',\n",
       " 'justin',\n",
       " 'keeping',\n",
       " 'keyboard',\n",
       " 'kingdom',\n",
       " 'korea',\n",
       " 'kuala',\n",
       " 'labor',\n",
       " 'labour',\n",
       " 'laptop',\n",
       " 'large',\n",
       " 'largely',\n",
       " 'later',\n",
       " 'latest',\n",
       " 'launch',\n",
       " 'lawmaker',\n",
       " 'leader',\n",
       " 'leaders',\n",
       " 'leadership',\n",
       " 'leading',\n",
       " 'learn',\n",
       " 'least',\n",
       " 'leave',\n",
       " 'leaving',\n",
       " 'legacy',\n",
       " 'legal',\n",
       " 'legislation',\n",
       " 'letter',\n",
       " 'level',\n",
       " 'liberation',\n",
       " 'likely',\n",
       " 'linkedin',\n",
       " 'linux',\n",
       " 'little',\n",
       " 'local',\n",
       " 'london',\n",
       " 'longer',\n",
       " 'looking',\n",
       " 'lower',\n",
       " 'lumia',\n",
       " 'lumpur',\n",
       " 'machine',\n",
       " 'mahmoud',\n",
       " 'maintain',\n",
       " 'major',\n",
       " 'majority',\n",
       " 'maker',\n",
       " 'making',\n",
       " 'malaysia',\n",
       " 'manage',\n",
       " 'management',\n",
       " 'manager',\n",
       " 'manufacturing',\n",
       " 'march',\n",
       " 'market',\n",
       " 'massive',\n",
       " 'matter',\n",
       " 'mayor',\n",
       " 'means',\n",
       " 'measure',\n",
       " 'medium',\n",
       " 'meeting',\n",
       " 'member',\n",
       " 'mention',\n",
       " 'message',\n",
       " 'michelle',\n",
       " 'michigan',\n",
       " 'microsoft',\n",
       " 'microsofts',\n",
       " 'middle',\n",
       " 'middot',\n",
       " 'might',\n",
       " 'military',\n",
       " 'million',\n",
       " 'minister',\n",
       " 'ministry',\n",
       " 'mobile',\n",
       " 'model',\n",
       " 'moment',\n",
       " 'momentum',\n",
       " 'monday',\n",
       " 'monetary',\n",
       " 'money',\n",
       " 'month',\n",
       " 'morning',\n",
       " 'moscow',\n",
       " 'mosque',\n",
       " 'movement',\n",
       " 'muslim',\n",
       " 'nadella',\n",
       " 'nasdaqmsft',\n",
       " 'nation',\n",
       " 'national',\n",
       " 'nearly',\n",
       " 'negative',\n",
       " 'network',\n",
       " 'never',\n",
       " 'nigeria',\n",
       " 'night',\n",
       " 'nominate',\n",
       " 'nomination',\n",
       " 'nominee',\n",
       " 'north',\n",
       " 'november',\n",
       " 'nuclear',\n",
       " 'number',\n",
       " 'numbers',\n",
       " 'obama',\n",
       " 'obamas',\n",
       " 'occupation',\n",
       " 'occupy',\n",
       " 'october',\n",
       " 'offer',\n",
       " 'offering',\n",
       " 'office',\n",
       " 'officer',\n",
       " 'official',\n",
       " 'officially',\n",
       " 'often',\n",
       " 'ongoing',\n",
       " 'online',\n",
       " 'opening',\n",
       " 'operate',\n",
       " 'opportunity',\n",
       " 'opposition',\n",
       " 'optimistic',\n",
       " 'option',\n",
       " 'order',\n",
       " 'organization',\n",
       " 'orlando',\n",
       " 'others',\n",
       " 'outlook',\n",
       " 'output',\n",
       " 'outside',\n",
       " 'overall',\n",
       " 'owner',\n",
       " 'palestine',\n",
       " 'palestinian',\n",
       " 'paris',\n",
       " 'parliament',\n",
       " 'particularly',\n",
       " 'partner',\n",
       " 'partnership',\n",
       " 'party',\n",
       " 'peace',\n",
       " 'people',\n",
       " 'percent',\n",
       " 'performance',\n",
       " 'period',\n",
       " 'person',\n",
       " 'personal',\n",
       " 'phone',\n",
       " 'photo',\n",
       " 'picture',\n",
       " 'place',\n",
       " 'planning',\n",
       " 'platform',\n",
       " 'player',\n",
       " 'pledge',\n",
       " 'plunge',\n",
       " 'point',\n",
       " 'police',\n",
       " 'policy',\n",
       " 'political',\n",
       " 'politics',\n",
       " 'popular',\n",
       " 'position',\n",
       " 'positive',\n",
       " 'possible',\n",
       " 'potential',\n",
       " 'power',\n",
       " 'powerful',\n",
       " 'praise',\n",
       " 'predict',\n",
       " 'premier',\n",
       " 'prepare',\n",
       " 'present',\n",
       " 'presidency',\n",
       " 'president',\n",
       " 'presidential',\n",
       " 'press',\n",
       " 'pressure',\n",
       " 'presumptive',\n",
       " 'pretty',\n",
       " 'prevent',\n",
       " 'preview',\n",
       " 'previous',\n",
       " 'previously',\n",
       " 'price',\n",
       " 'primary',\n",
       " 'prime',\n",
       " 'priority',\n",
       " 'prison',\n",
       " 'private',\n",
       " 'probably',\n",
       " 'problem',\n",
       " 'process',\n",
       " 'produce',\n",
       " 'product',\n",
       " 'production',\n",
       " 'productivity',\n",
       " 'professional',\n",
       " 'program',\n",
       " 'progress',\n",
       " 'project',\n",
       " 'promise',\n",
       " 'promote',\n",
       " 'proposal',\n",
       " 'propose',\n",
       " 'prospect',\n",
       " 'protect',\n",
       " 'protection',\n",
       " 'provide',\n",
       " 'provider',\n",
       " 'public',\n",
       " 'publish',\n",
       " 'purchase',\n",
       " 'pushing',\n",
       " 'putin',\n",
       " 'quarter',\n",
       " 'quarterly',\n",
       " 'question',\n",
       " 'quickly',\n",
       " 'quite',\n",
       " 'quota',\n",
       " 'quoti',\n",
       " 'quotthe',\n",
       " 'quotwe',\n",
       " 'raise',\n",
       " 'raising',\n",
       " 'rally',\n",
       " 'ramallah',\n",
       " 'range',\n",
       " 'rates',\n",
       " 'rather',\n",
       " 'rating',\n",
       " 'reach',\n",
       " 'ready',\n",
       " 'reality',\n",
       " 'really',\n",
       " 'reason',\n",
       " 'rebound',\n",
       " 'receive',\n",
       " 'recent',\n",
       " 'recently',\n",
       " 'recession',\n",
       " 'recognize',\n",
       " 'record',\n",
       " 'recover',\n",
       " 'recovery',\n",
       " 'redmond',\n",
       " 'reduce',\n",
       " 'referendum',\n",
       " 'reflect',\n",
       " 'reform',\n",
       " 'refugee',\n",
       " 'refuse',\n",
       " 'regard',\n",
       " 'region',\n",
       " 'regional',\n",
       " 'regulation',\n",
       " 'relate',\n",
       " 'relations',\n",
       " 'relationship',\n",
       " 'release',\n",
       " 'remain',\n",
       " 'remains',\n",
       " 'remark',\n",
       " 'remove',\n",
       " 'replace',\n",
       " 'report',\n",
       " 'reporter',\n",
       " 'represent',\n",
       " 'republican',\n",
       " 'request',\n",
       " 'require',\n",
       " 'research',\n",
       " 'researcher',\n",
       " 'reserve',\n",
       " 'resident',\n",
       " 'resolution',\n",
       " 'resource',\n",
       " 'respond',\n",
       " 'response',\n",
       " 'result',\n",
       " 'retail',\n",
       " 'return',\n",
       " 'reuters',\n",
       " 'reveal',\n",
       " 'revenue',\n",
       " 'review',\n",
       " 'revive',\n",
       " 'right',\n",
       " 'rising',\n",
       " 'rival',\n",
       " 'robust',\n",
       " 'round',\n",
       " 'running',\n",
       " 'russia',\n",
       " 'russian',\n",
       " 'sales',\n",
       " 'sanction',\n",
       " 'sander',\n",
       " 'saturday',\n",
       " 'satya',\n",
       " 'saudi',\n",
       " 'saying',\n",
       " 'scalia',\n",
       " 'schedule',\n",
       " 'school',\n",
       " 'science',\n",
       " 'search',\n",
       " 'season',\n",
       " 'second',\n",
       " 'secretary',\n",
       " 'sector',\n",
       " 'secure',\n",
       " 'security',\n",
       " 'seeking',\n",
       " 'select',\n",
       " 'senate',\n",
       " 'senator',\n",
       " 'senior',\n",
       " 'sense',\n",
       " 'sentence',\n",
       " 'september',\n",
       " 'series',\n",
       " 'serious',\n",
       " 'serve',\n",
       " 'server',\n",
       " 'service',\n",
       " 'services',\n",
       " 'session',\n",
       " 'seven',\n",
       " 'several',\n",
       " 'share',\n",
       " 'sharing',\n",
       " 'sharp',\n",
       " 'shift',\n",
       " 'shock',\n",
       " 'shooting',\n",
       " 'short',\n",
       " 'showing',\n",
       " 'shrink',\n",
       " 'signal',\n",
       " 'significant',\n",
       " 'similar',\n",
       " 'since',\n",
       " 'singapore',\n",
       " 'single',\n",
       " 'sitting',\n",
       " 'situation',\n",
       " 'skype',\n",
       " 'slightly',\n",
       " 'slowdown',\n",
       " 'slowing',\n",
       " 'sluggish',\n",
       " 'slump',\n",
       " 'small',\n",
       " 'smart',\n",
       " 'smartphone',\n",
       " 'socalled',\n",
       " 'social',\n",
       " 'society',\n",
       " 'software',\n",
       " 'solid',\n",
       " 'solidarity',\n",
       " 'solution',\n",
       " 'something',\n",
       " 'sound',\n",
       " 'source',\n",
       " 'south',\n",
       " 'southeast',\n",
       " 'space',\n",
       " 'speak',\n",
       " 'speaker',\n",
       " 'speaking',\n",
       " 'special',\n",
       " 'speech',\n",
       " 'spend',\n",
       " 'spending',\n",
       " 'spoke',\n",
       " 'spring',\n",
       " 'staff',\n",
       " 'stage',\n",
       " 'stand',\n",
       " 'standard',\n",
       " 'start',\n",
       " 'starting',\n",
       " 'startup',\n",
       " 'state',\n",
       " 'statement',\n",
       " 'statistics',\n",
       " 'steady',\n",
       " 'steps',\n",
       " 'still',\n",
       " 'stimulus',\n",
       " 'stock',\n",
       " 'stocks',\n",
       " 'storage',\n",
       " 'store',\n",
       " 'story',\n",
       " 'strategy',\n",
       " 'street',\n",
       " 'strength',\n",
       " 'strike',\n",
       " 'strong',\n",
       " 'struggle',\n",
       " 'student',\n",
       " 'studio',\n",
       " 'study',\n",
       " 'success',\n",
       " 'suffer',\n",
       " 'suggest',\n",
       " 'summer',\n",
       " 'summit',\n",
       " 'sunday',\n",
       " 'support',\n",
       " 'supporter',\n",
       " 'supreme',\n",
       " 'surface',\n",
       " 'surge',\n",
       " 'surprise',\n",
       " 'survey',\n",
       " 'syria',\n",
       " 'syrian',\n",
       " 'system',\n",
       " 'tablet',\n",
       " 'tackle',\n",
       " 'taking',\n",
       " 'talks',\n",
       " 'target',\n",
       " 'technology',\n",
       " 'terms',\n",
       " 'territory',\n",
       " 'terror',\n",
       " 'terrorism',\n",
       " 'terrorist',\n",
       " 'texas',\n",
       " 'thanks',\n",
       " 'thats',\n",
       " 'there',\n",
       " 'theyre',\n",
       " 'thing',\n",
       " 'things',\n",
       " 'think',\n",
       " 'third',\n",
       " 'though',\n",
       " 'thought',\n",
       " 'thousand',\n",
       " 'threat',\n",
       " 'threaten',\n",
       " 'three',\n",
       " 'throw',\n",
       " 'thursday',\n",
       " 'times',\n",
       " 'title',\n",
       " 'today',\n",
       " 'together',\n",
       " 'tokyo',\n",
       " 'total',\n",
       " 'tough',\n",
       " 'tourism',\n",
       " 'toward',\n",
       " 'towards',\n",
       " 'track',\n",
       " 'trade',\n",
       " 'trading',\n",
       " 'transgender',\n",
       " 'transition',\n",
       " 'travel',\n",
       " 'trend',\n",
       " 'trillion',\n",
       " 'trouble',\n",
       " 'trudeau',\n",
       " 'trump',\n",
       " 'tuesday',\n",
       " 'turkey',\n",
       " 'twitter',\n",
       " 'uncertainty',\n",
       " 'unemployment',\n",
       " 'union',\n",
       " 'unite',\n",
       " 'university',\n",
       " 'unveil',\n",
       " 'upcoming',\n",
       " 'update',\n",
       " 'upgrade',\n",
       " 'using',\n",
       " 'value',\n",
       " 'vehicle',\n",
       " 'version',\n",
       " 'victim',\n",
       " 'video',\n",
       " 'vietnam',\n",
       " 'violence',\n",
       " 'virtual',\n",
       " 'vision',\n",
       " 'visit',\n",
       " 'vladimir',\n",
       " 'voice',\n",
       " 'voter',\n",
       " 'warning',\n",
       " 'washington',\n",
       " 'watch',\n",
       " 'water',\n",
       " 'weakness',\n",
       " 'website',\n",
       " 'wednesday',\n",
       " 'weekend',\n",
       " 'weigh',\n",
       " 'welcome',\n",
       " 'western',\n",
       " 'whats',\n",
       " 'whether',\n",
       " 'white',\n",
       " 'whose',\n",
       " 'windows',\n",
       " 'within',\n",
       " 'without',\n",
       " 'woman',\n",
       " 'words',\n",
       " 'worker',\n",
       " 'working',\n",
       " 'works',\n",
       " 'world',\n",
       " 'worry',\n",
       " 'worst',\n",
       " 'worth',\n",
       " 'would',\n",
       " 'write',\n",
       " 'years',\n",
       " 'yellen',\n",
       " 'yesterday',\n",
       " 'young']"
      ]
     },
     "execution_count": 51,
     "metadata": {},
     "output_type": "execute_result"
    }
   ],
   "source": [
    "feature_names_vec2 = vectorizer2.get_feature_names()\n",
    "feature_names_vec2"
   ]
  },
  {
   "cell_type": "markdown",
   "metadata": {},
   "source": [
    "#### Exercise 7.11: Non-negative Matrix Factorization"
   ]
  },
  {
   "cell_type": "code",
   "execution_count": 52,
   "metadata": {},
   "outputs": [
    {
     "data": {
      "text/plain": [
       "NMF(alpha=0.1, beta_loss='frobenius', init='nndsvda', l1_ratio=0.5,\n",
       "    max_iter=200, n_components=4, random_state=0, shuffle=False, solver='mu',\n",
       "    tol=0.0001, verbose=0)"
      ]
     },
     "execution_count": 52,
     "metadata": {},
     "output_type": "execute_result"
    }
   ],
   "source": [
    "# define and fit nmf model\n",
    "\n",
    "nmf = sklearn.decomposition.NMF(\n",
    "    n_components=4,\n",
    "    init=\"nndsvda\",\n",
    "    solver=\"mu\",\n",
    "    beta_loss=\"frobenius\",\n",
    "    random_state=0, \n",
    "    alpha=0.1, \n",
    "    l1_ratio=0.5\n",
    ")\n",
    "nmf.fit(clean_vec2)"
   ]
  },
  {
   "cell_type": "code",
   "execution_count": 53,
   "metadata": {},
   "outputs": [],
   "source": [
    "# run function to produce nice output tables\n",
    "\n",
    "W_df, H_df = get_topics(\n",
    "    mod=nmf,\n",
    "    vec=clean_vec2,\n",
    "    names=feature_names_vec2,\n",
    "    docs=raw,\n",
    "    ndocs=number_docs, \n",
    "    nwords=number_words\n",
    ")"
   ]
  },
  {
   "cell_type": "code",
   "execution_count": 54,
   "metadata": {},
   "outputs": [
    {
     "name": "stdout",
     "output_type": "stream",
     "text": [
      "                         Topic0              Topic1                Topic2  \\\n",
      "Word0           (0.0696, obama)   (0.0628, economy)    (0.087, microsoft)   \n",
      "Word1       (0.0646, president)  (0.0212, economic)     (0.0306, windows)   \n",
      "Word2          (0.0484, barack)    (0.0179, growth)     (0.0196, company)   \n",
      "Word3      (0.0157, washington)    (0.0144, global)    (0.0162, announce)   \n",
      "Word4           (0.0149, house)     (0.0128, china)  (0.0124, microsofts)   \n",
      "Word5           (0.0144, white)   (0.0111, percent)      (0.0118, update)   \n",
      "Word6          (0.0127, obamas)     (0.0109, world)     (0.0106, release)   \n",
      "Word7           (0.0109, state)   (0.0096, quarter)         (0.01, today)   \n",
      "Word8  (0.0096, administration)    (0.0093, market)     (0.0096, surface)   \n",
      "Word9           (0.0081, first)   (0.0086, country)    (0.0085, software)   \n",
      "\n",
      "                        Topic3  \n",
      "Word0      (0.0879, palestine)  \n",
      "Word1    (0.0765, palestinian)  \n",
      "Word2         (0.031, israeli)  \n",
      "Word3         (0.0278, israel)  \n",
      "Word4          (0.0172, state)  \n",
      "Word5  (0.0094, international)  \n",
      "Word6       (0.0092, ramallah)  \n",
      "Word7        (0.009, minister)  \n",
      "Word8          (0.0079, unite)  \n",
      "Word9          (0.0078, force)  \n"
     ]
    }
   ],
   "source": [
    "# word-topic table\n",
    "\n",
    "print(W_df)"
   ]
  },
  {
   "cell_type": "code",
   "execution_count": 55,
   "metadata": {},
   "outputs": [
    {
     "name": "stdout",
     "output_type": "stream",
     "text": [
      "                                                 Topic0  \\\n",
      "Doc0  (0.0844, America is emerging as a top tax have...   \n",
      "Doc1  (0.0844, Obama believes Congress will lift the...   \n",
      "Doc2  (0.0844, RAMALLAH, April 20, 2016 (WAFA) – Pri...   \n",
      "Doc3  (0.0844, Facebook, Twitter, Google's YouTube a...   \n",
      "Doc4  (0.0844, Las Vegas air traffic is the simplest...   \n",
      "Doc5  (0.0844, New Microsoft Surface Pro 4s sit on d...   \n",
      "Doc6  (0.0844, Microsoft is sending out invites for ...   \n",
      "Doc7  (0.0844, If you haven't already seen \"\"\"Virgin...   \n",
      "Doc8  (0.0844, Obama is merely trying to assure our ...   \n",
      "Doc9  (0.0844, President Obama met with gun control ...   \n",
      "\n",
      "                                                 Topic1  \\\n",
      "Doc0  (0.0677, President Barack Obama on Thursday sh...   \n",
      "Doc1  (0.0677, Full episode of &quot;What'd You Miss...   \n",
      "Doc2  (0.0677, President extols national parks on vi...   \n",
      "Doc3  (0.0677, One of China's long-term economic pla...   \n",
      "Doc4  (0.0677, Lagos Chambers of Commerce and Indust...   \n",
      "Doc5  (0.0677, The maximum length for a path (file n...   \n",
      "Doc6  (0.0677, Brazil's economy shrank 1.7 percent i...   \n",
      "Doc7  (0.0677, W. Kamau Bell is a sociopolitical sta...   \n",
      "Doc8  (0.0677, Glenn Maguire, chief Asia-Pacific eco...   \n",
      "Doc9  (0.0677, Working with local start-ups like Maw...   \n",
      "\n",
      "                                                 Topic2  \\\n",
      "Doc0  (0.0836, The Palestine Police Department is as...   \n",
      "Doc1  (0.0836, President Obama and Hillary Clinton c...   \n",
      "Doc2  (0.0836, WASHINGTON \"\"\" Many West Virginians v...   \n",
      "Doc3  (0.0836, Sreedhar Potarazu, an ophthalmologist...   \n",
      "Doc4  (0.0836, Economic downturns like the one Presi...   \n",
      "Doc5  (0.0836, We drink too much. We smoke too much....   \n",
      "Doc6  (0.0836, The merger of Cloudamour and RedPixie...   \n",
      "Doc7  (0.0836, At this point, Microsoft's long-time ...   \n",
      "Doc8  (0.0836, A Canadian legal scholar appointed as...   \n",
      "Doc9  (0.0836, Consumer confidence fell last week ev...   \n",
      "\n",
      "                                                 Topic3  \n",
      "Doc0  (0.1077, It's both fascinating and ironic how ...  \n",
      "Doc1  (0.1077, It's been half a year since we propos...  \n",
      "Doc2  (0.0856, (Reuters) \"\"\" On Monday, U.S. Distric...  \n",
      "Doc3  (0.0852, Yeah, it seemed radical at the time\"\"...  \n",
      "Doc4  (0.0841, The economy is still creating jobs\"\"\"...  \n",
      "Doc5  (0.0828, An unequivocal feather in Mr. Obama's...  \n",
      "Doc6  (0.0814, After years of sanctions and isolatio...  \n",
      "Doc7  (0.0814, You know, President Obama and Jay Car...  \n",
      "Doc8  (0.0814, Just over a year ago, Microsoft annou...  \n",
      "Doc9  (0.0814, President Obama isn't scheduled to la...  \n"
     ]
    }
   ],
   "source": [
    "# document-topic table\n",
    "\n",
    "print(H_df)"
   ]
  },
  {
   "cell_type": "markdown",
   "metadata": {},
   "source": [
    "#### Exercise 7.12: Visualizing NMF"
   ]
  },
  {
   "cell_type": "code",
   "execution_count": 56,
   "metadata": {},
   "outputs": [
    {
     "name": "stdout",
     "output_type": "stream",
     "text": [
      "(92948, 4)\n",
      "[[5.12632511e-02 3.68112051e-15 3.00415344e-34 7.90919766e-16]\n",
      " [7.39918652e-04 2.04038883e-02 6.59134661e-15 2.14585268e-03]\n",
      " [2.86011094e-15 1.94109277e-02 4.64474319e-21 1.17215331e-18]\n",
      " ...\n",
      " [9.50873332e-06 3.41040455e-03 6.12811763e-04 3.23969615e-02]\n",
      " [6.39022594e-07 1.35400871e-07 3.34785940e-08 6.13738763e-02]\n",
      " [4.48322231e-05 1.16811977e-04 1.84723649e-02 2.01211122e-03]]\n"
     ]
    }
   ],
   "source": [
    "# output raw document-topic matrix for t-SNE plot\n",
    "\n",
    "nmf_transform = nmf.transform(clean_vec2)\n",
    "print(nmf_transform.shape)\n",
    "print(nmf_transform)"
   ]
  },
  {
   "cell_type": "code",
   "execution_count": 57,
   "metadata": {},
   "outputs": [
    {
     "name": "stdout",
     "output_type": "stream",
     "text": [
      "LENGTH:\n",
      "92948\n",
      "\n",
      "COUNTS:\n",
      "[[    0 28975]\n",
      " [    1 32948]\n",
      " [    2 22145]\n",
      " [    3  8880]]\n",
      "\n"
     ]
    },
    {
     "data": {
      "image/png": "[encoded data removed]",
      "text/plain": [
       "<Figure size 432x288 with 1 Axes>"
      ]
     },
     "metadata": {
      "needs_background": "light"
     },
     "output_type": "display_data"
    }
   ],
   "source": [
    "# run function to produce t-SNE plot\n",
    "\n",
    "plot_tsne(data=nmf_transform, threshold=0)"
   ]
  }
 ],
 "metadata": {
  "kernelspec": {
   "display_name": "Python 3",
   "language": "python",
   "name": "python3"
  },
  "language_info": {
   "codemirror_mode": {
    "name": "ipython",
    "version": 3
   },
   "file_extension": ".py",
   "mimetype": "text/x-python",
   "name": "python",
   "nbconvert_exporter": "python",
   "pygments_lexer": "ipython3",
   "version": "3.6.8"
  }
 },
 "nbformat": 4,
 "nbformat_minor": 2
}
