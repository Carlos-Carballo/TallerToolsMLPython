{
 "cells": [
  {
   "cell_type": "code",
   "execution_count": 1,
   "metadata": {},
   "outputs": [
    {
     "name": "stderr",
     "output_type": "stream",
     "text": [
      "Using TensorFlow backend.\n"
     ]
    }
   ],
   "source": [
    "import pickle\n",
    "import numpy as np\n",
    "import matplotlib.pyplot as plt\n",
    "from keras.models import Model\n",
    "from keras.layers import Input, Dense\n",
    "\n",
    "import tensorflow.python.util.deprecation as deprecation\n",
    "deprecation._PRINT_DEPRECATION_WARNINGS = False"
   ]
  },
  {
   "cell_type": "code",
   "execution_count": 2,
   "metadata": {},
   "outputs": [],
   "source": [
    "with open('mnist.pkl', 'rb') as f:\n",
    "    images = pickle.load(f)['images']"
   ]
  },
  {
   "cell_type": "code",
   "execution_count": 3,
   "metadata": {},
   "outputs": [],
   "source": [
    "images = images.reshape((-1, 28 ** 2))\n",
    "images = images / 255."
   ]
  },
  {
   "cell_type": "code",
   "execution_count": 4,
   "metadata": {},
   "outputs": [],
   "source": [
    "input_stage = Input(shape=(784,))\n",
    "encoding_stage = Dense(100, activation='relu')(input_stage)\n",
    "decoding_stage = Dense(784, activation='sigmoid')(encoding_stage)\n",
    "autoencoder = Model(input_stage, decoding_stage)"
   ]
  },
  {
   "cell_type": "code",
   "execution_count": 5,
   "metadata": {},
   "outputs": [],
   "source": [
    "autoencoder.compile(loss='binary_crossentropy',\n",
    "              optimizer='adadelta')"
   ]
  },
  {
   "cell_type": "code",
   "execution_count": 6,
   "metadata": {},
   "outputs": [
    {
     "name": "stdout",
     "output_type": "stream",
     "text": [
      "Epoch 1/100\n",
      "10000/10000 [==============================] - 4s 401us/step - loss: 0.3246\n",
      "Epoch 2/100\n",
      "10000/10000 [==============================] - 3s 254us/step - loss: 0.2355\n",
      "Epoch 3/100\n",
      "10000/10000 [==============================] - 3s 253us/step - loss: 0.2053\n",
      "Epoch 4/100\n",
      "10000/10000 [==============================] - 3s 265us/step - loss: 0.1871\n",
      "Epoch 5/100\n",
      "10000/10000 [==============================] - 3s 260us/step - loss: 0.1745\n",
      "Epoch 6/100\n",
      "10000/10000 [==============================] - 2s 239us/step - loss: 0.1647\n",
      "Epoch 7/100\n",
      "10000/10000 [==============================] - 2s 248us/step - loss: 0.1566\n",
      "Epoch 8/100\n",
      "10000/10000 [==============================] - 2s 243us/step - loss: 0.1497\n",
      "Epoch 9/100\n",
      "10000/10000 [==============================] - 2s 237us/step - loss: 0.1437\n",
      "Epoch 10/100\n",
      "10000/10000 [==============================] - 2s 249us/step - loss: 0.1385\n",
      "Epoch 11/100\n",
      "10000/10000 [==============================] - 3s 299us/step - loss: 0.1338\n",
      "Epoch 12/100\n",
      "10000/10000 [==============================] - 2s 235us/step - loss: 0.1296\n",
      "Epoch 13/100\n",
      "10000/10000 [==============================] - 3s 278us/step - loss: 0.1258\n",
      "Epoch 14/100\n",
      "10000/10000 [==============================] - 5s 453us/step - loss: 0.1223 0s - \n",
      "Epoch 15/100\n",
      "10000/10000 [==============================] - 5s 475us/step - loss: 0.1191\n",
      "Epoch 16/100\n",
      "10000/10000 [==============================] - 4s 436us/step - loss: 0.1161\n",
      "Epoch 17/100\n",
      "10000/10000 [==============================] - 5s 454us/step - loss: 0.1133\n",
      "Epoch 18/100\n",
      "10000/10000 [==============================] - 5s 451us/step - loss: 0.1108 0s - loss: 0.11\n",
      "Epoch 19/100\n",
      "10000/10000 [==============================] - 4s 434us/step - loss: 0.1085\n",
      "Epoch 20/100\n",
      "10000/10000 [==============================] - 5s 498us/step - loss: 0.1063\n",
      "Epoch 21/100\n",
      "10000/10000 [==============================] - 5s 452us/step - loss: 0.1044\n",
      "Epoch 22/100\n",
      "10000/10000 [==============================] - 5s 464us/step - loss: 0.1027 1s - - ETA: 0s - loss: - ETA: 0s - loss: 0\n",
      "Epoch 23/100\n",
      "10000/10000 [==============================] - 5s 513us/step - loss: 0.1011\n",
      "Epoch 24/100\n",
      "10000/10000 [==============================] - 5s 470us/step - loss: 0.0996\n",
      "Epoch 25/100\n",
      "10000/10000 [==============================] - 4s 445us/step - loss: 0.0845 0s - loss: 0.0\n",
      "Epoch 46/100\n",
      "10000/10000 [==============================] - 4s 411us/step - loss: 0.0842\n",
      "Epoch 47/100\n",
      "10000/10000 [==============================] - 4s 404us/step - loss: 0.0838\n",
      "Epoch 48/100\n",
      "10000/10000 [==============================] - 4s 437us/step - loss: 0.0835\n",
      "Epoch 49/100\n",
      "10000/10000 [==============================] - 5s 475us/step - loss: 0.0832\n",
      "Epoch 50/100\n",
      "10000/10000 [==============================] - 5s 514us/step - loss: 0.0829\n",
      "Epoch 51/100\n",
      "10000/10000 [==============================] - 5s 539us/step - loss: 0.0826\n",
      "Epoch 52/100\n",
      "10000/10000 [==============================] - 5s 508us/step - loss: 0.0823\n",
      "Epoch 53/100\n",
      "10000/10000 [==============================] - 5s 476us/step - loss: 0.0820\n",
      "Epoch 54/100\n",
      "10000/10000 [==============================] - 5s 489us/step - loss: 0.0817 2s - loss: 0.0 - ETA: \n",
      "Epoch 55/100\n",
      "10000/10000 [==============================] - 5s 476us/step - loss: 0.0815\n",
      "Epoch 56/100\n",
      "10000/10000 [==============================] - 5s 467us/step - loss: 0.0812 4s - loss:  - ETA: 2s - l\n",
      "Epoch 57/100\n",
      "10000/10000 [==============================] - 4s 443us/step - loss: 0.0810\n",
      "Epoch 58/100\n",
      "10000/10000 [==============================] - 4s 438us/step - loss: 0.0808\n",
      "Epoch 59/100\n",
      "10000/10000 [==============================] - 4s 411us/step - loss: 0.0805\n",
      "Epoch 60/100\n",
      "10000/10000 [==============================] - 5s 451us/step - loss: 0.0803\n",
      "Epoch 61/100\n",
      "10000/10000 [==============================] - 4s 422us/step - loss: 0.0801 0s - loss\n",
      "Epoch 62/100\n",
      "10000/10000 [==============================] - 4s 415us/step - loss: 0.0799\n",
      "Epoch 63/100\n",
      "10000/10000 [==============================] - 4s 400us/step - loss: 0.0797\n",
      "Epoch 64/100\n",
      "10000/10000 [==============================] - 4s 422us/step - loss: 0.0795\n",
      "Epoch 65/100\n",
      "10000/10000 [==============================] - 4s 411us/step - loss: 0.0793\n",
      "Epoch 66/100\n",
      "10000/10000 [==============================] - 4s 428us/step - loss: 0.0791\n",
      "Epoch 67/100\n",
      "10000/10000 [==============================] - 4s 419us/step - loss: 0.0790\n",
      "Epoch 68/100\n",
      "10000/10000 [==============================] - 4s 438us/step - loss: 0.0788 0s - los\n",
      "Epoch 69/100\n",
      "10000/10000 [==============================] - 4s 420us/step - loss: 0.0786\n",
      "Epoch 70/100\n",
      "10000/10000 [==============================] - 4s 400us/step - loss: 0.0750\n",
      "Epoch 100/100\n",
      "10000/10000 [==============================] - 4s 430us/step - loss: 0.0749\n"
     ]
    },
    {
     "data": {
      "text/plain": [
       "<keras.callbacks.History at 0x25c4751eb08>"
      ]
     },
     "execution_count": 6,
     "metadata": {},
     "output_type": "execute_result"
    }
   ],
   "source": [
    "autoencoder.fit(images, images, epochs=100)"
   ]
  },
  {
   "cell_type": "code",
   "execution_count": 7,
   "metadata": {},
   "outputs": [],
   "source": [
    "encoder_output = Model(input_stage, encoding_stage).predict(images[:5])"
   ]
  },
  {
   "cell_type": "code",
   "execution_count": 8,
   "metadata": {},
   "outputs": [],
   "source": [
    "encoder_output = encoder_output.reshape((-1, 10, 10)) * 255"
   ]
  },
  {
   "cell_type": "code",
   "execution_count": 9,
   "metadata": {},
   "outputs": [],
   "source": [
    "decoder_output = autoencoder.predict(images[:5])"
   ]
  },
  {
   "cell_type": "code",
   "execution_count": 10,
   "metadata": {},
   "outputs": [],
   "source": [
    "decoder_output = decoder_output.reshape((-1, 28, 28)) * 255"
   ]
  },
  {
   "cell_type": "code",
   "execution_count": 12,
   "metadata": {},
   "outputs": [
    {
     "data": {
      "image/png": "[encoded data removed]",
      "text/plain": [
       "<Figure size 720x504 with 15 Axes>"
      ]
     },
     "metadata": {
      "needs_background": "light"
     },
     "output_type": "display_data"
    }
   ],
   "source": [
    "images = images.reshape((-1, 28, 28))\n",
    "plt.figure(figsize=(10, 7))\n",
    "for i in range(5):\n",
    "    plt.subplot(3, 5, i + 1)\n",
    "    plt.imshow(images[i], cmap='gray')\n",
    "    plt.axis('off')\n",
    "    \n",
    "    plt.subplot(3, 5, i + 6)\n",
    "    plt.imshow(encoder_output[i], cmap='gray')\n",
    "    plt.axis('off')   \n",
    "    \n",
    "    plt.subplot(3, 5, i + 11)\n",
    "    plt.imshow(decoder_output[i], cmap='gray')\n",
    "    plt.axis('off')        "
   ]
  }
 ],
 "metadata": {
  "kernelspec": {
   "display_name": "Python 3",
   "language": "python",
   "name": "python3"
  },
  "language_info": {
   "codemirror_mode": {
    "name": "ipython",
    "version": 3
   },
   "file_extension": ".py",
   "mimetype": "text/x-python",
   "name": "python",
   "nbconvert_exporter": "python",
   "pygments_lexer": "ipython3",
   "version": "3.7.4"
  }
 },
 "nbformat": 4,
 "nbformat_minor": 2
}
