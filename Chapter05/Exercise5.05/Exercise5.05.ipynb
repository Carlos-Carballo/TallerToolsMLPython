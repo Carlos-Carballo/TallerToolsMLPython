{
 "cells": [
  {
   "cell_type": "code",
   "execution_count": 1,
   "metadata": {},
   "outputs": [
    {
     "name": "stderr",
     "output_type": "stream",
     "text": [
      "Using TensorFlow backend.\n"
     ]
    }
   ],
   "source": [
    "import pickle\n",
    "import numpy as np\n",
    "import matplotlib.pyplot as plt\n",
    "from keras.models import Model\n",
    "from keras.layers import Input, Dense\n",
    "import warnings\n",
    "warnings.filterwarnings(\"ignore\", category=DeprecationWarning)"
   ]
  },
  {
   "cell_type": "code",
   "execution_count": 2,
   "metadata": {},
   "outputs": [],
   "source": [
    "with open('data_batch_1', 'rb') as f:\n",
    "    batch_1 = pickle.load(f, encoding='bytes')"
   ]
  },
  {
   "cell_type": "code",
   "execution_count": 3,
   "metadata": {},
   "outputs": [],
   "source": [
    "images = np.zeros((10000, 32, 32, 3), dtype='uint8')\n",
    "\n",
    "for idx, img in enumerate(batch_1[b'data']):\n",
    "    images[idx, :, :, 0] = img[:1024].reshape((32, 32)) # Red\n",
    "    images[idx, :, :, 1] = img[1024:2048].reshape((32, 32)) # Green\n",
    "    images[idx, :, :, 2] = img[2048:].reshape((32, 32)) # Blue"
   ]
  },
  {
   "cell_type": "code",
   "execution_count": 4,
   "metadata": {},
   "outputs": [
    {
     "data": {
      "text/plain": [
       "array([[0.24052288, 0.1751634 , 0.18431373, ..., 0.70588235, 0.46143791,\n",
       "        0.3751634 ],\n",
       "       [0.67712418, 0.52156863, 0.39738562, ..., 0.54248366, 0.54771242,\n",
       "        0.54901961],\n",
       "       [1.        , 0.99215686, 0.99215686, ..., 0.32156863, 0.32287582,\n",
       "        0.32679739],\n",
       "       ...,\n",
       "       [0.25098039, 0.21437908, 0.27843137, ..., 0.28888889, 0.29673203,\n",
       "        0.29934641],\n",
       "       [0.99346405, 0.99477124, 0.85620915, ..., 0.8379085 , 1.        ,\n",
       "        0.99738562],\n",
       "       [0.1620915 , 0.16078431, 0.15816993, ..., 0.64705882, 0.64705882,\n",
       "        0.64836601]])"
      ]
     },
     "execution_count": 4,
     "metadata": {},
     "output_type": "execute_result"
    }
   ],
   "source": [
    "images = images.mean(axis=-1)\n",
    "images = images / 255.0\n",
    "images = images.reshape((-1, 32 ** 2))\n",
    "images"
   ]
  },
  {
   "cell_type": "code",
   "execution_count": 6,
   "metadata": {},
   "outputs": [],
   "source": [
    "input_layer = Input(shape=(1024,))"
   ]
  },
  {
   "cell_type": "code",
   "execution_count": 8,
   "metadata": {},
   "outputs": [],
   "source": [
    "encoding_stage = Dense(256, activation='relu')(input_layer)"
   ]
  },
  {
   "cell_type": "code",
   "execution_count": 9,
   "metadata": {},
   "outputs": [],
   "source": [
    "decoding_stage = Dense(1024, activation='sigmoid')(encoding_stage)"
   ]
  },
  {
   "cell_type": "code",
   "execution_count": 10,
   "metadata": {},
   "outputs": [],
   "source": [
    "autoencoder = Model(input_layer, decoding_stage)"
   ]
  },
  {
   "cell_type": "code",
   "execution_count": 13,
   "metadata": {},
   "outputs": [],
   "source": [
    "autoencoder.compile(loss='binary_crossentropy',\n",
    "              optimizer='adadelta')"
   ]
  },
  {
   "cell_type": "code",
   "execution_count": 14,
   "metadata": {},
   "outputs": [
    {
     "name": "stdout",
     "output_type": "stream",
     "text": [
      "Epoch 1/100\n",
      "10000/10000 [==============================] - 19s 2ms/step - loss: 0.6800\n",
      "Epoch 2/100\n",
      "10000/10000 [==============================] - 17s 2ms/step - loss: 0.6602\n",
      "Epoch 3/100\n",
      "10000/10000 [==============================] - ETA: 0s - loss: 0.650 - 18s 2ms/step - loss: 0.6502\n",
      "Epoch 4/100\n",
      "10000/10000 [==============================] - 20s 2ms/step - loss: 0.6438\n",
      "Epoch 5/100\n",
      "10000/10000 [==============================] - 21s 2ms/step - loss: 0.6377\n",
      "Epoch 6/100\n",
      "10000/10000 [==============================] - 18s 2ms/step - loss: 0.6324\n",
      "Epoch 7/100\n",
      "10000/10000 [==============================] - 18s 2ms/step - loss: 0.6280: 0s - loss: 0.6\n",
      "Epoch 8/100\n",
      "10000/10000 [==============================] - 19s 2ms/step - loss: 0.6240\n",
      "Epoch 9/100\n",
      "10000/10000 [==============================] - 17s 2ms/step - loss: 0.6201\n",
      "Epoch 10/100\n",
      "10000/10000 [==============================] - 16s 2ms/step - loss: 0.6161\n",
      "Epoch 11/100\n",
      "10000/10000 [==============================] - 16s 2ms/step - loss: 0.6123\n",
      "Epoch 12/100\n",
      "10000/10000 [==============================] - 16s 2ms/step - loss: 0.6098\n",
      "Epoch 13/100\n",
      "10000/10000 [==============================] - 16s 2ms/step - loss: 0.6078\n",
      "Epoch 14/100\n",
      "10000/10000 [==============================] - 16s 2ms/step - loss: 0.6068\n",
      "Epoch 15/100\n",
      "10000/10000 [==============================] - 16s 2ms/step - loss: 0.6064\n",
      "Epoch 16/100\n",
      "10000/10000 [==============================] - 16s 2ms/step - loss: 0.6045\n",
      "Epoch 17/100\n",
      "10000/10000 [==============================] - 16s 2ms/step - loss: 0.6020\n",
      "Epoch 18/100\n",
      "10000/10000 [==============================] - 16s 2ms/step - loss: 0.6014\n",
      "Epoch 19/100\n",
      "10000/10000 [==============================] - 17s 2ms/step - loss: 0.6005: 0s - l\n",
      "Epoch 20/100\n",
      "10000/10000 [==============================] - 17s 2ms/step - loss: 0.5997\n",
      "Epoch 21/100\n",
      "10000/10000 [==============================] - 16s 2ms/step - loss: 0.5975\n",
      "Epoch 22/100\n",
      "10000/10000 [==============================] - 16s 2ms/step - loss: 0.5968: 4s -  - ETA: 3s -\n",
      "Epoch 23/100\n",
      "10000/10000 [==============================] - 16s 2ms/step - loss: 0.5967\n",
      "Epoch 24/100\n",
      "10000/10000 [==============================] - 16s 2ms/step - loss: 0.5959\n",
      "Epoch 25/100\n",
      "10000/10000 [==============================] - 16s 2ms/step - loss: 0.5948\n",
      "Epoch 26/100\n",
      "10000/10000 [==============================] - 16s 2ms/step - loss: 0.5935\n",
      "Epoch 27/100\n",
      "10000/10000 [==============================] - 16s 2ms/step - loss: 0.5933\n",
      "Epoch 28/100\n",
      "10000/10000 [==============================] - 16s 2ms/step - loss: 0.5927\n",
      "Epoch 29/100\n",
      "10000/10000 [==============================] - 16s 2ms/step - loss: 0.5924\n",
      "Epoch 30/100\n",
      "10000/10000 [==============================] - 16s 2ms/step - loss: 0.5912\n",
      "Epoch 31/100\n",
      "10000/10000 [==============================] - 16s 2ms/step - loss: 0.5909\n",
      "Epoch 32/100\n",
      "10000/10000 [==============================] - 16s 2ms/step - loss: 0.5906\n",
      "Epoch 33/100\n",
      "10000/10000 [==============================] - 16s 2ms/step - loss: 0.5892\n",
      "Epoch 34/100\n",
      "10000/10000 [==============================] - 16s 2ms/step - loss: 0.5900\n",
      "Epoch 35/100\n",
      "10000/10000 [==============================] - 16s 2ms/step - loss: 0.5889\n",
      "Epoch 36/100\n",
      "10000/10000 [==============================] - 16s 2ms/step - loss: 0.5883\n",
      "Epoch 37/100\n",
      "10000/10000 [==============================] - 16s 2ms/step - loss: 0.5881: 0s - loss: 0.58\n",
      "Epoch 38/100\n",
      "10000/10000 [==============================] - 16s 2ms/step - loss: 0.5874\n",
      "Epoch 39/100\n",
      "10000/10000 [==============================] - 16s 2ms/step - loss: 0.5871\n",
      "Epoch 40/100\n",
      "10000/10000 [==============================] - 16s 2ms/step - loss: 0.5872\n",
      "Epoch 41/100\n",
      "10000/10000 [==============================] - 16s 2ms/step - loss: 0.5866\n",
      "Epoch 42/100\n",
      "10000/10000 [==============================] - 16s 2ms/step - loss: 0.5864\n",
      "Epoch 43/100\n",
      "10000/10000 [==============================] - 16s 2ms/step - loss: 0.5864\n",
      "Epoch 44/100\n",
      "10000/10000 [==============================] - 16s 2ms/step - loss: 0.5858\n",
      "Epoch 45/100\n",
      "10000/10000 [==============================] - 18s 2ms/step - loss: 0.5854\n",
      "Epoch 46/100\n",
      "10000/10000 [==============================] - 18s 2ms/step - loss: 0.5855: 0s - loss: 0.\n",
      "Epoch 47/100\n",
      "10000/10000 [==============================] - 20s 2ms/step - loss: 0.5848\n",
      "Epoch 48/100\n",
      "10000/10000 [==============================] - 21s 2ms/step - loss: 0.5849\n",
      "Epoch 49/100\n",
      "10000/10000 [==============================] - 19s 2ms/step - loss: 0.5846\n",
      "Epoch 50/100\n",
      "10000/10000 [==============================] - 19s 2ms/step - loss: 0.5838: 0s - loss: 0.5\n",
      "Epoch 51/100\n",
      "10000/10000 [==============================] - 19s 2ms/step - loss: 0.5837\n",
      "Epoch 52/100\n",
      "10000/10000 [==============================] - 11s 1ms/step - loss: 0.5839\n",
      "Epoch 53/100\n",
      "10000/10000 [==============================] - 9s 911us/step - loss: 0.5833\n",
      "Epoch 54/100\n",
      "10000/10000 [==============================] - 9s 906us/step - loss: 0.5834\n",
      "Epoch 55/100\n",
      "10000/10000 [==============================] - 9s 880us/step - loss: 0.5828\n",
      "Epoch 56/100\n",
      "10000/10000 [==============================] - 9s 878us/step - loss: 0.5825\n",
      "Epoch 57/100\n",
      "10000/10000 [==============================] - 9s 884us/step - loss: 0.5829\n",
      "Epoch 58/100\n",
      "10000/10000 [==============================] - 9s 887us/step - loss: 0.5826\n",
      "Epoch 59/100\n",
      "10000/10000 [==============================] - ETA: 0s - loss: 0.5826- ETA: 0s - loss: 0.582 - ETA: 0s - loss - 9s 916us/step - loss: 0.5826\n",
      "Epoch 60/100\n",
      "10000/10000 [==============================] - 9s 888us/step - loss: 0.5819\n",
      "Epoch 61/100\n",
      "10000/10000 [==============================] - 9s 906us/step - loss: 0.5817\n",
      "Epoch 62/100\n",
      "10000/10000 [==============================] - 9s 918us/step - loss: 0.5820\n",
      "Epoch 63/100\n",
      "10000/10000 [==============================] - 9s 914us/step - loss: 0.5814\n",
      "Epoch 64/100\n",
      "10000/10000 [==============================] - 9s 909us/step - loss: 0.5817\n",
      "Epoch 65/100\n",
      "10000/10000 [==============================] - 9s 895us/step - loss: 0.5811\n",
      "Epoch 66/100\n",
      "10000/10000 [==============================] - 9s 904us/step - loss: 0.5814\n",
      "Epoch 67/100\n",
      "10000/10000 [==============================] - ETA: 0s - loss: 0.581 - 9s 894us/step - loss: 0.5815\n",
      "Epoch 68/100\n",
      "10000/10000 [==============================] - 9s 907us/step - loss: 0.5809\n",
      "Epoch 69/100\n",
      "10000/10000 [==============================] - 9s 887us/step - loss: 0.5807\n",
      "Epoch 70/100\n",
      "10000/10000 [==============================] - 9s 910us/step - loss: 0.5804 0s - loss\n",
      "Epoch 71/100\n",
      "10000/10000 [==============================] - 9s 891us/step - loss: 0.5804 0s - lo\n",
      "Epoch 72/100\n",
      "10000/10000 [==============================] - 9s 903us/step - loss: 0.5802\n",
      "Epoch 73/100\n",
      "10000/10000 [==============================] - 9s 897us/step - loss: 0.5803\n",
      "Epoch 74/100\n",
      "10000/10000 [==============================] - 9s 870us/step - loss: 0.5804\n",
      "Epoch 75/100\n",
      "10000/10000 [==============================] - 9s 881us/step - loss: 0.5801\n",
      "Epoch 76/100\n",
      "10000/10000 [==============================] - 9s 857us/step - loss: 0.5797\n",
      "Epoch 77/100\n",
      "10000/10000 [==============================] - 9s 910us/step - loss: 0.5797\n",
      "Epoch 78/100\n",
      "10000/10000 [==============================] - 9s 879us/step - loss: 0.5797\n",
      "Epoch 79/100\n",
      "10000/10000 [==============================] - 9s 899us/step - loss: 0.5796 0s - loss: 0.\n",
      "Epoch 80/100\n",
      "10000/10000 [==============================] - 9s 901us/step - loss: 0.5794\n",
      "Epoch 81/100\n",
      "10000/10000 [==============================] - 9s 902us/step - loss: 0.5792\n",
      "Epoch 82/100\n",
      "10000/10000 [==============================] - 9s 906us/step - loss: 0.5793\n",
      "Epoch 83/100\n",
      "10000/10000 [==============================] - 9s 896us/step - loss: 0.5790 0s - los\n",
      "Epoch 84/100\n",
      "10000/10000 [==============================] - 9s 916us/step - loss: 0.5790 0s - lo\n",
      "Epoch 85/100\n",
      "10000/10000 [==============================] - 9s 893us/step - loss: 0.5790 1s - loss: 0.57 - E\n",
      "Epoch 86/100\n",
      "10000/10000 [==============================] - 9s 904us/step - loss: 0.5789\n",
      "Epoch 87/100\n",
      "10000/10000 [==============================] - 9s 906us/step - loss: 0.5787\n",
      "Epoch 88/100\n",
      "10000/10000 [==============================] - 9s 912us/step - loss: 0.5787\n",
      "Epoch 89/100\n",
      "10000/10000 [==============================] - 9s 915us/step - loss: 0.5787\n",
      "Epoch 90/100\n"
     ]
    },
    {
     "name": "stdout",
     "output_type": "stream",
     "text": [
      "10000/10000 [==============================] - 9s 908us/step - loss: 0.5785\n",
      "Epoch 91/100\n",
      "10000/10000 [==============================] - 9s 899us/step - loss: 0.5784\n",
      "Epoch 92/100\n",
      "10000/10000 [==============================] - 9s 883us/step - loss: 0.5783\n",
      "Epoch 93/100\n",
      "10000/10000 [==============================] - 9s 909us/step - loss: 0.5782\n",
      "Epoch 94/100\n",
      "10000/10000 [==============================] - 9s 874us/step - loss: 0.5783\n",
      "Epoch 95/100\n",
      "10000/10000 [==============================] - 9s 908us/step - loss: 0.5781\n",
      "Epoch 96/100\n",
      "10000/10000 [==============================] - 9s 873us/step - loss: 0.5780\n",
      "Epoch 97/100\n",
      "10000/10000 [==============================] - 9s 916us/step - loss: 0.5780\n",
      "Epoch 98/100\n",
      "10000/10000 [==============================] - 9s 890us/step - loss: 0.5778\n",
      "Epoch 99/100\n",
      "10000/10000 [==============================] - 9s 892us/step - loss: 0.5777 0s - loss: 0\n",
      "Epoch 100/100\n",
      "10000/10000 [==============================] - 9s 904us/step - loss: 0.5778\n"
     ]
    },
    {
     "data": {
      "text/plain": [
       "<keras.callbacks.History at 0x1e4d87eefc8>"
      ]
     },
     "execution_count": 14,
     "metadata": {},
     "output_type": "execute_result"
    }
   ],
   "source": [
    "autoencoder.fit(images, images, epochs=100)"
   ]
  },
  {
   "cell_type": "code",
   "execution_count": 15,
   "metadata": {},
   "outputs": [],
   "source": [
    "encoder_output = Model(input_layer, encoding_stage).predict(images[:5])"
   ]
  },
  {
   "cell_type": "code",
   "execution_count": 16,
   "metadata": {},
   "outputs": [],
   "source": [
    "encoder_output = encoder_output.reshape((-1, 16, 16)) * 255"
   ]
  },
  {
   "cell_type": "code",
   "execution_count": 17,
   "metadata": {},
   "outputs": [],
   "source": [
    "decoder_output = autoencoder.predict(images[:5])"
   ]
  },
  {
   "cell_type": "code",
   "execution_count": 18,
   "metadata": {},
   "outputs": [],
   "source": [
    "decoder_output = decoder_output.reshape((-1, 32,32)) * 255"
   ]
  },
  {
   "cell_type": "code",
   "execution_count": 19,
   "metadata": {},
   "outputs": [],
   "source": [
    "images = images.reshape((-1, 32, 32))"
   ]
  },
  {
   "cell_type": "code",
   "execution_count": 20,
   "metadata": {},
   "outputs": [
    {
     "data": {
      "image/png": "[encoded data removed]",
      "text/plain": [
       "<Figure size 720x504 with 15 Axes>"
      ]
     },
     "metadata": {
      "needs_background": "light"
     },
     "output_type": "display_data"
    }
   ],
   "source": [
    "plt.figure(figsize=(10, 7))\n",
    "for i in range(5):\n",
    "    # Plot the original image\n",
    "    plt.subplot(3, 5, i + 1)\n",
    "    plt.imshow(images[i], cmap='gray')\n",
    "    plt.axis('off')\n",
    "    \n",
    "    # Plot the encoder output\n",
    "    plt.subplot(3, 5, i + 6)\n",
    "    plt.imshow(encoder_output[i], cmap='gray')\n",
    "    plt.axis('off')   \n",
    "    \n",
    "    # Plot the decoder output\n",
    "    plt.subplot(3, 5, i + 11)\n",
    "    plt.imshow(decoder_output[i], cmap='gray')\n",
    "    plt.axis('off')        "
   ]
  }
 ],
 "metadata": {
  "kernelspec": {
   "display_name": "Python 3",
   "language": "python",
   "name": "python3"
  },
  "language_info": {
   "codemirror_mode": {
    "name": "ipython",
    "version": 3
   },
   "file_extension": ".py",
   "mimetype": "text/x-python",
   "name": "python",
   "nbconvert_exporter": "python",
   "pygments_lexer": "ipython3",
   "version": "3.7.4"
  }
 },
 "nbformat": 4,
 "nbformat_minor": 2
}
