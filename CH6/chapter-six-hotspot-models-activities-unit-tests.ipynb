{
 "cells": [
  {
   "cell_type": "markdown",
   "metadata": {},
   "source": [
    "### Chapter 6 Activity Unit Tests"
   ]
  },
  {
   "cell_type": "code",
   "execution_count": null,
   "metadata": {},
   "outputs": [],
   "source": [
    "import numpy"
   ]
  },
  {
   "cell_type": "markdown",
   "metadata": {},
   "source": [
    "##### Activity 6.01 Unit Test"
   ]
  },
  {
   "cell_type": "code",
   "execution_count": null,
   "metadata": {},
   "outputs": [],
   "source": [
    "def unittest_activity_6_01(d, b):\n",
    "    assert int(round(numpy.sum(d))) == 2171, \"Vals vector sum incorrect\"\n",
    "    assert round(b, 1) == 0.4, \"Wrong bandwidth\"\n",
    "\n",
    "unittest_activity_6_01(d=vals, b=best_bandwidth)"
   ]
  },
  {
   "cell_type": "markdown",
   "metadata": {},
   "source": [
    "##### Activity 6.02 Unit Test"
   ]
  },
  {
   "cell_type": "code",
   "execution_count": null,
   "metadata": {},
   "outputs": [],
   "source": [
    "def unittest_activity_6_02(data, env, tag):\n",
    "    assert data.shape == (546032, 12), \"London data frame dimensions wrong\"\n",
    "    tag_length = int(len([i for i in env if i.startswith(tag)]))\n",
    "    assert tag_length == 9, \"Filtered data frame count incorrect\"\n",
    "\n",
    "unittest_activity_6_02(data=london, env=dir(), tag='crime')"
   ]
  },
  {
   "cell_type": "code",
   "execution_count": null,
   "metadata": {},
   "outputs": [],
   "source": []
  }
 ],
 "metadata": {
  "kernelspec": {
   "display_name": "Python 3",
   "language": "python",
   "name": "python3"
  },
  "language_info": {
   "codemirror_mode": {
    "name": "ipython",
    "version": 3
   },
   "file_extension": ".py",
   "mimetype": "text/x-python",
   "name": "python",
   "nbconvert_exporter": "python",
   "pygments_lexer": "ipython3",
   "version": "3.7.4"
  }
 },
 "nbformat": 4,
 "nbformat_minor": 2
}
