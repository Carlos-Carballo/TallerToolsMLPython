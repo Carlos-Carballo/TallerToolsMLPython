{
 "cells": [
  {
   "cell_type": "markdown",
   "metadata": {},
   "source": [
    "### Chapter 6 Exercise Unit Tests"
   ]
  },
  {
   "cell_type": "markdown",
   "metadata": {},
   "source": [
    "##### Exercise 6.01 Unit Test"
   ]
  },
  {
   "cell_type": "code",
   "execution_count": null,
   "metadata": {},
   "outputs": [],
   "source": [
    "def unittest_exercise_6_01(v1, v2, v3, v4):\n",
    "    assert len(v1) == 10000, \"X_vec length wrong\"\n",
    "    assert int(round(sum(v2)[0])) == -157, \"Sum of sampled values wrong\"\n",
    "    assert len(v3) == 10000, \"True density length wrong\"\n",
    "    assert len(v4) == 9, \"Plot dimensions incorrect\"\n",
    "\n",
    "unittest_exercise_6_01(v1=x_vec, v2=vals, v3=true_density, v4=position_bandwidth_vec)"
   ]
  },
  {
   "cell_type": "markdown",
   "metadata": {},
   "source": [
    "##### Exercise 6.02 Unit Test"
   ]
  },
  {
   "cell_type": "code",
   "execution_count": null,
   "metadata": {},
   "outputs": [],
   "source": [
    "def unittest_exercise_6_02(env, terms):\n",
    "    for t in terms:\n",
    "        filt = [i for i in terms if i == t]\n",
    "        assert len(filt) == 1, \"Object (\" + t + \") not in environment\"\n",
    "\n",
    "unittest_exercise_6_02(env=dir(), terms=['grid', 'best_bandwidth'])"
   ]
  },
  {
   "cell_type": "markdown",
   "metadata": {},
   "source": [
    "##### Exercise 6.03 Unit Test"
   ]
  },
  {
   "cell_type": "code",
   "execution_count": null,
   "metadata": {},
   "outputs": [],
   "source": [
    "def unittest_exercise_6_03(v):\n",
    "    assert len(v) == 6, \"Plot not correct\"\n",
    "    assert list(set([isinstance(i, tuple) for i in v]))[0], \"Data format incorrect\"\n",
    "\n",
    "unittest_exercise_6_03(v=position_kernel_vec)"
   ]
  },
  {
   "cell_type": "markdown",
   "metadata": {},
   "source": [
    "##### Exercise 6.04 Unit Test"
   ]
  },
  {
   "cell_type": "code",
   "execution_count": null,
   "metadata": {},
   "outputs": [],
   "source": [
    "def unittest_exercise_6_04(env, names):\n",
    "    plt_list = [i for i in env if i in names]\n",
    "    assert len(plt_list) == 2, \"Number of plots wrong\"\n",
    "\n",
    "unittest_exercise_6_04(env=dir(), names=['figOne', 'figMulti'])"
   ]
  },
  {
   "cell_type": "markdown",
   "metadata": {},
   "source": [
    "##### Exercise 6.05 Unit Test"
   ]
  },
  {
   "cell_type": "code",
   "execution_count": null,
   "metadata": {},
   "outputs": [],
   "source": [
    "def unittest_exercise_6_05(df1, df2, df3):\n",
    "    assert df1.shape == (20640, 8), \"Df1 dimensions incorrect\"\n",
    "    assert df2.shape == (3287, 2), \"Df2 dimensions incorrect\"\n",
    "    assert df3.shape == (3878, 2), \"Df3 dimensions incorrect\"\n",
    "\n",
    "unittest_exercise_6_05(df1=df, df2=dfLess15, df3=dfMore40)"
   ]
  },
  {
   "cell_type": "markdown",
   "metadata": {},
   "source": [
    "##### Exercise 6.06 Unit Test"
   ]
  },
  {
   "cell_type": "code",
   "execution_count": null,
   "metadata": {},
   "outputs": [],
   "source": [
    "def unittest_exercise_6_06(env, names):\n",
    "    plt_list = [i for i in env if i in names]\n",
    "    assert len(plt_list) == 4, \"Number of objects wrong\"\n",
    "\n",
    "unittest_exercise_6_06(env=dir(), names=['kde15', 'fig15', 'kde40', 'fig40'])"
   ]
  },
  {
   "cell_type": "code",
   "execution_count": null,
   "metadata": {},
   "outputs": [],
   "source": []
  }
 ],
 "metadata": {
  "kernelspec": {
   "display_name": "Python 3",
   "language": "python",
   "name": "python3"
  },
  "language_info": {
   "codemirror_mode": {
    "name": "ipython",
    "version": 3
   },
   "file_extension": ".py",
   "mimetype": "text/x-python",
   "name": "python",
   "nbconvert_exporter": "python",
   "pygments_lexer": "ipython3",
   "version": "3.7.4"
  }
 },
 "nbformat": 4,
 "nbformat_minor": 2
}
