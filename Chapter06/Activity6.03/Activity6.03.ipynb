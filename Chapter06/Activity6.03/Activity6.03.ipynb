{
 "cells": [
  {
   "cell_type": "code",
   "execution_count": null,
   "metadata": {},
   "outputs": [],
   "source": [
    "import pandas as pd\n",
    "import numpy as np\n",
    "import matplotlib.pyplot as plt\n",
    "from sklearn.decomposition import PCA\n",
    "from sklearn.manifold import TSNE"
   ]
  },
  {
   "cell_type": "code",
   "execution_count": null,
   "metadata": {},
   "outputs": [],
   "source": [
    "df = pd.read_csv('wine.data', header=None)\n",
    "df.head()"
   ]
  },
  {
   "cell_type": "code",
   "execution_count": null,
   "metadata": {},
   "outputs": [],
   "source": [
    "labels = df[0]\n",
    "del df[0]"
   ]
  },
  {
   "cell_type": "code",
   "execution_count": null,
   "metadata": {},
   "outputs": [],
   "source": [
    "model_pca = PCA(n_components=6)\n",
    "wine_pca = model_pca.fit_transform(df)\n",
    "wine_pca = wine_pca.reshape((len(wine_pca), -1))"
   ]
  },
  {
   "cell_type": "code",
   "execution_count": null,
   "metadata": {},
   "outputs": [],
   "source": [
    "MARKER = ['o', 'v', '1', 'p' ,'*', '+', 'x', 'd', '4', '.']\n",
    "for iterations in [250, 500, 1000]:\n",
    "    model_tsne = TSNE(random_state=0, verbose=1, n_iter=iterations, n_iter_without_progress=iterations)\n",
    "    wine_tsne = model_tsne.fit_transform(wine_pca)\n",
    "    plt.figure(figsize=(10, 7))\n",
    "    plt.title(f'Low Dimensional Representation of Wine (iterations = {iterations})');\n",
    "    for i in range(10):\n",
    "        selections = wine_tsne[labels == i]\n",
    "        plt.scatter(selections[:,0], selections[:,1], alpha=0.7, marker=MARKER[i], s=10);\n",
    "        x, y = selections.mean(axis=0)\n",
    "        plt.text(x, y, str(i), fontdict={'weight': 'bold', 'size': 30}) \n",
    "plt.show()"
   ]
  }
 ],
 "metadata": {
  "kernelspec": {
   "display_name": "Python 3",
   "language": "python",
   "name": "python3"
  },
  "language_info": {
   "codemirror_mode": {
    "name": "ipython",
    "version": 3
   },
   "file_extension": ".py",
   "mimetype": "text/x-python",
   "name": "python",
   "nbconvert_exporter": "python",
   "pygments_lexer": "ipython3",
   "version": "3.7.4"
  }
 },
 "nbformat": 4,
 "nbformat_minor": 2
}
